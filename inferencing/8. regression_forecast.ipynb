{
 "cells": [
  {
   "cell_type": "code",
   "execution_count": 1,
   "id": "011fe818",
   "metadata": {
    "execution": {
     "iopub.execute_input": "2024-11-05T11:09:53.591078Z",
     "iopub.status.busy": "2024-11-05T11:09:53.590827Z",
     "iopub.status.idle": "2024-11-05T11:10:07.622161Z",
     "shell.execute_reply": "2024-11-05T11:10:07.621406Z"
    }
   },
   "outputs": [
    {
     "name": "stdout",
     "output_type": "stream",
     "text": [
      "Collecting xgboost\r\n"
     ]
    },
    {
     "name": "stdout",
     "output_type": "stream",
     "text": [
      "  Downloading xgboost-2.1.2-py3-none-manylinux2014_x86_64.whl.metadata (2.0 kB)\r\n",
      "Requirement already satisfied: numpy in /home/ec2-user/anaconda3/envs/pytorch_p310/lib/python3.10/site-packages (from xgboost) (1.26.4)\r\n",
      "Requirement already satisfied: scipy in /home/ec2-user/anaconda3/envs/pytorch_p310/lib/python3.10/site-packages (from xgboost) (1.14.1)\r\n"
     ]
    },
    {
     "name": "stdout",
     "output_type": "stream",
     "text": [
      "Downloading xgboost-2.1.2-py3-none-manylinux2014_x86_64.whl (4.5 MB)\r\n",
      "\u001b[?25l   \u001b[90m━━━━━━━━━━━━━━━━━━━━━━━━━━━━━━━━━━━━━━━━\u001b[0m \u001b[32m0.0/4.5 MB\u001b[0m \u001b[31m?\u001b[0m eta \u001b[36m-:--:--\u001b[0m"
     ]
    },
    {
     "name": "stdout",
     "output_type": "stream",
     "text": [
      "\r",
      "\u001b[2K   \u001b[90m━━━━━━━━━━━━━━━━━━━━━━━━━━━━━━━━━━━━━━━━\u001b[0m \u001b[32m4.5/4.5 MB\u001b[0m \u001b[31m45.2 MB/s\u001b[0m eta \u001b[36m0:00:00\u001b[0m\r\n",
      "\u001b[?25h"
     ]
    },
    {
     "name": "stdout",
     "output_type": "stream",
     "text": [
      "Installing collected packages: xgboost\r\n"
     ]
    },
    {
     "name": "stdout",
     "output_type": "stream",
     "text": [
      "Successfully installed xgboost-2.1.2\r\n"
     ]
    },
    {
     "name": "stdout",
     "output_type": "stream",
     "text": [
      "Collecting openpyxl\r\n"
     ]
    },
    {
     "name": "stdout",
     "output_type": "stream",
     "text": [
      "  Downloading openpyxl-3.1.5-py2.py3-none-any.whl.metadata (2.5 kB)\r\n"
     ]
    },
    {
     "name": "stdout",
     "output_type": "stream",
     "text": [
      "Collecting et-xmlfile (from openpyxl)\r\n",
      "  Downloading et_xmlfile-2.0.0-py3-none-any.whl.metadata (2.7 kB)\r\n",
      "Downloading openpyxl-3.1.5-py2.py3-none-any.whl (250 kB)\r\n"
     ]
    },
    {
     "name": "stdout",
     "output_type": "stream",
     "text": [
      "Downloading et_xmlfile-2.0.0-py3-none-any.whl (18 kB)\r\n"
     ]
    },
    {
     "name": "stdout",
     "output_type": "stream",
     "text": [
      "Installing collected packages: et-xmlfile, openpyxl\r\n"
     ]
    },
    {
     "name": "stdout",
     "output_type": "stream",
     "text": [
      "Successfully installed et-xmlfile-2.0.0 openpyxl-3.1.5\r\n"
     ]
    }
   ],
   "source": [
    "!pip install xgboost\n",
    "!pip install openpyxl"
   ]
  },
  {
   "cell_type": "code",
   "execution_count": 2,
   "id": "80f0352f-ee0f-405c-bbe1-bf63b38fdbbe",
   "metadata": {
    "execution": {
     "iopub.execute_input": "2024-11-05T11:10:07.624465Z",
     "iopub.status.busy": "2024-11-05T11:10:07.624180Z",
     "iopub.status.idle": "2024-11-05T11:10:48.218249Z",
     "shell.execute_reply": "2024-11-05T11:10:48.217614Z"
    }
   },
   "outputs": [
    {
     "name": "stdout",
     "output_type": "stream",
     "text": [
      "sagemaker.config INFO - Not applying SDK defaults from location: /etc/xdg/sagemaker/config.yaml\n"
     ]
    },
    {
     "name": "stdout",
     "output_type": "stream",
     "text": [
      "sagemaker.config INFO - Not applying SDK defaults from location: /home/ec2-user/.config/sagemaker/config.yaml\n"
     ]
    },
    {
     "name": "stderr",
     "output_type": "stream",
     "text": [
      "/home/ec2-user/anaconda3/envs/pytorch_p310/lib/python3.10/site-packages/xgboost/core.py:265: FutureWarning: Your system has an old version of glibc (< 2.28). We will stop supporting Linux distros with glibc older than 2.28 after **May 31, 2025**. Please upgrade to a recent Linux distro (with glibc 2.28+) to use future versions of XGBoost.\n",
      "Note: You have installed the 'manylinux2014' variant of XGBoost. Certain features such as GPU algorithms or federated learning are not available. To use these features, please upgrade to a recent Linux distro with glibc 2.28+, and install the 'manylinux_2_28' variant.\n",
      "  warnings.warn(\n"
     ]
    }
   ],
   "source": [
    "import numpy as np\n",
    "import pandas as pd\n",
    "from dateutil.relativedelta import relativedelta\n",
    "import os\n",
    "import glob\n",
    "import boto3\n",
    "import s3fs\n",
    "import tarfile\n",
    "import joblib\n",
    "import tempfile\n",
    "# **IMPORTANT**: Have to do this line *before* importing tensorflow\n",
    "os.environ['PYTHONHASHSEED'] = str(2)\n",
    "os.environ['TF_DETERMINISTIC_OPS'] = '1'\n",
    "os.environ['TF_CUDNN_DETERMINISTIC'] = '1'\n",
    "from time import gmtime, strftime\n",
    "import sagemaker\n",
    "from sagemaker.sklearn import SKLearn\n",
    "from sagemaker import get_execution_role\n",
    "from sagemaker.inputs import TrainingInput\n",
    "from sklearn.preprocessing import MinMaxScaler\n",
    "#import tensorflow as tf\n",
    "from pickle import dump, load\n",
    "import warnings\n",
    "\n",
    "import random\n",
    "# def reset_random_seeds():\n",
    "#     os.environ['PYTHONHASHSEED'] = str(2)\n",
    "#     tf.random.set_seed(2)\n",
    "#     np.random.seed(2)\n",
    "#     random.seed(2)\n",
    "#     tf.keras.utils.set_random_seed(2024)\n",
    "\n",
    "# # Make some random data\n",
    "# reset_random_seeds()\n",
    "\n",
    "# # Set seed for reproducibility\n",
    "# np.random.seed(42)\n",
    "# #tf.random.set_seed(42)\n",
    "# pd.options.mode.chained_assignment = None\n",
    "\n",
    "# Import modules\n",
    "import itertools\n",
    "import logging\n",
    "import math\n",
    "import pickle\n",
    "from datetime import datetime\n",
    "from config_module import Config\n",
    "config = Config()\n",
    "\n",
    "import ast\n",
    "import seaborn as sn\n",
    "import xgboost as xgb\n",
    "from matplotlib import pyplot as plt\n",
    "from pandas.plotting import register_matplotlib_converters\n",
    "from sklearn.feature_selection import SelectKBest, f_regression\n",
    "from sklearn.linear_model import Lasso, LinearRegression, Ridge\n",
    "from sklearn.metrics import (mean_absolute_error, mean_absolute_percentage_error,\n",
    "                             mean_squared_error)\n",
    "from sklearn.model_selection import (GridSearchCV, TimeSeriesSplit,\n",
    "                                     train_test_split)\n",
    "from sklearn.preprocessing import StandardScaler\n",
    "warnings.filterwarnings('ignore')\n",
    "random.seed(12)"
   ]
  },
  {
   "cell_type": "code",
   "execution_count": 3,
   "id": "40f5e9f5-eb2a-4371-916e-0d3b771b1165",
   "metadata": {
    "execution": {
     "iopub.execute_input": "2024-11-05T11:10:48.220636Z",
     "iopub.status.busy": "2024-11-05T11:10:48.220195Z",
     "iopub.status.idle": "2024-11-05T11:10:48.224475Z",
     "shell.execute_reply": "2024-11-05T11:10:48.223975Z"
    }
   },
   "outputs": [],
   "source": [
    "def read_file(file_path):\n",
    "    file_extension = os.path.splitext(file_path)[1].lower()\n",
    "    \n",
    "    if file_extension == '.xlsx':\n",
    "        # Read Excel file\n",
    "        data = pd.read_excel(file_path)\n",
    "    elif file_extension == '.csv':\n",
    "        # Read CSV file\n",
    "        data = pd.read_csv(file_path)\n",
    "    elif file_extension == '.txt':\n",
    "        # Read TXT file\n",
    "        data = pd.read_csv(file_path)\n",
    "    else:\n",
    "        raise ValueError(\"Unsupported file format: {}\".format(file_extension))\n",
    "    \n",
    "    return data"
   ]
  },
  {
   "cell_type": "code",
   "execution_count": 4,
   "id": "e1084e4b-b9f5-4d3e-9acd-c515973139a1",
   "metadata": {
    "execution": {
     "iopub.execute_input": "2024-11-05T11:10:48.226240Z",
     "iopub.status.busy": "2024-11-05T11:10:48.225988Z",
     "iopub.status.idle": "2024-11-05T11:10:48.231106Z",
     "shell.execute_reply": "2024-11-05T11:10:48.230610Z"
    }
   },
   "outputs": [],
   "source": [
    "def get_latest_file(folder_path, file_prefix):\n",
    "    # Construct the search pattern for the CSV files with the given prefix\n",
    "    search_pattern = os.path.join(folder_path, f\"{file_prefix}*\")\n",
    "    \n",
    "    \n",
    "    # Get the list of matching files\n",
    "    csv_files = glob.glob(search_pattern)\n",
    "    \n",
    "    \n",
    "    if not csv_files:\n",
    "        print(\"No CSV files found.\")\n",
    "        return None\n",
    "    \n",
    "    # Extract the datetime part and convert it to a datetime object\n",
    "    csv_files_with_dates = []\n",
    "    for file in csv_files:\n",
    "        try:\n",
    "            # Extract the datetime stamp from the file name\n",
    "            datetime_stamp = file[len(folder_path) + len(file_prefix) + 1:-5]\n",
    "            # print(datetime_stamp)\n",
    "            file_datetime = datetime.strptime(datetime_stamp, \"%y%m%d_%H%M%S\")\n",
    "            csv_files_with_dates.append((file, file_datetime))\n",
    "        except ValueError:\n",
    "            print(f\"Could not parse date from file name: {file}\")\n",
    "    \n",
    "    if not csv_files_with_dates:\n",
    "        print(\"No valid CSV files found.\")\n",
    "        return None\n",
    "    \n",
    "    # Sort the files by datetime in descending order and get the latest one\n",
    "    latest_file = max(csv_files_with_dates, key=lambda x: x[1])[0]\n",
    "    \n",
    "    return latest_file"
   ]
  },
  {
   "cell_type": "code",
   "execution_count": 5,
   "id": "0c17aff3",
   "metadata": {
    "execution": {
     "iopub.execute_input": "2024-11-05T11:10:48.232817Z",
     "iopub.status.busy": "2024-11-05T11:10:48.232569Z",
     "iopub.status.idle": "2024-11-05T11:10:48.238565Z",
     "shell.execute_reply": "2024-11-05T11:10:48.238067Z"
    }
   },
   "outputs": [],
   "source": [
    "def get_latest_s3_file(bucket_name, prefix, file_prefix):\n",
    "    s3 = boto3.client('s3')\n",
    "    \n",
    "    # List all objects under the given prefix\n",
    "    response = s3.list_objects_v2(Bucket=bucket_name, Prefix=prefix)\n",
    "    \n",
    "    if 'Contents' not in response:\n",
    "        print(\"No files found.\")\n",
    "        return None\n",
    "    \n",
    "    # Filter objects that start with the specific file prefix\n",
    "    filtered_files = [\n",
    "        obj for obj in response['Contents'] \n",
    "        if obj['Key'].startswith(f\"{prefix}{file_prefix}\")\n",
    "    ]\n",
    "    \n",
    "    if not filtered_files:\n",
    "        print(\"No files found with the specific prefix.\")\n",
    "        return None\n",
    "    \n",
    "    # Extract the date from each file name and store along with the key\n",
    "    files_with_dates = []\n",
    "    for obj in filtered_files:\n",
    "        #print(obj)\n",
    "        key = obj['Key']\n",
    "        # Assuming the date is at the end of the filename after the last underscore\n",
    "        try:\n",
    "            # Get the base name without directory path\n",
    "            base_name = os.path.basename(key)\n",
    "            name_without_extension = os.path.splitext(base_name)[0]\n",
    "            date_str = name_without_extension.split('_')[-1]  # Get the date string part\n",
    "            file_date = datetime.strptime(date_str, \"%Y-%m-%d\")  # Parse date\n",
    "            files_with_dates.append((key, file_date))\n",
    "        except ValueError as e:\n",
    "            print(f\"Error parsing date from file name {key}: {e}\")\n",
    "\n",
    "    if not files_with_dates:\n",
    "        print(\"No valid files with dates found.\")\n",
    "        return None\n",
    "\n",
    "    # Find the file with the latest date\n",
    "    latest_file_key, latest_date = max(files_with_dates, key=lambda x: x[1])\n",
    "    \n",
    "    return latest_file_key"
   ]
  },
  {
   "cell_type": "code",
   "execution_count": 6,
   "id": "bf056429",
   "metadata": {
    "execution": {
     "iopub.execute_input": "2024-11-05T11:10:48.240211Z",
     "iopub.status.busy": "2024-11-05T11:10:48.239970Z",
     "iopub.status.idle": "2024-11-05T11:11:07.130644Z",
     "shell.execute_reply": "2024-11-05T11:11:07.130018Z"
    }
   },
   "outputs": [],
   "source": [
    "fs = s3fs.S3FileSystem()\n",
    "bucket = config.get_value('bucket')\n",
    "bucket_new = config.get_value('bucket_new')\n",
    "prefix_output_file = config.get_value('prefix_cleaned_training_file_path')\n",
    "file_name_prefix = config.get_value('cleaned_training_filename_prefix')\n",
    "file_path = get_latest_s3_file(bucket,prefix_output_file,file_name_prefix)\n",
    "\n",
    "old_data = pd.read_excel('s3://'+f'{bucket}/{file_path}')\n",
    "parts_list = old_data['part_number'].unique().tolist()\n",
    "\n",
    "prefix_inp = config.get_value('prefix_inp')\n",
    "last_tr_date = (pd.to_datetime(old_data['period']).max().strftime('%Y-%m-%d'))"
   ]
  },
  {
   "cell_type": "code",
   "execution_count": 7,
   "id": "020bc5d3",
   "metadata": {
    "execution": {
     "iopub.execute_input": "2024-11-05T11:11:07.132893Z",
     "iopub.status.busy": "2024-11-05T11:11:07.132609Z",
     "iopub.status.idle": "2024-11-05T11:11:07.147016Z",
     "shell.execute_reply": "2024-11-05T11:11:07.146510Z"
    }
   },
   "outputs": [
    {
     "data": {
      "text/html": [
       "<div>\n",
       "<style scoped>\n",
       "    .dataframe tbody tr th:only-of-type {\n",
       "        vertical-align: middle;\n",
       "    }\n",
       "\n",
       "    .dataframe tbody tr th {\n",
       "        vertical-align: top;\n",
       "    }\n",
       "\n",
       "    .dataframe thead th {\n",
       "        text-align: right;\n",
       "    }\n",
       "</style>\n",
       "<table border=\"1\" class=\"dataframe\">\n",
       "  <thead>\n",
       "    <tr style=\"text-align: right;\">\n",
       "      <th></th>\n",
       "      <th>period</th>\n",
       "      <th>part_number</th>\n",
       "      <th>Count_of_order</th>\n",
       "      <th>Total_qty_per_month</th>\n",
       "    </tr>\n",
       "  </thead>\n",
       "  <tbody>\n",
       "    <tr>\n",
       "      <th>264555</th>\n",
       "      <td>2024-02-01</td>\n",
       "      <td>PC1860K1Q3</td>\n",
       "      <td>1.0</td>\n",
       "      <td>33.0</td>\n",
       "    </tr>\n",
       "    <tr>\n",
       "      <th>264556</th>\n",
       "      <td>2024-03-01</td>\n",
       "      <td>PC1860K1Q3</td>\n",
       "      <td>1.0</td>\n",
       "      <td>34.0</td>\n",
       "    </tr>\n",
       "    <tr>\n",
       "      <th>264557</th>\n",
       "      <td>2024-04-01</td>\n",
       "      <td>PC1860K1Q3</td>\n",
       "      <td>1.0</td>\n",
       "      <td>16.0</td>\n",
       "    </tr>\n",
       "    <tr>\n",
       "      <th>264558</th>\n",
       "      <td>2024-05-01</td>\n",
       "      <td>PC1860K1Q3</td>\n",
       "      <td>1.0</td>\n",
       "      <td>25.0</td>\n",
       "    </tr>\n",
       "    <tr>\n",
       "      <th>264559</th>\n",
       "      <td>2024-06-01</td>\n",
       "      <td>PC1860K1Q3</td>\n",
       "      <td>1.0</td>\n",
       "      <td>31.0</td>\n",
       "    </tr>\n",
       "  </tbody>\n",
       "</table>\n",
       "</div>"
      ],
      "text/plain": [
       "           period part_number  Count_of_order  Total_qty_per_month\n",
       "264555 2024-02-01  PC1860K1Q3             1.0                 33.0\n",
       "264556 2024-03-01  PC1860K1Q3             1.0                 34.0\n",
       "264557 2024-04-01  PC1860K1Q3             1.0                 16.0\n",
       "264558 2024-05-01  PC1860K1Q3             1.0                 25.0\n",
       "264559 2024-06-01  PC1860K1Q3             1.0                 31.0"
      ]
     },
     "execution_count": 7,
     "metadata": {},
     "output_type": "execute_result"
    }
   ],
   "source": [
    "old_data.tail()"
   ]
  },
  {
   "cell_type": "code",
   "execution_count": 8,
   "id": "c4237b34-d091-4204-ad9a-cc70c9849cb6",
   "metadata": {
    "execution": {
     "iopub.execute_input": "2024-11-05T11:11:07.148788Z",
     "iopub.status.busy": "2024-11-05T11:11:07.148530Z",
     "iopub.status.idle": "2024-11-05T11:11:08.902232Z",
     "shell.execute_reply": "2024-11-05T11:11:08.901586Z"
    }
   },
   "outputs": [
    {
     "name": "stdout",
     "output_type": "stream",
     "text": [
      "curated-bo/curated-bo-demand-forecast/bestfit-selected-models/bestfit_selected_models_historic_months_2024-11-03.xlsx\n"
     ]
    }
   ],
   "source": [
    "prefix_bestfit_file=config.get_value('prefix_bestfit_file')\n",
    "prefix_bestfit_file=prefix_bestfit_file+'/'\n",
    "file_name_bestfit =config.get_value('file_name_bestfit')\n",
    "latest_best_fit_data_url = get_latest_s3_file(bucket_new,prefix_bestfit_file, file_name_bestfit)\n",
    "print(latest_best_fit_data_url)\n",
    "latest_best_fit_data = pd.read_excel('s3://'+f'{bucket_new}/{latest_best_fit_data_url}')"
   ]
  },
  {
   "cell_type": "code",
   "execution_count": 9,
   "id": "f936385e",
   "metadata": {
    "execution": {
     "iopub.execute_input": "2024-11-05T11:11:08.904449Z",
     "iopub.status.busy": "2024-11-05T11:11:08.904150Z",
     "iopub.status.idle": "2024-11-05T11:11:08.907687Z",
     "shell.execute_reply": "2024-11-05T11:11:08.907189Z"
    }
   },
   "outputs": [
    {
     "name": "stdout",
     "output_type": "stream",
     "text": [
      "curated-bo/curated-bo-demand-forecast/bestfit-selected-models/\n",
      "bestfit_selected_models_historic_months_\n"
     ]
    }
   ],
   "source": [
    "print(prefix_bestfit_file)\n",
    "print(file_name_bestfit)"
   ]
  },
  {
   "cell_type": "code",
   "execution_count": 10,
   "id": "e7e96811",
   "metadata": {
    "execution": {
     "iopub.execute_input": "2024-11-05T11:11:08.909404Z",
     "iopub.status.busy": "2024-11-05T11:11:08.909153Z",
     "iopub.status.idle": "2024-11-05T11:11:08.911961Z",
     "shell.execute_reply": "2024-11-05T11:11:08.911474Z"
    }
   },
   "outputs": [],
   "source": [
    "# latest_best_fit_data['Model Name'].unique()"
   ]
  },
  {
   "cell_type": "code",
   "execution_count": 11,
   "id": "37c3d3d4-4f41-4592-b6bb-0d11593e0872",
   "metadata": {
    "execution": {
     "iopub.execute_input": "2024-11-05T11:11:08.913599Z",
     "iopub.status.busy": "2024-11-05T11:11:08.913355Z",
     "iopub.status.idle": "2024-11-05T11:11:08.927383Z",
     "shell.execute_reply": "2024-11-05T11:11:08.926895Z"
    }
   },
   "outputs": [],
   "source": [
    "xgb_parts = latest_best_fit_data[latest_best_fit_data['model_name']=='XGBoost']['part_number'].unique().tolist()\n",
    "ridge_parts = latest_best_fit_data[latest_best_fit_data['model_name']=='Ridge']['part_number'].unique().tolist()\n",
    "lasso_parts = latest_best_fit_data[latest_best_fit_data['model_name']=='Lasso']['part_number'].unique().tolist()\n",
    "lstm_parts = latest_best_fit_data[latest_best_fit_data['model_name']=='LSTM single model']['part_number'].unique().tolist()\n",
    "prophet_parts = latest_best_fit_data[latest_best_fit_data['model_name']=='Prophet']['part_number'].unique().tolist()"
   ]
  },
  {
   "cell_type": "code",
   "execution_count": 12,
   "id": "902f92c1-70e8-4ea5-aa45-696ad1e09fb8",
   "metadata": {
    "execution": {
     "iopub.execute_input": "2024-11-05T11:11:08.929019Z",
     "iopub.status.busy": "2024-11-05T11:11:08.928773Z",
     "iopub.status.idle": "2024-11-05T11:11:08.933013Z",
     "shell.execute_reply": "2024-11-05T11:11:08.932478Z"
    }
   },
   "outputs": [
    {
     "data": {
      "text/plain": [
       "(1101, 733, 795, 155, 3741)"
      ]
     },
     "execution_count": 12,
     "metadata": {},
     "output_type": "execute_result"
    }
   ],
   "source": [
    "len(xgb_parts), len(ridge_parts), len(lasso_parts), len(lstm_parts), len(prophet_parts)"
   ]
  },
  {
   "cell_type": "code",
   "execution_count": 13,
   "id": "4073263c-332e-4178-8129-b0d2732e266f",
   "metadata": {
    "execution": {
     "iopub.execute_input": "2024-11-05T11:11:08.934967Z",
     "iopub.status.busy": "2024-11-05T11:11:08.934493Z",
     "iopub.status.idle": "2024-11-05T11:11:08.938466Z",
     "shell.execute_reply": "2024-11-05T11:11:08.937937Z"
    }
   },
   "outputs": [],
   "source": [
    "def get_consecutive_months(start_date, n_months=3):\n",
    "    \"\"\"\n",
    "    Generate a list of consecutive month start dates.\n",
    "\n",
    "    Args:\n",
    "    - start_date (str): Starting date in 'YYYY-MM-DD' format.\n",
    "    - n_months (int): Number of consecutive months to generate.\n",
    "\n",
    "    Returns:\n",
    "    - list: List of consecutive month start dates in 'YYYY-MM-DD' format.\n",
    "    \"\"\"\n",
    "    start_date = pd.to_datetime(start_date)\n",
    "    month_list = [(start_date + pd.DateOffset(months=i)).strftime('%Y-%m-%d') for i in range(1, n_months + 1)]\n",
    "    return month_list"
   ]
  },
  {
   "cell_type": "code",
   "execution_count": 14,
   "id": "5561c6d5-424a-4076-862e-c940fb0a78b3",
   "metadata": {
    "execution": {
     "iopub.execute_input": "2024-11-05T11:11:08.940210Z",
     "iopub.status.busy": "2024-11-05T11:11:08.939952Z",
     "iopub.status.idle": "2024-11-05T11:11:08.945520Z",
     "shell.execute_reply": "2024-11-05T11:11:08.945015Z"
    }
   },
   "outputs": [],
   "source": [
    "def create_lagged_features(data, lag, pred_win):\n",
    "    \"\"\"\n",
    "    This function creates lagged features for the given time series data.\n",
    "    \n",
    "    Parameters:\n",
    "    data (pd.Series): The input time series data.\n",
    "    lag (int): The number of lagged periods to create.\n",
    "    pred_win (int): The prediction window size.\n",
    "    \n",
    "    Returns:\n",
    "    pd.DataFrame: A DataFrame containing the lagged features.\n",
    "    \"\"\"\n",
    "    \n",
    "    # Initialize an empty DataFrame with the same index as the input data\n",
    "    lagged_data = pd.DataFrame(index=data.index)\n",
    "    \n",
    "    # Create lagged features by shifting the data by (lag + pred_win - 1) periods\n",
    "    for i in range(1, lag + 1):\n",
    "        lagged_data[f'lag_{i}'] = data.shift(i + (pred_win - 1))\n",
    "    \n",
    "    return lagged_data\n",
    "\n",
    "# Function to forecast future values using a model\n",
    "def forecast(df, model, n_periods=3):\n",
    "    \"\"\"\n",
    "    This function forecasts future values using the provided model.\n",
    "    \n",
    "    Parameters:\n",
    "    df (pd.DataFrame): The input DataFrame containing the time series data.\n",
    "    model (object): The trained model to be used for forecasting.\n",
    "    n_periods (int): The number of periods to forecast.\n",
    "    \n",
    "    Returns:\n",
    "    list: A list of forecasted values.\n",
    "    \"\"\"\n",
    "    # Get the last 'n_periods' values from the 'Total_qty_per_month' column\n",
    "    last_values = df['Total_qty_per_month'][-3:].values\n",
    "    \n",
    "    # Initialize an empty list to store the forecasted values\n",
    "    forecasts = []\n",
    "    \n",
    "    # Generate forecasts for the specified number of periods\n",
    "    for _ in range(n_periods):\n",
    "        # Extract the features for the model (last 'lag' values)\n",
    "        features = last_values[-3:]\n",
    "        \n",
    "        # Predict the next value using the model\n",
    "        pred = model.predict(features.reshape(1, -1))[0]\n",
    "        \n",
    "        # Append the predicted value to the forecasts list\n",
    "        forecasts.append(pred)\n",
    "        \n",
    "        # Update the last values by appending the predicted value and removing the oldest value\n",
    "        last_values = np.append(last_values, pred)[1:]\n",
    "    \n",
    "    return forecasts"
   ]
  },
  {
   "cell_type": "code",
   "execution_count": 15,
   "id": "609802a2",
   "metadata": {
    "execution": {
     "iopub.execute_input": "2024-11-05T11:11:08.947331Z",
     "iopub.status.busy": "2024-11-05T11:11:08.947080Z",
     "iopub.status.idle": "2024-11-05T11:11:08.957996Z",
     "shell.execute_reply": "2024-11-05T11:11:08.957430Z"
    }
   },
   "outputs": [],
   "source": [
    "# Ridge lag 1\n",
    "def ridge_lag1_forecast(clean_data, s3_bucketname, pickle_path_ridge_lag1, last_training_date):\n",
    "    df1=clean_data[:]\n",
    "    df1=df1[['part_number','period','Total_qty_per_month']]\n",
    "    df1['period'] = pd.to_datetime(df1['period'])\n",
    "    df1=df1.sort_values('period')\n",
    "    model_folder = pickle_path_ridge_lag1\n",
    "    future_dates = get_consecutive_months(last_training_date)\n",
    "    final_metric_lag1_ridge=pd.DataFrame()\n",
    "    s3_client = boto3.client('s3')\n",
    "    fs = s3fs.S3FileSystem()\n",
    "    for i in df1['part_number'].unique():\n",
    "#         try:\n",
    "        print(i)\n",
    "        data= df1[df1['part_number']==i]\n",
    "        data.drop('part_number',axis=1,inplace=True)\n",
    "        data['month'] = data['period'].dt.month\n",
    "        lag = 3\n",
    "        pred_win=1\n",
    "        lagged_data = create_lagged_features(data['Total_qty_per_month'], lag,pred_win)\n",
    "        # Combine lagged features with original data\n",
    "        data_with_lags = pd.concat([data, lagged_data], axis=1)\n",
    "        data_with_lags.fillna(data_with_lags.median(), inplace=True)\n",
    "        # Step 2: Split the Data\n",
    "        train_size = len(data_with_lags)-3\n",
    "        train_data = data_with_lags.iloc[:train_size]\n",
    "        test_data = data_with_lags.iloc[train_size:]\n",
    "        X_train_scaled = train_data.drop(['period', 'month','Total_qty_per_month'], axis=1)\n",
    "        X_test_scaled= X_train_scaled[-3:]\n",
    "        y_train = train_data['Total_qty_per_month']\n",
    "        \n",
    "        model_file_name_jlb = f\"ridge-t-{i}.joblib\"\n",
    "        s3_model_path_jlb = f\"{pickle_path_ridge_lag1}/{model_file_name_jlb}\"\n",
    "        print(s3_model_path_jlb)\n",
    "        with fs.open(f\"s3://{s3_bucketname}/{s3_model_path_jlb}\") as fh:\n",
    "            model = joblib.load(fh)\n",
    "        # Make predictions\n",
    "        y_pred = model.predict(X_test_scaled)\n",
    "        X_pred = model.predict(X_train_scaled)\n",
    "        # Forecast the next 3 periods\n",
    "        n_periods = 3\n",
    "        forecasts = forecast(data_with_lags, model, n_periods)\n",
    "        X_prediction=X_pred.tolist()\n",
    "        test_pred= y_pred.tolist()\n",
    "        Y_prediction=forecasts\n",
    "        X_Y_pred=X_prediction+test_pred+Y_prediction\n",
    "\n",
    "        metric=pd.DataFrame()\n",
    "        dates =pd.DataFrame(data['period'])\n",
    "        new_date = pd.DataFrame({'period': pd.to_datetime(future_dates)})\n",
    "        dates = pd.concat([dates, new_date], ignore_index=True)\n",
    "        metric['period']=dates['period']\n",
    "        qty = pd.DataFrame(data['Total_qty_per_month'])\n",
    "        new_qty = pd.DataFrame({'Total_qty_per_month': [0,0,0]})\n",
    "        qty = pd.concat([qty, new_qty], ignore_index=True)\n",
    "        metric['Actual_values']=qty['Total_qty_per_month']\n",
    "        metric['Predicted_values_lag1']= pd.DataFrame(X_Y_pred)\n",
    "        metric['part_number']=i\n",
    "        final_metric_lag1_ridge=pd.concat([final_metric_lag1_ridge,metric])\n",
    "    return final_metric_lag1_ridge"
   ]
  },
  {
   "cell_type": "code",
   "execution_count": 16,
   "id": "c841c682",
   "metadata": {
    "execution": {
     "iopub.execute_input": "2024-11-05T11:11:08.959714Z",
     "iopub.status.busy": "2024-11-05T11:11:08.959451Z",
     "iopub.status.idle": "2024-11-05T11:11:08.962526Z",
     "shell.execute_reply": "2024-11-05T11:11:08.962008Z"
    }
   },
   "outputs": [],
   "source": [
    "prefix_ridge_pickle = f\"{config.get_value('primary_path')}/{config.get_value('tpcap_model')}/{config.get_value('model_training_date')}/{'ridge'}\""
   ]
  },
  {
   "cell_type": "code",
   "execution_count": 17,
   "id": "cb3736c7",
   "metadata": {
    "execution": {
     "iopub.execute_input": "2024-11-05T11:11:08.964119Z",
     "iopub.status.busy": "2024-11-05T11:11:08.963879Z",
     "iopub.status.idle": "2024-11-05T11:11:08.967622Z",
     "shell.execute_reply": "2024-11-05T11:11:08.967137Z"
    }
   },
   "outputs": [
    {
     "data": {
      "text/plain": [
       "'persist-bo/persist-bo-demand-forecast/tpcap-models/20240913/ridge'"
      ]
     },
     "execution_count": 17,
     "metadata": {},
     "output_type": "execute_result"
    }
   ],
   "source": [
    "prefix_ridge_pickle"
   ]
  },
  {
   "cell_type": "code",
   "execution_count": 18,
   "id": "86ea6734",
   "metadata": {
    "execution": {
     "iopub.execute_input": "2024-11-05T11:11:08.969334Z",
     "iopub.status.busy": "2024-11-05T11:11:08.969099Z",
     "iopub.status.idle": "2024-11-05T11:12:28.014316Z",
     "shell.execute_reply": "2024-11-05T11:12:28.013655Z"
    },
    "scrolled": true
   },
   "outputs": [
    {
     "name": "stdout",
     "output_type": "stream",
     "text": [
      "52159YP906\n",
      "persist-bo/persist-bo-demand-forecast/tpcap-models/20240913/ridge/ridge-t-52159YP906.joblib\n"
     ]
    },
    {
     "name": "stdout",
     "output_type": "stream",
     "text": [
      "710710KW70C2\n",
      "persist-bo/persist-bo-demand-forecast/tpcap-models/20240913/ridge/ridge-t-710710KW70C2.joblib\n"
     ]
    },
    {
     "name": "stdout",
     "output_type": "stream",
     "text": [
      "531000KC10\n",
      "persist-bo/persist-bo-demand-forecast/tpcap-models/20240913/ridge/ridge-t-531000KC10.joblib\n",
      "521210K010\n"
     ]
    },
    {
     "name": "stdout",
     "output_type": "stream",
     "text": [
      "persist-bo/persist-bo-demand-forecast/tpcap-models/20240913/ridge/ridge-t-521210K010.joblib\n"
     ]
    },
    {
     "name": "stdout",
     "output_type": "stream",
     "text": [
      "732300D100B0\n",
      "persist-bo/persist-bo-demand-forecast/tpcap-models/20240913/ridge/ridge-t-732300D100B0.joblib\n"
     ]
    },
    {
     "name": "stdout",
     "output_type": "stream",
     "text": [
      "091500A010\n",
      "persist-bo/persist-bo-demand-forecast/tpcap-models/20240913/ridge/ridge-t-091500A010.joblib\n"
     ]
    },
    {
     "name": "stdout",
     "output_type": "stream",
     "text": [
      "531270K310\n",
      "persist-bo/persist-bo-demand-forecast/tpcap-models/20240913/ridge/ridge-t-531270K310.joblib\n"
     ]
    },
    {
     "name": "stdout",
     "output_type": "stream",
     "text": [
      "151040C020\n",
      "persist-bo/persist-bo-demand-forecast/tpcap-models/20240913/ridge/ridge-t-151040C020.joblib\n",
      "153010C020\n",
      "persist-bo/persist-bo-demand-forecast/tpcap-models/20240913/ridge/ridge-t-153010C020.joblib\n"
     ]
    },
    {
     "name": "stdout",
     "output_type": "stream",
     "text": [
      "73023KK010B0\n",
      "persist-bo/persist-bo-demand-forecast/tpcap-models/20240913/ridge/ridge-t-73023KK010B0.joblib\n",
      "721300K010\n",
      "persist-bo/persist-bo-demand-forecast/tpcap-models/20240913/ridge/ridge-t-721300K010.joblib\n",
      "123630H031\n",
      "persist-bo/persist-bo-demand-forecast/tpcap-models/20240913/ridge/ridge-t-123630H031.joblib\n"
     ]
    },
    {
     "name": "stdout",
     "output_type": "stream",
     "text": [
      "73178KK020B0\n",
      "persist-bo/persist-bo-demand-forecast/tpcap-models/20240913/ridge/ridge-t-73178KK020B0.joblib\n",
      "5314147011\n",
      "persist-bo/persist-bo-demand-forecast/tpcap-models/20240913/ridge/ridge-t-5314147011.joblib\n"
     ]
    },
    {
     "name": "stdout",
     "output_type": "stream",
     "text": [
      "135060Y010\n",
      "persist-bo/persist-bo-demand-forecast/tpcap-models/20240913/ridge/ridge-t-135060Y010.joblib\n",
      "6472002300C0\n",
      "persist-bo/persist-bo-demand-forecast/tpcap-models/20240913/ridge/ridge-t-6472002300C0.joblib\n"
     ]
    },
    {
     "name": "stdout",
     "output_type": "stream",
     "text": [
      "134010C022\n",
      "persist-bo/persist-bo-demand-forecast/tpcap-models/20240913/ridge/ridge-t-134010C022.joblib\n",
      "132010E010A0\n",
      "persist-bo/persist-bo-demand-forecast/tpcap-models/20240913/ridge/ridge-t-132010E010A0.joblib\n",
      "135590M010\n",
      "persist-bo/persist-bo-demand-forecast/tpcap-models/20240913/ridge/ridge-t-135590M010.joblib\n"
     ]
    },
    {
     "name": "stdout",
     "output_type": "stream",
     "text": [
      "13715BZ060\n",
      "persist-bo/persist-bo-demand-forecast/tpcap-models/20240913/ridge/ridge-t-13715BZ060.joblib\n",
      "137110H020\n",
      "persist-bo/persist-bo-demand-forecast/tpcap-models/20240913/ridge/ridge-t-137110H020.joblib\n",
      "743100KJ00C0\n"
     ]
    },
    {
     "name": "stdout",
     "output_type": "stream",
     "text": [
      "persist-bo/persist-bo-demand-forecast/tpcap-models/20240913/ridge/ridge-t-743100KJ00C0.joblib\n",
      "123710L081\n",
      "persist-bo/persist-bo-demand-forecast/tpcap-models/20240913/ridge/ridge-t-123710L081.joblib\n",
      "743100KC30B1\n",
      "persist-bo/persist-bo-demand-forecast/tpcap-models/20240913/ridge/ridge-t-743100KC30B1.joblib\n"
     ]
    },
    {
     "name": "stdout",
     "output_type": "stream",
     "text": [
      "52562BZ010\n",
      "persist-bo/persist-bo-demand-forecast/tpcap-models/20240913/ridge/ridge-t-52562BZ010.joblib\n",
      "123710T150\n",
      "persist-bo/persist-bo-demand-forecast/tpcap-models/20240913/ridge/ridge-t-123710T150.joblib\n"
     ]
    },
    {
     "name": "stdout",
     "output_type": "stream",
     "text": [
      "7510395411\n",
      "persist-bo/persist-bo-demand-forecast/tpcap-models/20240913/ridge/ridge-t-7510395411.joblib\n",
      "4876006220\n",
      "persist-bo/persist-bo-demand-forecast/tpcap-models/20240913/ridge/ridge-t-4876006220.joblib\n",
      "715510KC70\n",
      "persist-bo/persist-bo-demand-forecast/tpcap-models/20240913/ridge/ridge-t-715510KC70.joblib\n"
     ]
    },
    {
     "name": "stdout",
     "output_type": "stream",
     "text": [
      "7443104050\n",
      "persist-bo/persist-bo-demand-forecast/tpcap-models/20240913/ridge/ridge-t-7443104050.joblib\n",
      "131010T240\n",
      "persist-bo/persist-bo-demand-forecast/tpcap-models/20240913/ridge/ridge-t-131010T240.joblib\n",
      "746100D080C0\n",
      "persist-bo/persist-bo-demand-forecast/tpcap-models/20240913/ridge/ridge-t-746100D080C0.joblib\n"
     ]
    },
    {
     "name": "stdout",
     "output_type": "stream",
     "text": [
      "4815706111\n",
      "persist-bo/persist-bo-demand-forecast/tpcap-models/20240913/ridge/ridge-t-4815706111.joblib\n",
      "137150L010\n",
      "persist-bo/persist-bo-demand-forecast/tpcap-models/20240913/ridge/ridge-t-137150L010.joblib\n"
     ]
    },
    {
     "name": "stdout",
     "output_type": "stream",
     "text": [
      "74563YZB114\n",
      "persist-bo/persist-bo-demand-forecast/tpcap-models/20240913/ridge/ridge-t-74563YZB114.joblib\n",
      "5320206260\n",
      "persist-bo/persist-bo-demand-forecast/tpcap-models/20240913/ridge/ridge-t-5320206260.joblib\n"
     ]
    },
    {
     "name": "stdout",
     "output_type": "stream",
     "text": [
      "7186204030B0\n",
      "persist-bo/persist-bo-demand-forecast/tpcap-models/20240913/ridge/ridge-t-7186204030B0.joblib\n",
      "53121YP040\n",
      "persist-bo/persist-bo-demand-forecast/tpcap-models/20240913/ridge/ridge-t-53121YP040.joblib\n"
     ]
    },
    {
     "name": "stdout",
     "output_type": "stream",
     "text": [
      "531220K410\n",
      "persist-bo/persist-bo-demand-forecast/tpcap-models/20240913/ridge/ridge-t-531220K410.joblib\n",
      "65817YP010\n",
      "persist-bo/persist-bo-demand-forecast/tpcap-models/20240913/ridge/ridge-t-65817YP010.joblib\n"
     ]
    },
    {
     "name": "stdout",
     "output_type": "stream",
     "text": [
      "56111BZ531\n",
      "persist-bo/persist-bo-demand-forecast/tpcap-models/20240913/ridge/ridge-t-56111BZ531.joblib\n",
      "678720K090\n",
      "persist-bo/persist-bo-demand-forecast/tpcap-models/20240913/ridge/ridge-t-678720K090.joblib\n",
      "117110H05103\n"
     ]
    },
    {
     "name": "stdout",
     "output_type": "stream",
     "text": [
      "persist-bo/persist-bo-demand-forecast/tpcap-models/20240913/ridge/ridge-t-117110H05103.joblib\n",
      "678710K090\n",
      "persist-bo/persist-bo-demand-forecast/tpcap-models/20240913/ridge/ridge-t-678710K090.joblib\n",
      "55607KK030\n"
     ]
    },
    {
     "name": "stdout",
     "output_type": "stream",
     "text": [
      "persist-bo/persist-bo-demand-forecast/tpcap-models/20240913/ridge/ridge-t-55607KK030.joblib\n",
      "5382106170\n",
      "persist-bo/persist-bo-demand-forecast/tpcap-models/20240913/ridge/ridge-t-5382106170.joblib\n",
      "117110H05102\n",
      "persist-bo/persist-bo-demand-forecast/tpcap-models/20240913/ridge/ridge-t-117110H05102.joblib\n"
     ]
    },
    {
     "name": "stdout",
     "output_type": "stream",
     "text": [
      "678670D070\n",
      "persist-bo/persist-bo-demand-forecast/tpcap-models/20240913/ridge/ridge-t-678670D070.joblib\n",
      "5385304010C0\n",
      "persist-bo/persist-bo-demand-forecast/tpcap-models/20240913/ridge/ridge-t-5385304010C0.joblib\n"
     ]
    },
    {
     "name": "stdout",
     "output_type": "stream",
     "text": [
      "678370K050\n",
      "persist-bo/persist-bo-demand-forecast/tpcap-models/20240913/ridge/ridge-t-678370K050.joblib\n",
      "117010E01002\n",
      "persist-bo/persist-bo-demand-forecast/tpcap-models/20240913/ridge/ridge-t-117010E01002.joblib\n"
     ]
    },
    {
     "name": "stdout",
     "output_type": "stream",
     "text": [
      "678370K091\n",
      "persist-bo/persist-bo-demand-forecast/tpcap-models/20240913/ridge/ridge-t-678370K091.joblib\n",
      "4860902300\n",
      "persist-bo/persist-bo-demand-forecast/tpcap-models/20240913/ridge/ridge-t-4860902300.joblib\n"
     ]
    },
    {
     "name": "stdout",
     "output_type": "stream",
     "text": [
      "123050M122\n",
      "persist-bo/persist-bo-demand-forecast/tpcap-models/20240913/ridge/ridge-t-123050M122.joblib\n",
      "678570K030\n",
      "persist-bo/persist-bo-demand-forecast/tpcap-models/20240913/ridge/ridge-t-678570K030.joblib\n"
     ]
    },
    {
     "name": "stdout",
     "output_type": "stream",
     "text": [
      "5382116010\n",
      "persist-bo/persist-bo-demand-forecast/tpcap-models/20240913/ridge/ridge-t-5382116010.joblib\n",
      "679110K030C0\n",
      "persist-bo/persist-bo-demand-forecast/tpcap-models/20240913/ridge/ridge-t-679110K030C0.joblib\n",
      "4551002630\n",
      "persist-bo/persist-bo-demand-forecast/tpcap-models/20240913/ridge/ridge-t-4551002630.joblib\n"
     ]
    },
    {
     "name": "stdout",
     "output_type": "stream",
     "text": [
      "63132KK900\n",
      "persist-bo/persist-bo-demand-forecast/tpcap-models/20240913/ridge/ridge-t-63132KK900.joblib\n",
      "678730K041\n",
      "persist-bo/persist-bo-demand-forecast/tpcap-models/20240913/ridge/ridge-t-678730K041.joblib\n",
      "53446BZ060\n"
     ]
    },
    {
     "name": "stdout",
     "output_type": "stream",
     "text": [
      "persist-bo/persist-bo-demand-forecast/tpcap-models/20240913/ridge/ridge-t-53446BZ060.joblib\n",
      "531290K280\n",
      "persist-bo/persist-bo-demand-forecast/tpcap-models/20240913/ridge/ridge-t-531290K280.joblib\n",
      "044650K610\n",
      "persist-bo/persist-bo-demand-forecast/tpcap-models/20240913/ridge/ridge-t-044650K610.joblib\n"
     ]
    },
    {
     "name": "stdout",
     "output_type": "stream",
     "text": [
      "6460702520\n",
      "persist-bo/persist-bo-demand-forecast/tpcap-models/20240913/ridge/ridge-t-6460702520.joblib\n",
      "6460706082\n",
      "persist-bo/persist-bo-demand-forecast/tpcap-models/20240913/ridge/ridge-t-6460706082.joblib\n"
     ]
    },
    {
     "name": "stdout",
     "output_type": "stream",
     "text": [
      "04483KK010\n",
      "persist-bo/persist-bo-demand-forecast/tpcap-models/20240913/ridge/ridge-t-04483KK010.joblib\n",
      "53208BZ050\n",
      "persist-bo/persist-bo-demand-forecast/tpcap-models/20240913/ridge/ridge-t-53208BZ050.joblib\n",
      "6461002050\n"
     ]
    },
    {
     "name": "stdout",
     "output_type": "stream",
     "text": [
      "persist-bo/persist-bo-demand-forecast/tpcap-models/20240913/ridge/ridge-t-6461002050.joblib\n",
      "1236105010\n",
      "persist-bo/persist-bo-demand-forecast/tpcap-models/20240913/ridge/ridge-t-1236105010.joblib\n",
      "53875YE020\n",
      "persist-bo/persist-bo-demand-forecast/tpcap-models/20240913/ridge/ridge-t-53875YE020.joblib\n"
     ]
    },
    {
     "name": "stdout",
     "output_type": "stream",
     "text": [
      "6460002080\n",
      "persist-bo/persist-bo-demand-forecast/tpcap-models/20240913/ridge/ridge-t-6460002080.joblib\n",
      "896660KF10\n",
      "persist-bo/persist-bo-demand-forecast/tpcap-models/20240913/ridge/ridge-t-896660KF10.joblib\n"
     ]
    },
    {
     "name": "stdout",
     "output_type": "stream",
     "text": [
      "6451006350\n",
      "persist-bo/persist-bo-demand-forecast/tpcap-models/20240913/ridge/ridge-t-6451006350.joblib\n",
      "5310002B70\n",
      "persist-bo/persist-bo-demand-forecast/tpcap-models/20240913/ridge/ridge-t-5310002B70.joblib\n",
      "041120C063\n",
      "persist-bo/persist-bo-demand-forecast/tpcap-models/20240913/ridge/ridge-t-041120C063.joblib\n"
     ]
    },
    {
     "name": "stdout",
     "output_type": "stream",
     "text": [
      "6453206450\n",
      "persist-bo/persist-bo-demand-forecast/tpcap-models/20240913/ridge/ridge-t-6453206450.joblib\n",
      "521190Z983\n",
      "persist-bo/persist-bo-demand-forecast/tpcap-models/20240913/ridge/ridge-t-521190Z983.joblib\n"
     ]
    },
    {
     "name": "stdout",
     "output_type": "stream",
     "text": [
      "044950K010\n",
      "persist-bo/persist-bo-demand-forecast/tpcap-models/20240913/ridge/ridge-t-044950K010.joblib\n",
      "690560K050\n",
      "persist-bo/persist-bo-demand-forecast/tpcap-models/20240913/ridge/ridge-t-690560K050.joblib\n"
     ]
    },
    {
     "name": "stdout",
     "output_type": "stream",
     "text": [
      "123710C111\n",
      "persist-bo/persist-bo-demand-forecast/tpcap-models/20240913/ridge/ridge-t-123710C111.joblib\n",
      "53123YP290\n",
      "persist-bo/persist-bo-demand-forecast/tpcap-models/20240913/ridge/ridge-t-53123YP290.joblib\n"
     ]
    },
    {
     "name": "stdout",
     "output_type": "stream",
     "text": [
      "312500D221\n",
      "persist-bo/persist-bo-demand-forecast/tpcap-models/20240913/ridge/ridge-t-312500D221.joblib\n",
      "90119T0182\n",
      "persist-bo/persist-bo-demand-forecast/tpcap-models/20240913/ridge/ridge-t-90119T0182.joblib\n"
     ]
    },
    {
     "name": "stdout",
     "output_type": "stream",
     "text": [
      "58815KK020\n",
      "persist-bo/persist-bo-demand-forecast/tpcap-models/20240913/ridge/ridge-t-58815KK020.joblib\n",
      "4504609780\n",
      "persist-bo/persist-bo-demand-forecast/tpcap-models/20240913/ridge/ridge-t-4504609780.joblib\n"
     ]
    },
    {
     "name": "stdout",
     "output_type": "stream",
     "text": [
      "9011906084TH\n",
      "persist-bo/persist-bo-demand-forecast/tpcap-models/20240913/ridge/ridge-t-9011906084TH.joblib\n",
      "61132KK010\n",
      "persist-bo/persist-bo-demand-forecast/tpcap-models/20240913/ridge/ridge-t-61132KK010.joblib\n"
     ]
    },
    {
     "name": "stdout",
     "output_type": "stream",
     "text": [
      "451300K111E0\n",
      "persist-bo/persist-bo-demand-forecast/tpcap-models/20240913/ridge/ridge-t-451300K111E0.joblib\n",
      "9030104017\n",
      "persist-bo/persist-bo-demand-forecast/tpcap-models/20240913/ridge/ridge-t-9030104017.joblib\n",
      "90119T0205\n",
      "persist-bo/persist-bo-demand-forecast/tpcap-models/20240913/ridge/ridge-t-90119T0205.joblib\n"
     ]
    },
    {
     "name": "stdout",
     "output_type": "stream",
     "text": [
      "90109T0011\n",
      "persist-bo/persist-bo-demand-forecast/tpcap-models/20240913/ridge/ridge-t-90109T0011.joblib\n",
      "8423171060\n",
      "persist-bo/persist-bo-demand-forecast/tpcap-models/20240913/ridge/ridge-t-8423171060.joblib\n",
      "532690K010\n",
      "persist-bo/persist-bo-demand-forecast/tpcap-models/20240913/ridge/ridge-t-532690K010.joblib\n"
     ]
    },
    {
     "name": "stdout",
     "output_type": "stream",
     "text": [
      "451860K120C0\n",
      "persist-bo/persist-bo-demand-forecast/tpcap-models/20240913/ridge/ridge-t-451860K120C0.joblib\n",
      "90119T0495\n",
      "persist-bo/persist-bo-demand-forecast/tpcap-models/20240913/ridge/ridge-t-90119T0495.joblib\n"
     ]
    },
    {
     "name": "stdout",
     "output_type": "stream",
     "text": [
      "452030K040\n",
      "persist-bo/persist-bo-demand-forecast/tpcap-models/20240913/ridge/ridge-t-452030K040.joblib\n",
      "770010D271\n",
      "persist-bo/persist-bo-demand-forecast/tpcap-models/20240913/ridge/ridge-t-770010D271.joblib\n"
     ]
    },
    {
     "name": "stdout",
     "output_type": "stream",
     "text": [
      "53268KK010\n",
      "persist-bo/persist-bo-demand-forecast/tpcap-models/20240913/ridge/ridge-t-53268KK010.joblib\n",
      "4720109610\n",
      "persist-bo/persist-bo-demand-forecast/tpcap-models/20240913/ridge/ridge-t-4720109610.joblib\n",
      "451000K430B0\n"
     ]
    },
    {
     "name": "stdout",
     "output_type": "stream",
     "text": [
      "persist-bo/persist-bo-demand-forecast/tpcap-models/20240913/ridge/ridge-t-451000K430B0.joblib\n",
      "451000Z270C0\n",
      "persist-bo/persist-bo-demand-forecast/tpcap-models/20240913/ridge/ridge-t-451000Z270C0.joblib\n"
     ]
    },
    {
     "name": "stdout",
     "output_type": "stream",
     "text": [
      "452870K010C0\n",
      "persist-bo/persist-bo-demand-forecast/tpcap-models/20240913/ridge/ridge-t-452870K010C0.joblib\n",
      "899040K560\n",
      "persist-bo/persist-bo-demand-forecast/tpcap-models/20240913/ridge/ridge-t-899040K560.joblib\n"
     ]
    },
    {
     "name": "stdout",
     "output_type": "stream",
     "text": [
      "623320K070\n",
      "persist-bo/persist-bo-demand-forecast/tpcap-models/20240913/ridge/ridge-t-623320K070.joblib\n",
      "452870D290C0\n",
      "persist-bo/persist-bo-demand-forecast/tpcap-models/20240913/ridge/ridge-t-452870D290C0.joblib\n"
     ]
    },
    {
     "name": "stdout",
     "output_type": "stream",
     "text": [
      "9006810024\n",
      "persist-bo/persist-bo-demand-forecast/tpcap-models/20240913/ridge/ridge-t-9006810024.joblib\n",
      "899040D250\n",
      "persist-bo/persist-bo-demand-forecast/tpcap-models/20240913/ridge/ridge-t-899040D250.joblib\n",
      "815900K200\n",
      "persist-bo/persist-bo-demand-forecast/tpcap-models/20240913/ridge/ridge-t-815900K200.joblib\n"
     ]
    },
    {
     "name": "stdout",
     "output_type": "stream",
     "text": [
      "90280T0003\n",
      "persist-bo/persist-bo-demand-forecast/tpcap-models/20240913/ridge/ridge-t-90280T0003.joblib\n",
      "4520A0A020\n",
      "persist-bo/persist-bo-demand-forecast/tpcap-models/20240913/ridge/ridge-t-4520A0A020.joblib\n",
      "90201T0012\n",
      "persist-bo/persist-bo-demand-forecast/tpcap-models/20240913/ridge/ridge-t-90201T0012.joblib\n"
     ]
    },
    {
     "name": "stdout",
     "output_type": "stream",
     "text": [
      "81550BZ461\n",
      "persist-bo/persist-bo-demand-forecast/tpcap-models/20240913/ridge/ridge-t-81550BZ461.joblib\n",
      "624030A011\n",
      "persist-bo/persist-bo-demand-forecast/tpcap-models/20240913/ridge/ridge-t-624030A011.joblib\n"
     ]
    },
    {
     "name": "stdout",
     "output_type": "stream",
     "text": [
      "4520A02460\n",
      "persist-bo/persist-bo-demand-forecast/tpcap-models/20240913/ridge/ridge-t-4520A02460.joblib\n",
      "90182T0012\n",
      "persist-bo/persist-bo-demand-forecast/tpcap-models/20240913/ridge/ridge-t-90182T0012.joblib\n"
     ]
    },
    {
     "name": "stdout",
     "output_type": "stream",
     "text": [
      "90311T0065\n",
      "persist-bo/persist-bo-demand-forecast/tpcap-models/20240913/ridge/ridge-t-90311T0065.joblib\n",
      "623310D150\n",
      "persist-bo/persist-bo-demand-forecast/tpcap-models/20240913/ridge/ridge-t-623310D150.joblib\n"
     ]
    },
    {
     "name": "stdout",
     "output_type": "stream",
     "text": [
      "5216906070\n",
      "persist-bo/persist-bo-demand-forecast/tpcap-models/20240913/ridge/ridge-t-5216906070.joblib\n",
      "9015950343\n",
      "persist-bo/persist-bo-demand-forecast/tpcap-models/20240913/ridge/ridge-t-9015950343.joblib\n"
     ]
    },
    {
     "name": "stdout",
     "output_type": "stream",
     "text": [
      "531000KJ40\n",
      "persist-bo/persist-bo-demand-forecast/tpcap-models/20240913/ridge/ridge-t-531000KJ40.joblib\n",
      "4712112020A1\n",
      "persist-bo/persist-bo-demand-forecast/tpcap-models/20240913/ridge/ridge-t-4712112020A1.joblib\n"
     ]
    },
    {
     "name": "stdout",
     "output_type": "stream",
     "text": [
      "533010D160\n",
      "persist-bo/persist-bo-demand-forecast/tpcap-models/20240913/ridge/ridge-t-533010D160.joblib\n",
      "131010T380\n",
      "persist-bo/persist-bo-demand-forecast/tpcap-models/20240913/ridge/ridge-t-131010T380.joblib\n"
     ]
    },
    {
     "name": "stdout",
     "output_type": "stream",
     "text": [
      "697500A010\n",
      "persist-bo/persist-bo-demand-forecast/tpcap-models/20240913/ridge/ridge-t-697500A010.joblib\n",
      "690580K010\n",
      "persist-bo/persist-bo-demand-forecast/tpcap-models/20240913/ridge/ridge-t-690580K010.joblib\n"
     ]
    },
    {
     "name": "stdout",
     "output_type": "stream",
     "text": [
      "123090V140\n",
      "persist-bo/persist-bo-demand-forecast/tpcap-models/20240913/ridge/ridge-t-123090V140.joblib\n",
      "534200D400\n",
      "persist-bo/persist-bo-demand-forecast/tpcap-models/20240913/ridge/ridge-t-534200D400.joblib\n"
     ]
    },
    {
     "name": "stdout",
     "output_type": "stream",
     "text": [
      "131010L05103\n",
      "persist-bo/persist-bo-demand-forecast/tpcap-models/20240913/ridge/ridge-t-131010L05103.joblib\n",
      "698030D160\n",
      "persist-bo/persist-bo-demand-forecast/tpcap-models/20240913/ridge/ridge-t-698030D160.joblib\n"
     ]
    },
    {
     "name": "stdout",
     "output_type": "stream",
     "text": [
      "6861002081\n",
      "persist-bo/persist-bo-demand-forecast/tpcap-models/20240913/ridge/ridge-t-6861002081.joblib\n",
      "681890K110\n",
      "persist-bo/persist-bo-demand-forecast/tpcap-models/20240913/ridge/ridge-t-681890K110.joblib\n"
     ]
    },
    {
     "name": "stdout",
     "output_type": "stream",
     "text": [
      "521270D911\n",
      "persist-bo/persist-bo-demand-forecast/tpcap-models/20240913/ridge/ridge-t-521270D911.joblib\n",
      "123640M080\n",
      "persist-bo/persist-bo-demand-forecast/tpcap-models/20240913/ridge/ridge-t-123640M080.joblib\n"
     ]
    },
    {
     "name": "stdout",
     "output_type": "stream",
     "text": [
      "681640K020\n",
      "persist-bo/persist-bo-demand-forecast/tpcap-models/20240913/ridge/ridge-t-681640K020.joblib\n",
      "53124YP210\n",
      "persist-bo/persist-bo-demand-forecast/tpcap-models/20240913/ridge/ridge-t-53124YP210.joblib\n"
     ]
    },
    {
     "name": "stdout",
     "output_type": "stream",
     "text": [
      "130410Y01002\n",
      "persist-bo/persist-bo-demand-forecast/tpcap-models/20240913/ridge/ridge-t-130410Y01002.joblib\n",
      "690550K080\n",
      "persist-bo/persist-bo-demand-forecast/tpcap-models/20240913/ridge/ridge-t-690550K080.joblib\n",
      "131010E01001\n",
      "persist-bo/persist-bo-demand-forecast/tpcap-models/20240913/ridge/ridge-t-131010E01001.joblib\n"
     ]
    },
    {
     "name": "stdout",
     "output_type": "stream",
     "text": [
      "123610D050\n",
      "persist-bo/persist-bo-demand-forecast/tpcap-models/20240913/ridge/ridge-t-123610D050.joblib\n",
      "123720M140\n",
      "persist-bo/persist-bo-demand-forecast/tpcap-models/20240913/ridge/ridge-t-123720M140.joblib\n"
     ]
    },
    {
     "name": "stdout",
     "output_type": "stream",
     "text": [
      "698040D310\n",
      "persist-bo/persist-bo-demand-forecast/tpcap-models/20240913/ridge/ridge-t-698040D310.joblib\n",
      "52169YP030\n",
      "persist-bo/persist-bo-demand-forecast/tpcap-models/20240913/ridge/ridge-t-52169YP030.joblib\n"
     ]
    },
    {
     "name": "stdout",
     "output_type": "stream",
     "text": [
      "90119T0242\n",
      "persist-bo/persist-bo-demand-forecast/tpcap-models/20240913/ridge/ridge-t-90119T0242.joblib\n",
      "532850D100\n",
      "persist-bo/persist-bo-demand-forecast/tpcap-models/20240913/ridge/ridge-t-532850D100.joblib\n",
      "47322KK010\n"
     ]
    },
    {
     "name": "stdout",
     "output_type": "stream",
     "text": [
      "persist-bo/persist-bo-demand-forecast/tpcap-models/20240913/ridge/ridge-t-47322KK010.joblib\n",
      "90119T0301\n",
      "persist-bo/persist-bo-demand-forecast/tpcap-models/20240913/ridge/ridge-t-90119T0301.joblib\n"
     ]
    },
    {
     "name": "stdout",
     "output_type": "stream",
     "text": [
      "69217YP010\n",
      "persist-bo/persist-bo-demand-forecast/tpcap-models/20240913/ridge/ridge-t-69217YP010.joblib\n",
      "33820BZ021\n",
      "persist-bo/persist-bo-demand-forecast/tpcap-models/20240913/ridge/ridge-t-33820BZ021.joblib\n",
      "5329506160\n",
      "persist-bo/persist-bo-demand-forecast/tpcap-models/20240913/ridge/ridge-t-5329506160.joblib\n"
     ]
    },
    {
     "name": "stdout",
     "output_type": "stream",
     "text": [
      "473110K010\n",
      "persist-bo/persist-bo-demand-forecast/tpcap-models/20240913/ridge/ridge-t-473110K010.joblib\n",
      "6921706210\n",
      "persist-bo/persist-bo-demand-forecast/tpcap-models/20240913/ridge/ridge-t-6921706210.joblib\n"
     ]
    },
    {
     "name": "stdout",
     "output_type": "stream",
     "text": [
      "4640252030\n",
      "persist-bo/persist-bo-demand-forecast/tpcap-models/20240913/ridge/ridge-t-4640252030.joblib\n",
      "6921004020\n",
      "persist-bo/persist-bo-demand-forecast/tpcap-models/20240913/ridge/ridge-t-6921004020.joblib\n"
     ]
    },
    {
     "name": "stdout",
     "output_type": "stream",
     "text": [
      "5330102230\n",
      "persist-bo/persist-bo-demand-forecast/tpcap-models/20240913/ridge/ridge-t-5330102230.joblib\n",
      "690900K100\n",
      "persist-bo/persist-bo-demand-forecast/tpcap-models/20240913/ridge/ridge-t-690900K100.joblib\n",
      "280110T070\n",
      "persist-bo/persist-bo-demand-forecast/tpcap-models/20240913/ridge/ridge-t-280110T070.joblib\n"
     ]
    },
    {
     "name": "stdout",
     "output_type": "stream",
     "text": [
      "6920502280A0\n",
      "persist-bo/persist-bo-demand-forecast/tpcap-models/20240913/ridge/ridge-t-6920502280A0.joblib\n",
      "123610V170\n",
      "persist-bo/persist-bo-demand-forecast/tpcap-models/20240913/ridge/ridge-t-123610V170.joblib\n"
     ]
    },
    {
     "name": "stdout",
     "output_type": "stream",
     "text": [
      "123050C030\n",
      "persist-bo/persist-bo-demand-forecast/tpcap-models/20240913/ridge/ridge-t-123050C030.joblib\n",
      "6812306081\n",
      "persist-bo/persist-bo-demand-forecast/tpcap-models/20240913/ridge/ridge-t-6812306081.joblib\n",
      "67492BZ070\n"
     ]
    },
    {
     "name": "stdout",
     "output_type": "stream",
     "text": [
      "persist-bo/persist-bo-demand-forecast/tpcap-models/20240913/ridge/ridge-t-67492BZ070.joblib\n",
      "550420K010C0\n",
      "persist-bo/persist-bo-demand-forecast/tpcap-models/20240913/ridge/ridge-t-550420K010C0.joblib\n"
     ]
    },
    {
     "name": "stdout",
     "output_type": "stream",
     "text": [
      "811500DF01\n",
      "persist-bo/persist-bo-demand-forecast/tpcap-models/20240913/ridge/ridge-t-811500DF01.joblib\n",
      "4851009U90\n",
      "persist-bo/persist-bo-demand-forecast/tpcap-models/20240913/ridge/ridge-t-4851009U90.joblib\n"
     ]
    },
    {
     "name": "stdout",
     "output_type": "stream",
     "text": [
      "5311202300\n",
      "persist-bo/persist-bo-demand-forecast/tpcap-models/20240913/ridge/ridge-t-5311202300.joblib\n",
      "232200C051\n",
      "persist-bo/persist-bo-demand-forecast/tpcap-models/20240913/ridge/ridge-t-232200C051.joblib\n"
     ]
    },
    {
     "name": "stdout",
     "output_type": "stream",
     "text": [
      "811560KA10\n",
      "persist-bo/persist-bo-demand-forecast/tpcap-models/20240913/ridge/ridge-t-811560KA10.joblib\n",
      "811560KE80\n",
      "persist-bo/persist-bo-demand-forecast/tpcap-models/20240913/ridge/ridge-t-811560KE80.joblib\n",
      "044650K431\n"
     ]
    },
    {
     "name": "stdout",
     "output_type": "stream",
     "text": [
      "persist-bo/persist-bo-demand-forecast/tpcap-models/20240913/ridge/ridge-t-044650K431.joblib\n",
      "85222BZ300\n",
      "persist-bo/persist-bo-demand-forecast/tpcap-models/20240913/ridge/ridge-t-85222BZ300.joblib\n",
      "16572161501\n",
      "persist-bo/persist-bo-demand-forecast/tpcap-models/20240913/ridge/ridge-t-16572161501.joblib\n"
     ]
    },
    {
     "name": "stdout",
     "output_type": "stream",
     "text": [
      "8118502D50\n",
      "persist-bo/persist-bo-demand-forecast/tpcap-models/20240913/ridge/ridge-t-8118502D50.joblib\n",
      "2320909401\n",
      "persist-bo/persist-bo-demand-forecast/tpcap-models/20240913/ridge/ridge-t-2320909401.joblib\n"
     ]
    },
    {
     "name": "stdout",
     "output_type": "stream",
     "text": [
      "8117002F41\n",
      "persist-bo/persist-bo-demand-forecast/tpcap-models/20240913/ridge/ridge-t-8117002F41.joblib\n",
      "759260K030\n",
      "persist-bo/persist-bo-demand-forecast/tpcap-models/20240913/ridge/ridge-t-759260K030.joblib\n",
      "811700DF70\n",
      "persist-bo/persist-bo-demand-forecast/tpcap-models/20240913/ridge/ridge-t-811700DF70.joblib\n"
     ]
    },
    {
     "name": "stdout",
     "output_type": "stream",
     "text": [
      "759210K030\n",
      "persist-bo/persist-bo-demand-forecast/tpcap-models/20240913/ridge/ridge-t-759210K030.joblib\n",
      "2322531020\n",
      "persist-bo/persist-bo-demand-forecast/tpcap-models/20240913/ridge/ridge-t-2322531020.joblib\n"
     ]
    },
    {
     "name": "stdout",
     "output_type": "stream",
     "text": [
      "232170L020\n",
      "persist-bo/persist-bo-demand-forecast/tpcap-models/20240913/ridge/ridge-t-232170L020.joblib\n",
      "7572006110\n",
      "persist-bo/persist-bo-demand-forecast/tpcap-models/20240913/ridge/ridge-t-7572006110.joblib\n"
     ]
    },
    {
     "name": "stdout",
     "output_type": "stream",
     "text": [
      "270600C110\n",
      "persist-bo/persist-bo-demand-forecast/tpcap-models/20240913/ridge/ridge-t-270600C110.joblib\n",
      "85242BZ120\n",
      "persist-bo/persist-bo-demand-forecast/tpcap-models/20240913/ridge/ridge-t-85242BZ120.joblib\n",
      "238260H100\n",
      "persist-bo/persist-bo-demand-forecast/tpcap-models/20240913/ridge/ridge-t-238260H100.joblib\n"
     ]
    },
    {
     "name": "stdout",
     "output_type": "stream",
     "text": [
      "812700K080\n",
      "persist-bo/persist-bo-demand-forecast/tpcap-models/20240913/ridge/ridge-t-812700K080.joblib\n",
      "841400K051\n",
      "persist-bo/persist-bo-demand-forecast/tpcap-models/20240913/ridge/ridge-t-841400K051.joblib\n"
     ]
    },
    {
     "name": "stdout",
     "output_type": "stream",
     "text": [
      "250510E200\n",
      "persist-bo/persist-bo-demand-forecast/tpcap-models/20240913/ridge/ridge-t-250510E200.joblib\n",
      "812710B010\n",
      "persist-bo/persist-bo-demand-forecast/tpcap-models/20240913/ridge/ridge-t-812710B010.joblib\n",
      "538060K250\n",
      "persist-bo/persist-bo-demand-forecast/tpcap-models/20240913/ridge/ridge-t-538060K250.joblib\n"
     ]
    },
    {
     "name": "stdout",
     "output_type": "stream",
     "text": [
      "815500A060\n",
      "persist-bo/persist-bo-demand-forecast/tpcap-models/20240913/ridge/ridge-t-815500A060.joblib\n",
      "8115006F10\n",
      "persist-bo/persist-bo-demand-forecast/tpcap-models/20240913/ridge/ridge-t-8115006F10.joblib\n",
      "238200M051\n",
      "persist-bo/persist-bo-demand-forecast/tpcap-models/20240913/ridge/ridge-t-238200M051.joblib\n"
     ]
    },
    {
     "name": "stdout",
     "output_type": "stream",
     "text": [
      "86510BZ160\n",
      "persist-bo/persist-bo-demand-forecast/tpcap-models/20240913/ridge/ridge-t-86510BZ160.joblib\n",
      "53811YP010\n",
      "persist-bo/persist-bo-demand-forecast/tpcap-models/20240913/ridge/ridge-t-53811YP010.joblib\n",
      "256810W020\n",
      "persist-bo/persist-bo-demand-forecast/tpcap-models/20240913/ridge/ridge-t-256810W020.joblib\n"
     ]
    },
    {
     "name": "stdout",
     "output_type": "stream",
     "text": [
      "811500KL80\n",
      "persist-bo/persist-bo-demand-forecast/tpcap-models/20240913/ridge/ridge-t-811500KL80.joblib\n",
      "811500KL50\n",
      "persist-bo/persist-bo-demand-forecast/tpcap-models/20240913/ridge/ridge-t-811500KL50.joblib\n"
     ]
    },
    {
     "name": "stdout",
     "output_type": "stream",
     "text": [
      "274150V011\n",
      "persist-bo/persist-bo-demand-forecast/tpcap-models/20240913/ridge/ridge-t-274150V011.joblib\n",
      "8115002F41\n",
      "persist-bo/persist-bo-demand-forecast/tpcap-models/20240913/ridge/ridge-t-8115002F41.joblib\n"
     ]
    },
    {
     "name": "stdout",
     "output_type": "stream",
     "text": [
      "81150F4091\n",
      "persist-bo/persist-bo-demand-forecast/tpcap-models/20240913/ridge/ridge-t-81150F4091.joblib\n",
      "165720L030\n",
      "persist-bo/persist-bo-demand-forecast/tpcap-models/20240913/ridge/ridge-t-165720L030.joblib\n"
     ]
    },
    {
     "name": "stdout",
     "output_type": "stream",
     "text": [
      "164100D390\n",
      "persist-bo/persist-bo-demand-forecast/tpcap-models/20240913/ridge/ridge-t-164100D390.joblib\n",
      "7572002380\n",
      "persist-bo/persist-bo-demand-forecast/tpcap-models/20240913/ridge/ridge-t-7572002380.joblib\n"
     ]
    },
    {
     "name": "stdout",
     "output_type": "stream",
     "text": [
      "526760K031\n",
      "persist-bo/persist-bo-demand-forecast/tpcap-models/20240913/ridge/ridge-t-526760K031.joblib\n",
      "162580C010\n",
      "persist-bo/persist-bo-demand-forecast/tpcap-models/20240913/ridge/ridge-t-162580C010.joblib\n",
      "757400A030\n",
      "persist-bo/persist-bo-demand-forecast/tpcap-models/20240913/ridge/ridge-t-757400A030.joblib\n"
     ]
    },
    {
     "name": "stdout",
     "output_type": "stream",
     "text": [
      "7544106090\n",
      "persist-bo/persist-bo-demand-forecast/tpcap-models/20240913/ridge/ridge-t-7544106090.joblib\n",
      "770350K460\n",
      "persist-bo/persist-bo-demand-forecast/tpcap-models/20240913/ridge/ridge-t-770350K460.joblib\n",
      "1627137030\n",
      "persist-bo/persist-bo-demand-forecast/tpcap-models/20240913/ridge/ridge-t-1627137030.joblib\n"
     ]
    },
    {
     "name": "stdout",
     "output_type": "stream",
     "text": [
      "754690K060\n",
      "persist-bo/persist-bo-demand-forecast/tpcap-models/20240913/ridge/ridge-t-754690K060.joblib\n",
      "167110P030\n",
      "persist-bo/persist-bo-demand-forecast/tpcap-models/20240913/ridge/ridge-t-167110P030.joblib\n",
      "772040K050\n"
     ]
    },
    {
     "name": "stdout",
     "output_type": "stream",
     "text": [
      "persist-bo/persist-bo-demand-forecast/tpcap-models/20240913/ridge/ridge-t-772040K050.joblib\n",
      "163210T060\n",
      "persist-bo/persist-bo-demand-forecast/tpcap-models/20240913/ridge/ridge-t-163210T060.joblib\n",
      "770200K160\n",
      "persist-bo/persist-bo-demand-forecast/tpcap-models/20240913/ridge/ridge-t-770200K160.joblib\n"
     ]
    },
    {
     "name": "stdout",
     "output_type": "stream",
     "text": [
      "879100KF00\n",
      "persist-bo/persist-bo-demand-forecast/tpcap-models/20240913/ridge/ridge-t-879100KF00.joblib\n",
      "768770D060B0\n",
      "persist-bo/persist-bo-demand-forecast/tpcap-models/20240913/ridge/ridge-t-768770D060B0.joblib\n"
     ]
    },
    {
     "name": "stdout",
     "output_type": "stream",
     "text": [
      "772090K040\n",
      "persist-bo/persist-bo-demand-forecast/tpcap-models/20240913/ridge/ridge-t-772090K040.joblib\n",
      "163710C010\n",
      "persist-bo/persist-bo-demand-forecast/tpcap-models/20240913/ridge/ridge-t-163710C010.joblib\n"
     ]
    },
    {
     "name": "stdout",
     "output_type": "stream",
     "text": [
      "76902DX01000\n",
      "persist-bo/persist-bo-demand-forecast/tpcap-models/20240913/ridge/ridge-t-76902DX01000.joblib\n",
      "1657354100A1\n",
      "persist-bo/persist-bo-demand-forecast/tpcap-models/20240913/ridge/ridge-t-1657354100A1.joblib\n"
     ]
    },
    {
     "name": "stdout",
     "output_type": "stream",
     "text": [
      "7574006220\n",
      "persist-bo/persist-bo-demand-forecast/tpcap-models/20240913/ridge/ridge-t-7574006220.joblib\n",
      "164000V170\n",
      "persist-bo/persist-bo-demand-forecast/tpcap-models/20240913/ridge/ridge-t-164000V170.joblib\n",
      "770350K490\n",
      "persist-bo/persist-bo-demand-forecast/tpcap-models/20240913/ridge/ridge-t-770350K490.joblib\n"
     ]
    },
    {
     "name": "stdout",
     "output_type": "stream",
     "text": [
      "7573006220\n",
      "persist-bo/persist-bo-demand-forecast/tpcap-models/20240913/ridge/ridge-t-7573006220.joblib\n",
      "758950D050\n",
      "persist-bo/persist-bo-demand-forecast/tpcap-models/20240913/ridge/ridge-t-758950D050.joblib\n"
     ]
    },
    {
     "name": "stdout",
     "output_type": "stream",
     "text": [
      "165720C070\n",
      "persist-bo/persist-bo-demand-forecast/tpcap-models/20240913/ridge/ridge-t-165720C070.joblib\n",
      "16401630101\n",
      "persist-bo/persist-bo-demand-forecast/tpcap-models/20240913/ridge/ridge-t-16401630101.joblib\n"
     ]
    },
    {
     "name": "stdout",
     "output_type": "stream",
     "text": [
      "75601F4020\n",
      "persist-bo/persist-bo-demand-forecast/tpcap-models/20240913/ridge/ridge-t-75601F4020.joblib\n",
      "165710D270\n",
      "persist-bo/persist-bo-demand-forecast/tpcap-models/20240913/ridge/ridge-t-165710D270.joblib\n",
      "757700K430\n",
      "persist-bo/persist-bo-demand-forecast/tpcap-models/20240913/ridge/ridge-t-757700K430.joblib\n"
     ]
    },
    {
     "name": "stdout",
     "output_type": "stream",
     "text": [
      "771690K040\n",
      "persist-bo/persist-bo-demand-forecast/tpcap-models/20240913/ridge/ridge-t-771690K040.joblib\n",
      "757640A010\n",
      "persist-bo/persist-bo-demand-forecast/tpcap-models/20240913/ridge/ridge-t-757640A010.joblib\n",
      "772040K090\n",
      "persist-bo/persist-bo-demand-forecast/tpcap-models/20240913/ridge/ridge-t-772040K090.joblib\n"
     ]
    },
    {
     "name": "stdout",
     "output_type": "stream",
     "text": [
      "165710C080\n",
      "persist-bo/persist-bo-demand-forecast/tpcap-models/20240913/ridge/ridge-t-165710C080.joblib\n",
      "75770YP030\n",
      "persist-bo/persist-bo-demand-forecast/tpcap-models/20240913/ridge/ridge-t-75770YP030.joblib\n"
     ]
    },
    {
     "name": "stdout",
     "output_type": "stream",
     "text": [
      "165730V030\n",
      "persist-bo/persist-bo-demand-forecast/tpcap-models/20240913/ridge/ridge-t-165730V030.joblib\n",
      "165610T220\n",
      "persist-bo/persist-bo-demand-forecast/tpcap-models/20240913/ridge/ridge-t-165610T220.joblib\n",
      "5311202B80\n",
      "persist-bo/persist-bo-demand-forecast/tpcap-models/20240913/ridge/ridge-t-5311202B80.joblib\n"
     ]
    },
    {
     "name": "stdout",
     "output_type": "stream",
     "text": [
      "77255KK150\n",
      "persist-bo/persist-bo-demand-forecast/tpcap-models/20240913/ridge/ridge-t-77255KK150.joblib\n",
      "7576406130\n",
      "persist-bo/persist-bo-demand-forecast/tpcap-models/20240913/ridge/ridge-t-7576406130.joblib\n",
      "9006814041\n",
      "persist-bo/persist-bo-demand-forecast/tpcap-models/20240913/ridge/ridge-t-9006814041.joblib\n"
     ]
    },
    {
     "name": "stdout",
     "output_type": "stream",
     "text": [
      "4773128040\n",
      "persist-bo/persist-bo-demand-forecast/tpcap-models/20240913/ridge/ridge-t-4773128040.joblib\n",
      "8124004010A0\n",
      "persist-bo/persist-bo-demand-forecast/tpcap-models/20240913/ridge/ridge-t-8124004010A0.joblib\n"
     ]
    },
    {
     "name": "stdout",
     "output_type": "stream",
     "text": [
      "174300C130\n",
      "persist-bo/persist-bo-demand-forecast/tpcap-models/20240913/ridge/ridge-t-174300C130.joblib\n",
      "550450D180\n",
      "persist-bo/persist-bo-demand-forecast/tpcap-models/20240913/ridge/ridge-t-550450D180.joblib\n"
     ]
    },
    {
     "name": "stdout",
     "output_type": "stream",
     "text": [
      "112100L020\n",
      "persist-bo/persist-bo-demand-forecast/tpcap-models/20240913/ridge/ridge-t-112100L020.joblib\n",
      "811100DF31\n",
      "persist-bo/persist-bo-demand-forecast/tpcap-models/20240913/ridge/ridge-t-811100DF31.joblib\n"
     ]
    },
    {
     "name": "stdout",
     "output_type": "stream",
     "text": [
      "112130C030\n",
      "persist-bo/persist-bo-demand-forecast/tpcap-models/20240913/ridge/ridge-t-112130C030.joblib\n",
      "811100K041\n",
      "persist-bo/persist-bo-demand-forecast/tpcap-models/20240913/ridge/ridge-t-811100K041.joblib\n"
     ]
    },
    {
     "name": "stdout",
     "output_type": "stream",
     "text": [
      "682300K150\n",
      "persist-bo/persist-bo-demand-forecast/tpcap-models/20240913/ridge/ridge-t-682300K150.joblib\n",
      "8113002N10\n",
      "persist-bo/persist-bo-demand-forecast/tpcap-models/20240913/ridge/ridge-t-8113002N10.joblib\n"
     ]
    },
    {
     "name": "stdout",
     "output_type": "stream",
     "text": [
      "811160KA10\n",
      "persist-bo/persist-bo-demand-forecast/tpcap-models/20240913/ridge/ridge-t-811160KA10.joblib\n",
      "53908KK030\n",
      "persist-bo/persist-bo-demand-forecast/tpcap-models/20240913/ridge/ridge-t-53908KK030.joblib\n"
     ]
    },
    {
     "name": "stdout",
     "output_type": "stream",
     "text": [
      "8113002N20\n",
      "persist-bo/persist-bo-demand-forecast/tpcap-models/20240913/ridge/ridge-t-8113002N20.joblib\n",
      "61311BZ370\n"
     ]
    },
    {
     "name": "stdout",
     "output_type": "stream",
     "text": [
      "persist-bo/persist-bo-demand-forecast/tpcap-models/20240913/ridge/ridge-t-61311BZ370.joblib\n",
      "811300KJ80\n",
      "persist-bo/persist-bo-demand-forecast/tpcap-models/20240913/ridge/ridge-t-811300KJ80.joblib\n",
      "81150BZ610\n"
     ]
    },
    {
     "name": "stdout",
     "output_type": "stream",
     "text": [
      "persist-bo/persist-bo-demand-forecast/tpcap-models/20240913/ridge/ridge-t-81150BZ610.joblib\n",
      "177500H070\n",
      "persist-bo/persist-bo-demand-forecast/tpcap-models/20240913/ridge/ridge-t-177500H070.joblib\n",
      "811300L040\n"
     ]
    },
    {
     "name": "stdout",
     "output_type": "stream",
     "text": [
      "persist-bo/persist-bo-demand-forecast/tpcap-models/20240913/ridge/ridge-t-811300L040.joblib\n",
      "538760D320\n",
      "persist-bo/persist-bo-demand-forecast/tpcap-models/20240913/ridge/ridge-t-538760D320.joblib\n"
     ]
    },
    {
     "name": "stdout",
     "output_type": "stream",
     "text": [
      "112980Y070\n",
      "persist-bo/persist-bo-demand-forecast/tpcap-models/20240913/ridge/ridge-t-112980Y070.joblib\n",
      "176110C060\n",
      "persist-bo/persist-bo-demand-forecast/tpcap-models/20240913/ridge/ridge-t-176110C060.joblib\n"
     ]
    },
    {
     "name": "stdout",
     "output_type": "stream",
     "text": [
      "75441BZ450\n",
      "persist-bo/persist-bo-demand-forecast/tpcap-models/20240913/ridge/ridge-t-75441BZ450.joblib\n",
      "049490K010\n",
      "persist-bo/persist-bo-demand-forecast/tpcap-models/20240913/ridge/ridge-t-049490K010.joblib\n",
      "114480L010\n"
     ]
    },
    {
     "name": "stdout",
     "output_type": "stream",
     "text": [
      "persist-bo/persist-bo-demand-forecast/tpcap-models/20240913/ridge/ridge-t-114480L010.joblib\n",
      "67005KK010\n",
      "persist-bo/persist-bo-demand-forecast/tpcap-models/20240913/ridge/ridge-t-67005KK010.joblib\n",
      "67004KK021\n",
      "persist-bo/persist-bo-demand-forecast/tpcap-models/20240913/ridge/ridge-t-67004KK021.joblib\n"
     ]
    },
    {
     "name": "stdout",
     "output_type": "stream",
     "text": [
      "74226BZ020\n",
      "persist-bo/persist-bo-demand-forecast/tpcap-models/20240913/ridge/ridge-t-74226BZ020.joblib\n",
      "111150E020B0\n",
      "persist-bo/persist-bo-demand-forecast/tpcap-models/20240913/ridge/ridge-t-111150E020B0.joblib\n"
     ]
    },
    {
     "name": "stdout",
     "output_type": "stream",
     "text": [
      "670040D610\n",
      "persist-bo/persist-bo-demand-forecast/tpcap-models/20240913/ridge/ridge-t-670040D610.joblib\n",
      "5214106050\n",
      "persist-bo/persist-bo-demand-forecast/tpcap-models/20240913/ridge/ridge-t-5214106050.joblib\n"
     ]
    },
    {
     "name": "stdout",
     "output_type": "stream",
     "text": [
      "811160KE80\n",
      "persist-bo/persist-bo-demand-forecast/tpcap-models/20240913/ridge/ridge-t-811160KE80.joblib\n",
      "525330K050\n",
      "persist-bo/persist-bo-demand-forecast/tpcap-models/20240913/ridge/ridge-t-525330K050.joblib\n",
      "676650K010\n",
      "persist-bo/persist-bo-demand-forecast/tpcap-models/20240913/ridge/ridge-t-676650K010.joblib\n"
     ]
    },
    {
     "name": "stdout",
     "output_type": "stream",
     "text": [
      "69210BZ200B1\n",
      "persist-bo/persist-bo-demand-forecast/tpcap-models/20240913/ridge/ridge-t-69210BZ200B1.joblib\n",
      "677500D240\n",
      "persist-bo/persist-bo-demand-forecast/tpcap-models/20240913/ridge/ridge-t-677500D240.joblib\n"
     ]
    },
    {
     "name": "stdout",
     "output_type": "stream",
     "text": [
      "553020D210C0\n",
      "persist-bo/persist-bo-demand-forecast/tpcap-models/20240913/ridge/ridge-t-553020D210C0.joblib\n",
      "58842BZ150B0\n",
      "persist-bo/persist-bo-demand-forecast/tpcap-models/20240913/ridge/ridge-t-58842BZ150B0.joblib\n",
      "091130A010\n",
      "persist-bo/persist-bo-demand-forecast/tpcap-models/20240913/ridge/ridge-t-091130A010.joblib\n"
     ]
    },
    {
     "name": "stdout",
     "output_type": "stream",
     "text": [
      "674070A010\n",
      "persist-bo/persist-bo-demand-forecast/tpcap-models/20240913/ridge/ridge-t-674070A010.joblib\n",
      "113200L030\n",
      "persist-bo/persist-bo-demand-forecast/tpcap-models/20240913/ridge/ridge-t-113200L030.joblib\n"
     ]
    },
    {
     "name": "stdout",
     "output_type": "stream",
     "text": [
      "811300DF11\n",
      "persist-bo/persist-bo-demand-forecast/tpcap-models/20240913/ridge/ridge-t-811300DF11.joblib\n",
      "53102YZB02\n",
      "persist-bo/persist-bo-demand-forecast/tpcap-models/20240913/ridge/ridge-t-53102YZB02.joblib\n"
     ]
    },
    {
     "name": "stdout",
     "output_type": "stream",
     "text": [
      "811300DK50\n",
      "persist-bo/persist-bo-demand-forecast/tpcap-models/20240913/ridge/ridge-t-811300DK50.joblib\n",
      "772900K040\n",
      "persist-bo/persist-bo-demand-forecast/tpcap-models/20240913/ridge/ridge-t-772900K040.joblib\n"
     ]
    },
    {
     "name": "stdout",
     "output_type": "stream",
     "text": [
      "7735006210\n",
      "persist-bo/persist-bo-demand-forecast/tpcap-models/20240913/ridge/ridge-t-7735006210.joblib\n",
      "879400KD51\n",
      "persist-bo/persist-bo-demand-forecast/tpcap-models/20240913/ridge/ridge-t-879400KD51.joblib\n"
     ]
    },
    {
     "name": "stdout",
     "output_type": "stream",
     "text": [
      "173410E010\n",
      "persist-bo/persist-bo-demand-forecast/tpcap-models/20240913/ridge/ridge-t-173410E010.joblib\n",
      "8110A0A070\n",
      "persist-bo/persist-bo-demand-forecast/tpcap-models/20240913/ridge/ridge-t-8110A0A070.joblib\n"
     ]
    },
    {
     "name": "stdout",
     "output_type": "stream",
     "text": [
      "897450D060\n",
      "persist-bo/persist-bo-demand-forecast/tpcap-models/20240913/ridge/ridge-t-897450D060.joblib\n",
      "53805YP070\n",
      "persist-bo/persist-bo-demand-forecast/tpcap-models/20240913/ridge/ridge-t-53805YP070.joblib\n"
     ]
    },
    {
     "name": "stdout",
     "output_type": "stream",
     "text": [
      "174030L081\n",
      "persist-bo/persist-bo-demand-forecast/tpcap-models/20240913/ridge/ridge-t-174030L081.joblib\n",
      "174100L040\n",
      "persist-bo/persist-bo-demand-forecast/tpcap-models/20240913/ridge/ridge-t-174100L040.joblib\n",
      "810700K732\n"
     ]
    },
    {
     "name": "stdout",
     "output_type": "stream",
     "text": [
      "persist-bo/persist-bo-demand-forecast/tpcap-models/20240913/ridge/ridge-t-810700K732.joblib\n",
      "53112YP560C0\n",
      "persist-bo/persist-bo-demand-forecast/tpcap-models/20240913/ridge/ridge-t-53112YP560C0.joblib\n",
      "894650D140\n",
      "persist-bo/persist-bo-demand-forecast/tpcap-models/20240913/ridge/ridge-t-894650D140.joblib\n"
     ]
    },
    {
     "name": "stdout",
     "output_type": "stream",
     "text": [
      "174200H280\n",
      "persist-bo/persist-bo-demand-forecast/tpcap-models/20240913/ridge/ridge-t-174200H280.joblib\n",
      "812700D060\n",
      "persist-bo/persist-bo-demand-forecast/tpcap-models/20240913/ridge/ridge-t-812700D060.joblib\n",
      "5380606260\n",
      "persist-bo/persist-bo-demand-forecast/tpcap-models/20240913/ridge/ridge-t-5380606260.joblib\n"
     ]
    },
    {
     "name": "stdout",
     "output_type": "stream",
     "text": [
      "5261106340\n",
      "persist-bo/persist-bo-demand-forecast/tpcap-models/20240913/ridge/ridge-t-5261106340.joblib\n",
      "809600D280\n",
      "persist-bo/persist-bo-demand-forecast/tpcap-models/20240913/ridge/ridge-t-809600D280.joblib\n",
      "536300K010\n",
      "persist-bo/persist-bo-demand-forecast/tpcap-models/20240913/ridge/ridge-t-536300K010.joblib\n"
     ]
    },
    {
     "name": "stdout",
     "output_type": "stream",
     "text": [
      "772770K040\n",
      "persist-bo/persist-bo-demand-forecast/tpcap-models/20240913/ridge/ridge-t-772770K040.joblib\n",
      "174510L050\n",
      "persist-bo/persist-bo-demand-forecast/tpcap-models/20240913/ridge/ridge-t-174510L050.joblib\n"
     ]
    },
    {
     "name": "stdout",
     "output_type": "stream",
     "text": [
      "811500KM30\n",
      "persist-bo/persist-bo-demand-forecast/tpcap-models/20240913/ridge/ridge-t-811500KM30.joblib\n",
      "5339502290\n",
      "persist-bo/persist-bo-demand-forecast/tpcap-models/20240913/ridge/ridge-t-5339502290.joblib\n"
     ]
    },
    {
     "name": "stdout",
     "output_type": "stream",
     "text": [
      "178830L010\n",
      "persist-bo/persist-bo-demand-forecast/tpcap-models/20240913/ridge/ridge-t-178830L010.joblib\n",
      "811100A080\n",
      "persist-bo/persist-bo-demand-forecast/tpcap-models/20240913/ridge/ridge-t-811100A080.joblib\n",
      "538850K020\n"
     ]
    },
    {
     "name": "stdout",
     "output_type": "stream",
     "text": [
      "persist-bo/persist-bo-demand-forecast/tpcap-models/20240913/ridge/ridge-t-538850K020.joblib\n",
      "17881544101\n",
      "persist-bo/persist-bo-demand-forecast/tpcap-models/20240913/ridge/ridge-t-17881544101.joblib\n",
      "77710YZB014\n",
      "persist-bo/persist-bo-demand-forecast/tpcap-models/20240913/ridge/ridge-t-77710YZB014.joblib\n"
     ]
    },
    {
     "name": "stdout",
     "output_type": "stream",
     "text": [
      "777040D110\n",
      "persist-bo/persist-bo-demand-forecast/tpcap-models/20240913/ridge/ridge-t-777040D110.joblib\n",
      "16572BZ220\n",
      "persist-bo/persist-bo-demand-forecast/tpcap-models/20240913/ridge/ridge-t-16572BZ220.joblib\n"
     ]
    },
    {
     "name": "stdout",
     "output_type": "stream",
     "text": [
      "178810L110\n",
      "persist-bo/persist-bo-demand-forecast/tpcap-models/20240913/ridge/ridge-t-178810L110.joblib\n",
      "775010K020\n",
      "persist-bo/persist-bo-demand-forecast/tpcap-models/20240913/ridge/ridge-t-775010K020.joblib\n"
     ]
    },
    {
     "name": "stdout",
     "output_type": "stream",
     "text": [
      "167110M120\n",
      "persist-bo/persist-bo-demand-forecast/tpcap-models/20240913/ridge/ridge-t-167110M120.joblib\n",
      "536300K190\n",
      "persist-bo/persist-bo-demand-forecast/tpcap-models/20240913/ridge/ridge-t-536300K190.joblib\n"
     ]
    },
    {
     "name": "stdout",
     "output_type": "stream",
     "text": [
      "178810D260\n",
      "persist-bo/persist-bo-demand-forecast/tpcap-models/20240913/ridge/ridge-t-178810D260.joblib\n",
      "773600K030\n",
      "persist-bo/persist-bo-demand-forecast/tpcap-models/20240913/ridge/ridge-t-773600K030.joblib\n"
     ]
    },
    {
     "name": "stdout",
     "output_type": "stream",
     "text": [
      "77350K1010\n",
      "persist-bo/persist-bo-demand-forecast/tpcap-models/20240913/ridge/ridge-t-77350K1010.joblib\n",
      "123720T380\n",
      "persist-bo/persist-bo-demand-forecast/tpcap-models/20240913/ridge/ridge-t-123720T380.joblib\n"
     ]
    },
    {
     "name": "stdout",
     "output_type": "stream",
     "text": [
      "812600K070E0\n",
      "persist-bo/persist-bo-demand-forecast/tpcap-models/20240913/ridge/ridge-t-812600K070E0.joblib\n",
      "626390K180B0\n",
      "persist-bo/persist-bo-demand-forecast/tpcap-models/20240913/ridge/ridge-t-626390K180B0.joblib\n"
     ]
    },
    {
     "name": "stdout",
     "output_type": "stream",
     "text": [
      "90153T0001\n",
      "persist-bo/persist-bo-demand-forecast/tpcap-models/20240913/ridge/ridge-t-90153T0001.joblib\n",
      "3135326010\n",
      "persist-bo/persist-bo-demand-forecast/tpcap-models/20240913/ridge/ridge-t-3135326010.joblib\n"
     ]
    },
    {
     "name": "stdout",
     "output_type": "stream",
     "text": [
      "520230D090\n",
      "persist-bo/persist-bo-demand-forecast/tpcap-models/20240913/ridge/ridge-t-520230D090.joblib\n",
      "314830K010\n",
      "persist-bo/persist-bo-demand-forecast/tpcap-models/20240913/ridge/ridge-t-314830K010.joblib\n"
     ]
    },
    {
     "name": "stdout",
     "output_type": "stream",
     "text": [
      "8159106A00\n",
      "persist-bo/persist-bo-demand-forecast/tpcap-models/20240913/ridge/ridge-t-8159106A00.joblib\n",
      "27060F2080\n",
      "persist-bo/persist-bo-demand-forecast/tpcap-models/20240913/ridge/ridge-t-27060F2080.joblib\n",
      "31482KK030\n"
     ]
    },
    {
     "name": "stdout",
     "output_type": "stream",
     "text": [
      "persist-bo/persist-bo-demand-forecast/tpcap-models/20240913/ridge/ridge-t-31482KK030.joblib\n",
      "8158006A20\n",
      "persist-bo/persist-bo-demand-forecast/tpcap-models/20240913/ridge/ridge-t-8158006A20.joblib\n"
     ]
    },
    {
     "name": "stdout",
     "output_type": "stream",
     "text": [
      "519000K120\n",
      "persist-bo/persist-bo-demand-forecast/tpcap-models/20240913/ridge/ridge-t-519000K120.joblib\n",
      "815800A030\n",
      "persist-bo/persist-bo-demand-forecast/tpcap-models/20240913/ridge/ridge-t-815800A030.joblib\n",
      "5211602140\n",
      "persist-bo/persist-bo-demand-forecast/tpcap-models/20240913/ridge/ridge-t-5211602140.joblib\n"
     ]
    },
    {
     "name": "stdout",
     "output_type": "stream",
     "text": [
      "31470BZ050\n",
      "persist-bo/persist-bo-demand-forecast/tpcap-models/20240913/ridge/ridge-t-31470BZ050.joblib\n",
      "815810A020\n",
      "persist-bo/persist-bo-demand-forecast/tpcap-models/20240913/ridge/ridge-t-815810A020.joblib\n",
      "815800K181\n"
     ]
    },
    {
     "name": "stdout",
     "output_type": "stream",
     "text": [
      "persist-bo/persist-bo-demand-forecast/tpcap-models/20240913/ridge/ridge-t-815800K181.joblib\n",
      "331030K100\n",
      "persist-bo/persist-bo-demand-forecast/tpcap-models/20240913/ridge/ridge-t-331030K100.joblib\n",
      "76622BZ070\n",
      "persist-bo/persist-bo-demand-forecast/tpcap-models/20240913/ridge/ridge-t-76622BZ070.joblib\n"
     ]
    },
    {
     "name": "stdout",
     "output_type": "stream",
     "text": [
      "815510D460\n",
      "persist-bo/persist-bo-demand-forecast/tpcap-models/20240913/ridge/ridge-t-815510D460.joblib\n",
      "8159106680\n",
      "persist-bo/persist-bo-demand-forecast/tpcap-models/20240913/ridge/ridge-t-8159106680.joblib\n"
     ]
    },
    {
     "name": "stdout",
     "output_type": "stream",
     "text": [
      "520230K041\n",
      "persist-bo/persist-bo-demand-forecast/tpcap-models/20240913/ridge/ridge-t-520230K041.joblib\n",
      "521590K621\n",
      "persist-bo/persist-bo-demand-forecast/tpcap-models/20240913/ridge/ridge-t-521590K621.joblib\n"
     ]
    },
    {
     "name": "stdout",
     "output_type": "stream",
     "text": [
      "8158006680\n",
      "persist-bo/persist-bo-demand-forecast/tpcap-models/20240913/ridge/ridge-t-8158006680.joblib\n",
      "435120K120\n",
      "persist-bo/persist-bo-demand-forecast/tpcap-models/20240913/ridge/ridge-t-435120K120.joblib\n"
     ]
    },
    {
     "name": "stdout",
     "output_type": "stream",
     "text": [
      "879310KC80\n",
      "persist-bo/persist-bo-demand-forecast/tpcap-models/20240913/ridge/ridge-t-879310KC80.joblib\n",
      "879310L010\n",
      "persist-bo/persist-bo-demand-forecast/tpcap-models/20240913/ridge/ridge-t-879310L010.joblib\n",
      "16711BZ160\n",
      "persist-bo/persist-bo-demand-forecast/tpcap-models/20240913/ridge/ridge-t-16711BZ160.joblib\n"
     ]
    },
    {
     "name": "stdout",
     "output_type": "stream",
     "text": [
      "330190K100\n",
      "persist-bo/persist-bo-demand-forecast/tpcap-models/20240913/ridge/ridge-t-330190K100.joblib\n",
      "8156189163A1\n",
      "persist-bo/persist-bo-demand-forecast/tpcap-models/20240913/ridge/ridge-t-8156189163A1.joblib\n",
      "521020K171\n"
     ]
    },
    {
     "name": "stdout",
     "output_type": "stream",
     "text": [
      "persist-bo/persist-bo-demand-forecast/tpcap-models/20240913/ridge/ridge-t-521020K171.joblib\n",
      "52113YP040\n",
      "persist-bo/persist-bo-demand-forecast/tpcap-models/20240913/ridge/ridge-t-52113YP040.joblib\n"
     ]
    },
    {
     "name": "stdout",
     "output_type": "stream",
     "text": [
      "485300D570\n",
      "persist-bo/persist-bo-demand-forecast/tpcap-models/20240913/ridge/ridge-t-485300D570.joblib\n",
      "815610K352\n",
      "persist-bo/persist-bo-demand-forecast/tpcap-models/20240913/ridge/ridge-t-815610K352.joblib\n",
      "815610D460\n"
     ]
    },
    {
     "name": "stdout",
     "output_type": "stream",
     "text": [
      "persist-bo/persist-bo-demand-forecast/tpcap-models/20240913/ridge/ridge-t-815610D460.joblib\n",
      "43512BZ340\n",
      "persist-bo/persist-bo-demand-forecast/tpcap-models/20240913/ridge/ridge-t-43512BZ340.joblib\n",
      "329210K030\n",
      "persist-bo/persist-bo-demand-forecast/tpcap-models/20240913/ridge/ridge-t-329210K030.joblib\n"
     ]
    },
    {
     "name": "stdout",
     "output_type": "stream",
     "text": [
      "8158006460\n",
      "persist-bo/persist-bo-demand-forecast/tpcap-models/20240913/ridge/ridge-t-8158006460.joblib\n",
      "681720K030\n",
      "persist-bo/persist-bo-demand-forecast/tpcap-models/20240913/ridge/ridge-t-681720K030.joblib\n",
      "314900K040\n"
     ]
    },
    {
     "name": "stdout",
     "output_type": "stream",
     "text": [
      "persist-bo/persist-bo-demand-forecast/tpcap-models/20240913/ridge/ridge-t-314900K040.joblib\n",
      "330300KE50\n",
      "persist-bo/persist-bo-demand-forecast/tpcap-models/20240913/ridge/ridge-t-330300KE50.joblib\n"
     ]
    },
    {
     "name": "stdout",
     "output_type": "stream",
     "text": [
      "521110A900\n",
      "persist-bo/persist-bo-demand-forecast/tpcap-models/20240913/ridge/ridge-t-521110A900.joblib\n",
      "281400L260\n",
      "persist-bo/persist-bo-demand-forecast/tpcap-models/20240913/ridge/ridge-t-281400L260.joblib\n",
      "5211502140\n",
      "persist-bo/persist-bo-demand-forecast/tpcap-models/20240913/ridge/ridge-t-5211502140.joblib\n"
     ]
    },
    {
     "name": "stdout",
     "output_type": "stream",
     "text": [
      "821210A120\n",
      "persist-bo/persist-bo-demand-forecast/tpcap-models/20240913/ridge/ridge-t-821210A120.joblib\n",
      "4840960040\n",
      "persist-bo/persist-bo-demand-forecast/tpcap-models/20240913/ridge/ridge-t-4840960040.joblib\n",
      "821110A150\n",
      "persist-bo/persist-bo-demand-forecast/tpcap-models/20240913/ridge/ridge-t-821110A150.joblib\n"
     ]
    },
    {
     "name": "stdout",
     "output_type": "stream",
     "text": [
      "487250D120\n",
      "persist-bo/persist-bo-demand-forecast/tpcap-models/20240913/ridge/ridge-t-487250D120.joblib\n",
      "411100KA90\n",
      "persist-bo/persist-bo-demand-forecast/tpcap-models/20240913/ridge/ridge-t-411100KA90.joblib\n"
     ]
    },
    {
     "name": "stdout",
     "output_type": "stream",
     "text": [
      "8174002060\n",
      "persist-bo/persist-bo-demand-forecast/tpcap-models/20240913/ridge/ridge-t-8174002060.joblib\n",
      "5714212070\n",
      "persist-bo/persist-bo-demand-forecast/tpcap-models/20240913/ridge/ridge-t-5714212070.joblib\n",
      "411100KA80\n",
      "persist-bo/persist-bo-demand-forecast/tpcap-models/20240913/ridge/ridge-t-411100KA80.joblib\n"
     ]
    },
    {
     "name": "stdout",
     "output_type": "stream",
     "text": [
      "817400K020\n",
      "persist-bo/persist-bo-demand-forecast/tpcap-models/20240913/ridge/ridge-t-817400K020.joblib\n",
      "51420KK010\n",
      "persist-bo/persist-bo-demand-forecast/tpcap-models/20240913/ridge/ridge-t-51420KK010.joblib\n"
     ]
    },
    {
     "name": "stdout",
     "output_type": "stream",
     "text": [
      "82125KK010\n",
      "persist-bo/persist-bo-demand-forecast/tpcap-models/20240913/ridge/ridge-t-82125KK010.joblib\n",
      "411100KA30\n",
      "persist-bo/persist-bo-demand-forecast/tpcap-models/20240913/ridge/ridge-t-411100KA30.joblib\n"
     ]
    },
    {
     "name": "stdout",
     "output_type": "stream",
     "text": [
      "8264171020\n",
      "persist-bo/persist-bo-demand-forecast/tpcap-models/20240913/ridge/ridge-t-8264171020.joblib\n",
      "485300D610\n",
      "persist-bo/persist-bo-demand-forecast/tpcap-models/20240913/ridge/ridge-t-485300D610.joblib\n"
     ]
    },
    {
     "name": "stdout",
     "output_type": "stream",
     "text": [
      "5590202040\n",
      "persist-bo/persist-bo-demand-forecast/tpcap-models/20240913/ridge/ridge-t-5590202040.joblib\n",
      "4120109D00\n",
      "persist-bo/persist-bo-demand-forecast/tpcap-models/20240913/ridge/ridge-t-4120109D00.joblib\n",
      "838000W280\n",
      "persist-bo/persist-bo-demand-forecast/tpcap-models/20240913/ridge/ridge-t-838000W280.joblib\n"
     ]
    },
    {
     "name": "stdout",
     "output_type": "stream",
     "text": [
      "412040K100\n",
      "persist-bo/persist-bo-demand-forecast/tpcap-models/20240913/ridge/ridge-t-412040K100.joblib\n",
      "4881502080\n",
      "persist-bo/persist-bo-demand-forecast/tpcap-models/20240913/ridge/ridge-t-4881502080.joblib\n"
     ]
    },
    {
     "name": "stdout",
     "output_type": "stream",
     "text": [
      "815520D180\n",
      "persist-bo/persist-bo-demand-forecast/tpcap-models/20240913/ridge/ridge-t-815520D180.joblib\n",
      "281400L030\n",
      "persist-bo/persist-bo-demand-forecast/tpcap-models/20240913/ridge/ridge-t-281400L030.joblib\n"
     ]
    },
    {
     "name": "stdout",
     "output_type": "stream",
     "text": [
      "815600A070\n",
      "persist-bo/persist-bo-demand-forecast/tpcap-models/20240913/ridge/ridge-t-815600A070.joblib\n",
      "7434806030A0\n",
      "persist-bo/persist-bo-demand-forecast/tpcap-models/20240913/ridge/ridge-t-7434806030A0.joblib\n"
     ]
    },
    {
     "name": "stdout",
     "output_type": "stream",
     "text": [
      "8990H02190\n",
      "persist-bo/persist-bo-demand-forecast/tpcap-models/20240913/ridge/ridge-t-8990H02190.joblib\n",
      "815550K510\n",
      "persist-bo/persist-bo-demand-forecast/tpcap-models/20240913/ridge/ridge-t-815550K510.joblib\n"
     ]
    },
    {
     "name": "stdout",
     "output_type": "stream",
     "text": [
      "74310BZ510B0\n",
      "persist-bo/persist-bo-demand-forecast/tpcap-models/20240913/ridge/ridge-t-74310BZ510B0.joblib\n",
      "815500L012\n",
      "persist-bo/persist-bo-demand-forecast/tpcap-models/20240913/ridge/ridge-t-815500L012.joblib\n"
     ]
    },
    {
     "name": "stdout",
     "output_type": "stream",
     "text": [
      "81554YE010\n",
      "persist-bo/persist-bo-demand-forecast/tpcap-models/20240913/ridge/ridge-t-81554YE010.joblib\n",
      "314200K080\n",
      "persist-bo/persist-bo-demand-forecast/tpcap-models/20240913/ridge/ridge-t-314200K080.joblib\n"
     ]
    },
    {
     "name": "stdout",
     "output_type": "stream",
     "text": [
      "521590A960\n",
      "persist-bo/persist-bo-demand-forecast/tpcap-models/20240913/ridge/ridge-t-521590A960.joblib\n",
      "827110K070\n",
      "persist-bo/persist-bo-demand-forecast/tpcap-models/20240913/ridge/ridge-t-827110K070.joblib\n"
     ]
    },
    {
     "name": "stdout",
     "output_type": "stream",
     "text": [
      "488150D111\n",
      "persist-bo/persist-bo-demand-forecast/tpcap-models/20240913/ridge/ridge-t-488150D111.joblib\n",
      "3147004020\n",
      "persist-bo/persist-bo-demand-forecast/tpcap-models/20240913/ridge/ridge-t-3147004020.joblib\n",
      "827300KB70\n",
      "persist-bo/persist-bo-demand-forecast/tpcap-models/20240913/ridge/ridge-t-827300KB70.joblib\n"
     ]
    },
    {
     "name": "stdout",
     "output_type": "stream",
     "text": [
      "8423102070\n",
      "persist-bo/persist-bo-demand-forecast/tpcap-models/20240913/ridge/ridge-t-8423102070.joblib\n",
      "52113YP010\n",
      "persist-bo/persist-bo-demand-forecast/tpcap-models/20240913/ridge/ridge-t-52113YP010.joblib\n",
      "4121426011\n",
      "persist-bo/persist-bo-demand-forecast/tpcap-models/20240913/ridge/ridge-t-4121426011.joblib\n"
     ]
    },
    {
     "name": "stdout",
     "output_type": "stream",
     "text": [
      "879310KA00\n",
      "persist-bo/persist-bo-demand-forecast/tpcap-models/20240913/ridge/ridge-t-879310KA00.joblib\n",
      "521120A901\n",
      "persist-bo/persist-bo-demand-forecast/tpcap-models/20240913/ridge/ridge-t-521120A901.joblib\n"
     ]
    },
    {
     "name": "stdout",
     "output_type": "stream",
     "text": [
      "4854109470\n",
      "persist-bo/persist-bo-demand-forecast/tpcap-models/20240913/ridge/ridge-t-4854109470.joblib\n",
      "848200K051\n",
      "persist-bo/persist-bo-demand-forecast/tpcap-models/20240913/ridge/ridge-t-848200K051.joblib\n",
      "5838702030B0\n",
      "persist-bo/persist-bo-demand-forecast/tpcap-models/20240913/ridge/ridge-t-5838702030B0.joblib\n"
     ]
    },
    {
     "name": "stdout",
     "output_type": "stream",
     "text": [
      "4244126010\n",
      "persist-bo/persist-bo-demand-forecast/tpcap-models/20240913/ridge/ridge-t-4244126010.joblib\n",
      "853750D160\n",
      "persist-bo/persist-bo-demand-forecast/tpcap-models/20240913/ridge/ridge-t-853750D160.joblib\n"
     ]
    },
    {
     "name": "stdout",
     "output_type": "stream",
     "text": [
      "6921102260\n",
      "persist-bo/persist-bo-demand-forecast/tpcap-models/20240913/ridge/ridge-t-6921102260.joblib\n",
      "485100D720\n",
      "persist-bo/persist-bo-demand-forecast/tpcap-models/20240913/ridge/ridge-t-485100D720.joblib\n",
      "424410K041\n",
      "persist-bo/persist-bo-demand-forecast/tpcap-models/20240913/ridge/ridge-t-424410K041.joblib\n"
     ]
    },
    {
     "name": "stdout",
     "output_type": "stream",
     "text": [
      "8571002600\n",
      "persist-bo/persist-bo-demand-forecast/tpcap-models/20240913/ridge/ridge-t-8571002600.joblib\n",
      "8572006360\n",
      "persist-bo/persist-bo-demand-forecast/tpcap-models/20240913/ridge/ridge-t-8572006360.joblib\n"
     ]
    },
    {
     "name": "stdout",
     "output_type": "stream",
     "text": [
      "757230K050\n",
      "persist-bo/persist-bo-demand-forecast/tpcap-models/20240913/ridge/ridge-t-757230K050.joblib\n",
      "521590Z934\n",
      "persist-bo/persist-bo-demand-forecast/tpcap-models/20240913/ridge/ridge-t-521590Z934.joblib\n",
      "42316KK010\n"
     ]
    },
    {
     "name": "stdout",
     "output_type": "stream",
     "text": [
      "persist-bo/persist-bo-demand-forecast/tpcap-models/20240913/ridge/ridge-t-42316KK010.joblib\n",
      "8791006780\n",
      "persist-bo/persist-bo-demand-forecast/tpcap-models/20240913/ridge/ridge-t-8791006780.joblib\n"
     ]
    },
    {
     "name": "stdout",
     "output_type": "stream",
     "text": [
      "485108Z223\n",
      "persist-bo/persist-bo-demand-forecast/tpcap-models/20240913/ridge/ridge-t-485108Z223.joblib\n",
      "848720A030\n",
      "persist-bo/persist-bo-demand-forecast/tpcap-models/20240913/ridge/ridge-t-848720A030.joblib\n"
     ]
    },
    {
     "name": "stdout",
     "output_type": "stream",
     "text": [
      "426110D111\n",
      "persist-bo/persist-bo-demand-forecast/tpcap-models/20240913/ridge/ridge-t-426110D111.joblib\n",
      "75931BZ050C0\n",
      "persist-bo/persist-bo-demand-forecast/tpcap-models/20240913/ridge/ridge-t-75931BZ050C0.joblib\n"
     ]
    },
    {
     "name": "stdout",
     "output_type": "stream",
     "text": [
      "852420D060\n",
      "persist-bo/persist-bo-demand-forecast/tpcap-models/20240913/ridge/ridge-t-852420D060.joblib\n",
      "4853002C61\n",
      "persist-bo/persist-bo-demand-forecast/tpcap-models/20240913/ridge/ridge-t-4853002C61.joblib\n"
     ]
    },
    {
     "name": "stdout",
     "output_type": "stream",
     "text": [
      "872450KE11\n",
      "persist-bo/persist-bo-demand-forecast/tpcap-models/20240913/ridge/ridge-t-872450KE11.joblib\n",
      "872450KE01\n",
      "persist-bo/persist-bo-demand-forecast/tpcap-models/20240913/ridge/ridge-t-872450KE01.joblib\n",
      "8791002J10\n"
     ]
    },
    {
     "name": "stdout",
     "output_type": "stream",
     "text": [
      "persist-bo/persist-bo-demand-forecast/tpcap-models/20240913/ridge/ridge-t-8791002J10.joblib\n",
      "871070K110\n",
      "persist-bo/persist-bo-demand-forecast/tpcap-models/20240913/ridge/ridge-t-871070K110.joblib\n",
      "65632BZ020\n",
      "persist-bo/persist-bo-demand-forecast/tpcap-models/20240913/ridge/ridge-t-65632BZ020.joblib\n"
     ]
    },
    {
     "name": "stdout",
     "output_type": "stream",
     "text": [
      "871300K631\n",
      "persist-bo/persist-bo-demand-forecast/tpcap-models/20240913/ridge/ridge-t-871300K631.joblib\n",
      "4244355020\n",
      "persist-bo/persist-bo-demand-forecast/tpcap-models/20240913/ridge/ridge-t-4244355020.joblib\n",
      "53811BZ380\n",
      "persist-bo/persist-bo-demand-forecast/tpcap-models/20240913/ridge/ridge-t-53811BZ380.joblib\n"
     ]
    },
    {
     "name": "stdout",
     "output_type": "stream",
     "text": [
      "871300K640\n",
      "persist-bo/persist-bo-demand-forecast/tpcap-models/20240913/ridge/ridge-t-871300K640.joblib\n",
      "485100DJ00\n",
      "persist-bo/persist-bo-demand-forecast/tpcap-models/20240913/ridge/ridge-t-485100DJ00.joblib\n"
     ]
    },
    {
     "name": "stdout",
     "output_type": "stream",
     "text": [
      "PZ08100005\n",
      "persist-bo/persist-bo-demand-forecast/tpcap-models/20240913/ridge/ridge-t-PZ08100005.joblib\n",
      "8710706060\n",
      "persist-bo/persist-bo-demand-forecast/tpcap-models/20240913/ridge/ridge-t-8710706060.joblib\n",
      "852070K050\n",
      "persist-bo/persist-bo-demand-forecast/tpcap-models/20240913/ridge/ridge-t-852070K050.joblib\n"
     ]
    },
    {
     "name": "stdout",
     "output_type": "stream",
     "text": [
      "4851009X40\n",
      "persist-bo/persist-bo-demand-forecast/tpcap-models/20240913/ridge/ridge-t-4851009X40.joblib\n",
      "426110KD51\n",
      "persist-bo/persist-bo-demand-forecast/tpcap-models/20240913/ridge/ridge-t-426110KD51.joblib\n",
      "861900K010\n",
      "persist-bo/persist-bo-demand-forecast/tpcap-models/20240913/ridge/ridge-t-861900K010.joblib\n"
     ]
    },
    {
     "name": "stdout",
     "output_type": "stream",
     "text": [
      "434420K010\n",
      "persist-bo/persist-bo-demand-forecast/tpcap-models/20240913/ridge/ridge-t-434420K010.joblib\n",
      "879610KB60\n",
      "persist-bo/persist-bo-demand-forecast/tpcap-models/20240913/ridge/ridge-t-879610KB60.joblib\n",
      "757200K030\n"
     ]
    },
    {
     "name": "stdout",
     "output_type": "stream",
     "text": [
      "persist-bo/persist-bo-demand-forecast/tpcap-models/20240913/ridge/ridge-t-757200K030.joblib\n",
      "485108Z526\n",
      "persist-bo/persist-bo-demand-forecast/tpcap-models/20240913/ridge/ridge-t-485108Z526.joblib\n",
      "4355002120\n",
      "persist-bo/persist-bo-demand-forecast/tpcap-models/20240913/ridge/ridge-t-4355002120.joblib\n"
     ]
    },
    {
     "name": "stdout",
     "output_type": "stream",
     "text": [
      "884310K010\n",
      "persist-bo/persist-bo-demand-forecast/tpcap-models/20240913/ridge/ridge-t-884310K010.joblib\n",
      "4333009681\n",
      "persist-bo/persist-bo-demand-forecast/tpcap-models/20240913/ridge/ridge-t-4333009681.joblib\n",
      "521590K933\n"
     ]
    },
    {
     "name": "stdout",
     "output_type": "stream",
     "text": [
      "persist-bo/persist-bo-demand-forecast/tpcap-models/20240913/ridge/ridge-t-521590K933.joblib\n",
      "879150K190\n",
      "persist-bo/persist-bo-demand-forecast/tpcap-models/20240913/ridge/ridge-t-879150K190.joblib\n",
      "871390D170\n"
     ]
    },
    {
     "name": "stdout",
     "output_type": "stream",
     "text": [
      "persist-bo/persist-bo-demand-forecast/tpcap-models/20240913/ridge/ridge-t-871390D170.joblib\n",
      "879100K723\n",
      "persist-bo/persist-bo-demand-forecast/tpcap-models/20240913/ridge/ridge-t-879100K723.joblib\n"
     ]
    },
    {
     "name": "stdout",
     "output_type": "stream",
     "text": [
      "4852009J80\n",
      "persist-bo/persist-bo-demand-forecast/tpcap-models/20240913/ridge/ridge-t-4852009J80.joblib\n",
      "43212KK030\n",
      "persist-bo/persist-bo-demand-forecast/tpcap-models/20240913/ridge/ridge-t-43212KK030.joblib\n"
     ]
    },
    {
     "name": "stdout",
     "output_type": "stream",
     "text": [
      "879400D750\n",
      "persist-bo/persist-bo-demand-forecast/tpcap-models/20240913/ridge/ridge-t-879400D750.joblib\n",
      "8430602080PH\n",
      "persist-bo/persist-bo-demand-forecast/tpcap-models/20240913/ridge/ridge-t-8430602080PH.joblib\n"
     ]
    },
    {
     "name": "stdout",
     "output_type": "stream",
     "text": [
      "4321202270\n",
      "persist-bo/persist-bo-demand-forecast/tpcap-models/20240913/ridge/ridge-t-4321202270.joblib\n",
      "8794002G80\n",
      "persist-bo/persist-bo-demand-forecast/tpcap-models/20240913/ridge/ridge-t-8794002G80.joblib\n"
     ]
    },
    {
     "name": "stdout",
     "output_type": "stream",
     "text": [
      "8794002M41\n",
      "persist-bo/persist-bo-demand-forecast/tpcap-models/20240913/ridge/ridge-t-8794002M41.joblib\n",
      "12309BZ250\n",
      "persist-bo/persist-bo-demand-forecast/tpcap-models/20240913/ridge/ridge-t-12309BZ250.joblib\n",
      "883590K010\n",
      "persist-bo/persist-bo-demand-forecast/tpcap-models/20240913/ridge/ridge-t-883590K010.joblib\n"
     ]
    },
    {
     "name": "stdout",
     "output_type": "stream",
     "text": [
      "8862547021\n",
      "persist-bo/persist-bo-demand-forecast/tpcap-models/20240913/ridge/ridge-t-8862547021.joblib\n",
      "444060K050\n",
      "persist-bo/persist-bo-demand-forecast/tpcap-models/20240913/ridge/ridge-t-444060K050.joblib\n",
      "4244360010\n",
      "persist-bo/persist-bo-demand-forecast/tpcap-models/20240913/ridge/ridge-t-4244360010.joblib\n"
     ]
    },
    {
     "name": "stdout",
     "output_type": "stream",
     "text": [
      "879610K760\n",
      "persist-bo/persist-bo-demand-forecast/tpcap-models/20240913/ridge/ridge-t-879610K760.joblib\n",
      "90364T0027\n",
      "persist-bo/persist-bo-demand-forecast/tpcap-models/20240913/ridge/ridge-t-90364T0027.joblib\n"
     ]
    },
    {
     "name": "stdout",
     "output_type": "stream",
     "text": [
      "879610K730\n",
      "persist-bo/persist-bo-demand-forecast/tpcap-models/20240913/ridge/ridge-t-879610K730.joblib\n",
      "485208Z072\n",
      "persist-bo/persist-bo-demand-forecast/tpcap-models/20240913/ridge/ridge-t-485208Z072.joblib\n"
     ]
    },
    {
     "name": "stdout",
     "output_type": "stream",
     "text": [
      "4431006130\n",
      "persist-bo/persist-bo-demand-forecast/tpcap-models/20240913/ridge/ridge-t-4431006130.joblib\n",
      "87961F4120\n",
      "persist-bo/persist-bo-demand-forecast/tpcap-models/20240913/ridge/ridge-t-87961F4120.joblib\n"
     ]
    },
    {
     "name": "stdout",
     "output_type": "stream",
     "text": [
      "879610KB40\n",
      "persist-bo/persist-bo-demand-forecast/tpcap-models/20240913/ridge/ridge-t-879610KB40.joblib\n",
      "90311T0080\n",
      "persist-bo/persist-bo-demand-forecast/tpcap-models/20240913/ridge/ridge-t-90311T0080.joblib\n"
     ]
    },
    {
     "name": "stdout",
     "output_type": "stream",
     "text": [
      "8850106540\n",
      "persist-bo/persist-bo-demand-forecast/tpcap-models/20240913/ridge/ridge-t-8850106540.joblib\n",
      "4806809221\n",
      "persist-bo/persist-bo-demand-forecast/tpcap-models/20240913/ridge/ridge-t-4806809221.joblib\n"
     ]
    },
    {
     "name": "stdout",
     "output_type": "stream",
     "text": [
      "884600K470\n",
      "persist-bo/persist-bo-demand-forecast/tpcap-models/20240913/ridge/ridge-t-884600K470.joblib\n",
      "485208Z079\n",
      "persist-bo/persist-bo-demand-forecast/tpcap-models/20240913/ridge/ridge-t-485208Z079.joblib\n",
      "444160K010\n",
      "persist-bo/persist-bo-demand-forecast/tpcap-models/20240913/ridge/ridge-t-444160K010.joblib\n"
     ]
    },
    {
     "name": "stdout",
     "output_type": "stream",
     "text": [
      "885780K100\n",
      "persist-bo/persist-bo-demand-forecast/tpcap-models/20240913/ridge/ridge-t-885780K100.joblib\n",
      "130410C06006\n",
      "persist-bo/persist-bo-demand-forecast/tpcap-models/20240913/ridge/ridge-t-130410C06006.joblib\n"
     ]
    },
    {
     "name": "stdout",
     "output_type": "stream",
     "text": [
      "42638BZ420\n",
      "persist-bo/persist-bo-demand-forecast/tpcap-models/20240913/ridge/ridge-t-42638BZ420.joblib\n",
      "90541090694\n",
      "persist-bo/persist-bo-demand-forecast/tpcap-models/20240913/ridge/ridge-t-90541090694.joblib\n"
     ]
    },
    {
     "name": "stdout",
     "output_type": "stream",
     "text": [
      "16595F0510\n",
      "persist-bo/persist-bo-demand-forecast/tpcap-models/20240913/ridge/ridge-t-16595F0510.joblib\n",
      "51441KK030\n",
      "persist-bo/persist-bo-demand-forecast/tpcap-models/20240913/ridge/ridge-t-51441KK030.joblib\n"
     ]
    },
    {
     "name": "stdout",
     "output_type": "stream",
     "text": [
      "554000A040C0\n",
      "persist-bo/persist-bo-demand-forecast/tpcap-models/20240913/ridge/ridge-t-554000A040C0.joblib\n",
      "9006833160\n",
      "persist-bo/persist-bo-demand-forecast/tpcap-models/20240913/ridge/ridge-t-9006833160.joblib\n"
     ]
    },
    {
     "name": "stdout",
     "output_type": "stream",
     "text": [
      "9006833159\n",
      "persist-bo/persist-bo-demand-forecast/tpcap-models/20240913/ridge/ridge-t-9006833159.joblib\n",
      "481310K790\n",
      "persist-bo/persist-bo-demand-forecast/tpcap-models/20240913/ridge/ridge-t-481310K790.joblib\n"
     ]
    },
    {
     "name": "stdout",
     "output_type": "stream",
     "text": [
      "55318KK020C0\n",
      "persist-bo/persist-bo-demand-forecast/tpcap-models/20240913/ridge/ridge-t-55318KK020C0.joblib\n",
      "90981TD002\n",
      "persist-bo/persist-bo-demand-forecast/tpcap-models/20240913/ridge/ridge-t-90981TD002.joblib\n",
      "9008050404\n"
     ]
    },
    {
     "name": "stdout",
     "output_type": "stream",
     "text": [
      "persist-bo/persist-bo-demand-forecast/tpcap-models/20240913/ridge/ridge-t-9008050404.joblib\n",
      "4806802380\n",
      "persist-bo/persist-bo-demand-forecast/tpcap-models/20240913/ridge/ridge-t-4806802380.joblib\n"
     ]
    },
    {
     "name": "stdout",
     "output_type": "stream",
     "text": [
      "9531313034\n",
      "persist-bo/persist-bo-demand-forecast/tpcap-models/20240913/ridge/ridge-t-9531313034.joblib\n",
      "99332111808T\n",
      "persist-bo/persist-bo-demand-forecast/tpcap-models/20240913/ridge/ridge-t-99332111808T.joblib\n"
     ]
    },
    {
     "name": "stdout",
     "output_type": "stream",
     "text": [
      "480680M010\n",
      "persist-bo/persist-bo-demand-forecast/tpcap-models/20240913/ridge/ridge-t-480680M010.joblib\n",
      "57605KK020\n",
      "persist-bo/persist-bo-demand-forecast/tpcap-models/20240913/ridge/ridge-t-57605KK020.joblib\n",
      "90975T2030\n"
     ]
    },
    {
     "name": "stdout",
     "output_type": "stream",
     "text": [
      "persist-bo/persist-bo-demand-forecast/tpcap-models/20240913/ridge/ridge-t-90975T2030.joblib\n",
      "627340K010\n",
      "persist-bo/persist-bo-demand-forecast/tpcap-models/20240913/ridge/ridge-t-627340K010.joblib\n",
      "477310D100\n",
      "persist-bo/persist-bo-demand-forecast/tpcap-models/20240913/ridge/ridge-t-477310D100.joblib\n"
     ]
    },
    {
     "name": "stdout",
     "output_type": "stream",
     "text": [
      "57225KK010\n",
      "persist-bo/persist-bo-demand-forecast/tpcap-models/20240913/ridge/ridge-t-57225KK010.joblib\n",
      "9004A50087\n",
      "persist-bo/persist-bo-demand-forecast/tpcap-models/20240913/ridge/ridge-t-9004A50087.joblib\n"
     ]
    },
    {
     "name": "stdout",
     "output_type": "stream",
     "text": [
      "5219712080\n",
      "persist-bo/persist-bo-demand-forecast/tpcap-models/20240913/ridge/ridge-t-5219712080.joblib\n",
      "PZ013BZ002\n",
      "persist-bo/persist-bo-demand-forecast/tpcap-models/20240913/ridge/ridge-t-PZ013BZ002.joblib\n",
      "44773KK030\n",
      "persist-bo/persist-bo-demand-forecast/tpcap-models/20240913/ridge/ridge-t-44773KK030.joblib\n"
     ]
    },
    {
     "name": "stdout",
     "output_type": "stream",
     "text": [
      "692420D140\n",
      "persist-bo/persist-bo-demand-forecast/tpcap-models/20240913/ridge/ridge-t-692420D140.joblib\n",
      "P41860K003\n",
      "persist-bo/persist-bo-demand-forecast/tpcap-models/20240913/ridge/ridge-t-P41860K003.joblib\n"
     ]
    },
    {
     "name": "stdout",
     "output_type": "stream",
     "text": [
      "411100K254\n",
      "persist-bo/persist-bo-demand-forecast/tpcap-models/20240913/ridge/ridge-t-411100K254.joblib\n",
      "5701406040\n",
      "persist-bo/persist-bo-demand-forecast/tpcap-models/20240913/ridge/ridge-t-5701406040.joblib\n"
     ]
    },
    {
     "name": "stdout",
     "output_type": "stream",
     "text": [
      "PZ0460KN57\n",
      "persist-bo/persist-bo-demand-forecast/tpcap-models/20240913/ridge/ridge-t-PZ0460KN57.joblib\n",
      "857100D080\n",
      "persist-bo/persist-bo-demand-forecast/tpcap-models/20240913/ridge/ridge-t-857100D080.joblib\n",
      "PZ0350K082\n",
      "persist-bo/persist-bo-demand-forecast/tpcap-models/20240913/ridge/ridge-t-PZ0350K082.joblib\n"
     ]
    },
    {
     "name": "stdout",
     "output_type": "stream",
     "text": [
      "4103971011\n",
      "persist-bo/persist-bo-demand-forecast/tpcap-models/20240913/ridge/ridge-t-4103971011.joblib\n",
      "58247KK010\n",
      "persist-bo/persist-bo-demand-forecast/tpcap-models/20240913/ridge/ridge-t-58247KK010.joblib\n",
      "PC21012003\n",
      "persist-bo/persist-bo-demand-forecast/tpcap-models/20240913/ridge/ridge-t-PC21012003.joblib\n"
     ]
    },
    {
     "name": "stdout",
     "output_type": "stream",
     "text": [
      "9098113099\n",
      "persist-bo/persist-bo-demand-forecast/tpcap-models/20240913/ridge/ridge-t-9098113099.joblib\n",
      "896610K030\n",
      "persist-bo/persist-bo-demand-forecast/tpcap-models/20240913/ridge/ridge-t-896610K030.joblib\n",
      "9006833398\n",
      "persist-bo/persist-bo-demand-forecast/tpcap-models/20240913/ridge/ridge-t-9006833398.joblib\n"
     ]
    },
    {
     "name": "stdout",
     "output_type": "stream",
     "text": [
      "476430D060\n",
      "persist-bo/persist-bo-demand-forecast/tpcap-models/20240913/ridge/ridge-t-476430D060.joblib\n",
      "9004A46356\n",
      "persist-bo/persist-bo-demand-forecast/tpcap-models/20240913/ridge/ridge-t-9004A46356.joblib\n"
     ]
    },
    {
     "name": "stdout",
     "output_type": "stream",
     "text": [
      "890700DA80\n",
      "persist-bo/persist-bo-demand-forecast/tpcap-models/20240913/ridge/ridge-t-890700DA80.joblib\n",
      "4823106430\n",
      "persist-bo/persist-bo-demand-forecast/tpcap-models/20240913/ridge/ridge-t-4823106430.joblib\n"
     ]
    },
    {
     "name": "stdout",
     "output_type": "stream",
     "text": [
      "852210K070\n",
      "persist-bo/persist-bo-demand-forecast/tpcap-models/20240913/ridge/ridge-t-852210K070.joblib\n",
      "890700KG40\n",
      "persist-bo/persist-bo-demand-forecast/tpcap-models/20240913/ridge/ridge-t-890700KG40.joblib\n"
     ]
    },
    {
     "name": "stdout",
     "output_type": "stream",
     "text": [
      "8924B06050\n",
      "persist-bo/persist-bo-demand-forecast/tpcap-models/20240913/ridge/ridge-t-8924B06050.joblib\n",
      "482100KC80\n",
      "persist-bo/persist-bo-demand-forecast/tpcap-models/20240913/ridge/ridge-t-482100KC80.joblib\n"
     ]
    },
    {
     "name": "stdout",
     "output_type": "stream",
     "text": [
      "617250K020\n",
      "persist-bo/persist-bo-demand-forecast/tpcap-models/20240913/ridge/ridge-t-617250K020.joblib\n",
      "8934102080A2\n",
      "persist-bo/persist-bo-demand-forecast/tpcap-models/20240913/ridge/ridge-t-8934102080A2.joblib\n",
      "481900K020\n",
      "persist-bo/persist-bo-demand-forecast/tpcap-models/20240913/ridge/ridge-t-481900K020.joblib\n"
     ]
    },
    {
     "name": "stdout",
     "output_type": "stream",
     "text": [
      "863000D370\n",
      "persist-bo/persist-bo-demand-forecast/tpcap-models/20240913/ridge/ridge-t-863000D370.joblib\n",
      "8934102080C1\n",
      "persist-bo/persist-bo-demand-forecast/tpcap-models/20240913/ridge/ridge-t-8934102080C1.joblib\n"
     ]
    },
    {
     "name": "stdout",
     "output_type": "stream",
     "text": [
      "893410A020\n",
      "persist-bo/persist-bo-demand-forecast/tpcap-models/20240913/ridge/ridge-t-893410A020.joblib\n",
      "485050K010\n",
      "persist-bo/persist-bo-demand-forecast/tpcap-models/20240913/ridge/ridge-t-485050K010.joblib\n"
     ]
    },
    {
     "name": "stdout",
     "output_type": "stream",
     "text": [
      "9050135035\n",
      "persist-bo/persist-bo-demand-forecast/tpcap-models/20240913/ridge/ridge-t-9050135035.joblib\n",
      "617830K140C0\n",
      "persist-bo/persist-bo-demand-forecast/tpcap-models/20240913/ridge/ridge-t-617830K140C0.joblib\n"
     ]
    },
    {
     "name": "stdout",
     "output_type": "stream",
     "text": [
      "483410K090\n",
      "persist-bo/persist-bo-demand-forecast/tpcap-models/20240913/ridge/ridge-t-483410K090.joblib\n",
      "583860D170\n",
      "persist-bo/persist-bo-demand-forecast/tpcap-models/20240913/ridge/ridge-t-583860D170.joblib\n"
     ]
    },
    {
     "name": "stdout",
     "output_type": "stream",
     "text": [
      "891700K240\n",
      "persist-bo/persist-bo-demand-forecast/tpcap-models/20240913/ridge/ridge-t-891700K240.joblib\n",
      "90105T0051\n",
      "persist-bo/persist-bo-demand-forecast/tpcap-models/20240913/ridge/ridge-t-90105T0051.joblib\n"
     ]
    },
    {
     "name": "stdout",
     "output_type": "stream",
     "text": [
      "521650A900\n",
      "persist-bo/persist-bo-demand-forecast/tpcap-models/20240913/ridge/ridge-t-521650A900.joblib\n",
      "9009904349\n",
      "persist-bo/persist-bo-demand-forecast/tpcap-models/20240913/ridge/ridge-t-9009904349.joblib\n"
     ]
    },
    {
     "name": "stdout",
     "output_type": "stream",
     "text": [
      "4825702010\n",
      "persist-bo/persist-bo-demand-forecast/tpcap-models/20240913/ridge/ridge-t-4825702010.joblib\n",
      "55650KK140\n",
      "persist-bo/persist-bo-demand-forecast/tpcap-models/20240913/ridge/ridge-t-55650KK140.joblib\n"
     ]
    },
    {
     "name": "stdout",
     "output_type": "stream",
     "text": [
      "90105T0076\n",
      "persist-bo/persist-bo-demand-forecast/tpcap-models/20240913/ridge/ridge-t-90105T0076.joblib\n",
      "477500K300\n",
      "persist-bo/persist-bo-demand-forecast/tpcap-models/20240913/ridge/ridge-t-477500K300.joblib\n"
     ]
    },
    {
     "name": "stdout",
     "output_type": "stream",
     "text": [
      "53100YZB12\n",
      "persist-bo/persist-bo-demand-forecast/tpcap-models/20240913/ridge/ridge-t-53100YZB12.joblib\n",
      "90105T0203\n",
      "persist-bo/persist-bo-demand-forecast/tpcap-models/20240913/ridge/ridge-t-90105T0203.joblib\n",
      "55407KK102\n",
      "persist-bo/persist-bo-demand-forecast/tpcap-models/20240913/ridge/ridge-t-55407KK102.joblib\n"
     ]
    },
    {
     "name": "stdout",
     "output_type": "stream",
     "text": [
      "9006949005\n",
      "persist-bo/persist-bo-demand-forecast/tpcap-models/20240913/ridge/ridge-t-9006949005.joblib\n",
      "893480K040A0\n",
      "persist-bo/persist-bo-demand-forecast/tpcap-models/20240913/ridge/ridge-t-893480K040A0.joblib\n"
     ]
    },
    {
     "name": "stdout",
     "output_type": "stream",
     "text": [
      "371000KK00\n",
      "persist-bo/persist-bo-demand-forecast/tpcap-models/20240913/ridge/ridge-t-371000KK00.joblib\n",
      "5552104030\n",
      "persist-bo/persist-bo-demand-forecast/tpcap-models/20240913/ridge/ridge-t-5552104030.joblib\n"
     ]
    },
    {
     "name": "stdout",
     "output_type": "stream",
     "text": [
      "61626BZ121\n",
      "persist-bo/persist-bo-demand-forecast/tpcap-models/20240913/ridge/ridge-t-61626BZ121.joblib\n",
      "582800K160\n",
      "persist-bo/persist-bo-demand-forecast/tpcap-models/20240913/ridge/ridge-t-582800K160.joblib\n",
      "5540002550C0\n",
      "persist-bo/persist-bo-demand-forecast/tpcap-models/20240913/ridge/ridge-t-5540002550C0.joblib\n"
     ]
    },
    {
     "name": "stdout",
     "output_type": "stream",
     "text": [
      "90467T0027B3\n",
      "persist-bo/persist-bo-demand-forecast/tpcap-models/20240913/ridge/ridge-t-90467T0027B3.joblib\n",
      "90560T0013\n",
      "persist-bo/persist-bo-demand-forecast/tpcap-models/20240913/ridge/ridge-t-90560T0013.joblib\n"
     ]
    },
    {
     "name": "stdout",
     "output_type": "stream",
     "text": [
      "514050K010\n",
      "persist-bo/persist-bo-demand-forecast/tpcap-models/20240913/ridge/ridge-t-514050K010.joblib\n",
      "90466T0022\n",
      "persist-bo/persist-bo-demand-forecast/tpcap-models/20240913/ridge/ridge-t-90466T0022.joblib\n"
     ]
    },
    {
     "name": "stdout",
     "output_type": "stream",
     "text": [
      "522010K100\n",
      "persist-bo/persist-bo-demand-forecast/tpcap-models/20240913/ridge/ridge-t-522010K100.joblib\n",
      "413510K020\n",
      "persist-bo/persist-bo-demand-forecast/tpcap-models/20240913/ridge/ridge-t-413510K020.joblib\n"
     ]
    },
    {
     "name": "stdout",
     "output_type": "stream",
     "text": [
      "353300K010\n",
      "persist-bo/persist-bo-demand-forecast/tpcap-models/20240913/ridge/ridge-t-353300K010.joblib\n",
      "51078KK010\n",
      "persist-bo/persist-bo-demand-forecast/tpcap-models/20240913/ridge/ridge-t-51078KK010.joblib\n"
     ]
    },
    {
     "name": "stdout",
     "output_type": "stream",
     "text": [
      "90560T0010\n",
      "persist-bo/persist-bo-demand-forecast/tpcap-models/20240913/ridge/ridge-t-90560T0010.joblib\n",
      "90467T0027B1\n",
      "persist-bo/persist-bo-demand-forecast/tpcap-models/20240913/ridge/ridge-t-90467T0027B1.joblib\n",
      "58307KK011\n",
      "persist-bo/persist-bo-demand-forecast/tpcap-models/20240913/ridge/ridge-t-58307KK011.joblib\n"
     ]
    },
    {
     "name": "stdout",
     "output_type": "stream",
     "text": [
      "90520T0097\n",
      "persist-bo/persist-bo-demand-forecast/tpcap-models/20240913/ridge/ridge-t-90520T0097.joblib\n",
      "351030K020\n",
      "persist-bo/persist-bo-demand-forecast/tpcap-models/20240913/ridge/ridge-t-351030K020.joblib\n",
      "90947T2108\n",
      "persist-bo/persist-bo-demand-forecast/tpcap-models/20240913/ridge/ridge-t-90947T2108.joblib\n"
     ]
    },
    {
     "name": "stdout",
     "output_type": "stream",
     "text": [
      "338200D510\n",
      "persist-bo/persist-bo-demand-forecast/tpcap-models/20240913/ridge/ridge-t-338200D510.joblib\n",
      "90919011848N\n",
      "persist-bo/persist-bo-demand-forecast/tpcap-models/20240913/ridge/ridge-t-90919011848N.joblib\n"
     ]
    },
    {
     "name": "stdout",
     "output_type": "stream",
     "text": [
      "3510302110\n",
      "persist-bo/persist-bo-demand-forecast/tpcap-models/20240913/ridge/ridge-t-3510302110.joblib\n",
      "90913T2006\n",
      "persist-bo/persist-bo-demand-forecast/tpcap-models/20240913/ridge/ridge-t-90913T2006.joblib\n"
     ]
    },
    {
     "name": "stdout",
     "output_type": "stream",
     "text": [
      "33820BZ191\n",
      "persist-bo/persist-bo-demand-forecast/tpcap-models/20240913/ridge/ridge-t-33820BZ191.joblib\n",
      "534100A060\n",
      "persist-bo/persist-bo-demand-forecast/tpcap-models/20240913/ridge/ridge-t-534100A060.joblib\n"
     ]
    },
    {
     "name": "stdout",
     "output_type": "stream",
     "text": [
      "23217BZ030\n",
      "persist-bo/persist-bo-demand-forecast/tpcap-models/20240913/ridge/ridge-t-23217BZ030.joblib\n",
      "531280A020\n",
      "persist-bo/persist-bo-demand-forecast/tpcap-models/20240913/ridge/ridge-t-531280A020.joblib\n"
     ]
    },
    {
     "name": "stdout",
     "output_type": "stream",
     "text": [
      "8934106080J2\n",
      "persist-bo/persist-bo-demand-forecast/tpcap-models/20240913/ridge/ridge-t-8934106080J2.joblib\n",
      "755330A040\n",
      "persist-bo/persist-bo-demand-forecast/tpcap-models/20240913/ridge/ridge-t-755330A040.joblib\n",
      "4342002F90\n"
     ]
    },
    {
     "name": "stdout",
     "output_type": "stream",
     "text": [
      "persist-bo/persist-bo-demand-forecast/tpcap-models/20240913/ridge/ridge-t-4342002F90.joblib\n",
      "525920A020\n",
      "persist-bo/persist-bo-demand-forecast/tpcap-models/20240913/ridge/ridge-t-525920A020.joblib\n",
      "48482BZ080\n",
      "persist-bo/persist-bo-demand-forecast/tpcap-models/20240913/ridge/ridge-t-48482BZ080.joblib\n"
     ]
    },
    {
     "name": "stdout",
     "output_type": "stream",
     "text": [
      "486300K020\n",
      "persist-bo/persist-bo-demand-forecast/tpcap-models/20240913/ridge/ridge-t-486300K020.joblib\n",
      "85336BZ020\n",
      "persist-bo/persist-bo-demand-forecast/tpcap-models/20240913/ridge/ridge-t-85336BZ020.joblib\n",
      "5530202431B2\n",
      "persist-bo/persist-bo-demand-forecast/tpcap-models/20240913/ridge/ridge-t-5530202431B2.joblib\n"
     ]
    },
    {
     "name": "stdout",
     "output_type": "stream",
     "text": [
      "8864534010\n",
      "persist-bo/persist-bo-demand-forecast/tpcap-models/20240913/ridge/ridge-t-8864534010.joblib\n",
      "9095001955\n",
      "persist-bo/persist-bo-demand-forecast/tpcap-models/20240913/ridge/ridge-t-9095001955.joblib\n"
     ]
    },
    {
     "name": "stdout",
     "output_type": "stream",
     "text": [
      "815910A050\n",
      "persist-bo/persist-bo-demand-forecast/tpcap-models/20240913/ridge/ridge-t-815910A050.joblib\n",
      "76873YP010\n",
      "persist-bo/persist-bo-demand-forecast/tpcap-models/20240913/ridge/ridge-t-76873YP010.joblib\n"
     ]
    },
    {
     "name": "stdout",
     "output_type": "stream",
     "text": [
      "46420BZ250\n",
      "persist-bo/persist-bo-demand-forecast/tpcap-models/20240913/ridge/ridge-t-46420BZ250.joblib\n",
      "4738950020\n",
      "persist-bo/persist-bo-demand-forecast/tpcap-models/20240913/ridge/ridge-t-4738950020.joblib\n"
     ]
    },
    {
     "name": "stdout",
     "output_type": "stream",
     "text": [
      "04495BZ180\n",
      "persist-bo/persist-bo-demand-forecast/tpcap-models/20240913/ridge/ridge-t-04495BZ180.joblib\n",
      "8949360010\n",
      "persist-bo/persist-bo-demand-forecast/tpcap-models/20240913/ridge/ridge-t-8949360010.joblib\n"
     ]
    },
    {
     "name": "stdout",
     "output_type": "stream",
     "text": [
      "165930T280\n",
      "persist-bo/persist-bo-demand-forecast/tpcap-models/20240913/ridge/ridge-t-165930T280.joblib\n",
      "9004C37008\n",
      "persist-bo/persist-bo-demand-forecast/tpcap-models/20240913/ridge/ridge-t-9004C37008.joblib\n",
      "682100D310\n",
      "persist-bo/persist-bo-demand-forecast/tpcap-models/20240913/ridge/ridge-t-682100D310.joblib\n"
     ]
    },
    {
     "name": "stdout",
     "output_type": "stream",
     "text": [
      "525630A020\n",
      "persist-bo/persist-bo-demand-forecast/tpcap-models/20240913/ridge/ridge-t-525630A020.joblib\n",
      "090321C160\n",
      "persist-bo/persist-bo-demand-forecast/tpcap-models/20240913/ridge/ridge-t-090321C160.joblib\n",
      "4881533140\n"
     ]
    },
    {
     "name": "stdout",
     "output_type": "stream",
     "text": [
      "persist-bo/persist-bo-demand-forecast/tpcap-models/20240913/ridge/ridge-t-4881533140.joblib\n",
      "6700526S10\n",
      "persist-bo/persist-bo-demand-forecast/tpcap-models/20240913/ridge/ridge-t-6700526S10.joblib\n"
     ]
    },
    {
     "name": "stdout",
     "output_type": "stream",
     "text": [
      "6325128110\n",
      "persist-bo/persist-bo-demand-forecast/tpcap-models/20240913/ridge/ridge-t-6325128110.joblib\n",
      "76801BZ070\n",
      "persist-bo/persist-bo-demand-forecast/tpcap-models/20240913/ridge/ridge-t-76801BZ070.joblib\n",
      "682300D280\n",
      "persist-bo/persist-bo-demand-forecast/tpcap-models/20240913/ridge/ridge-t-682300D280.joblib\n"
     ]
    },
    {
     "name": "stdout",
     "output_type": "stream",
     "text": [
      "6325158040\n",
      "persist-bo/persist-bo-demand-forecast/tpcap-models/20240913/ridge/ridge-t-6325158040.joblib\n",
      "6924152020\n",
      "persist-bo/persist-bo-demand-forecast/tpcap-models/20240913/ridge/ridge-t-6924152020.joblib\n"
     ]
    },
    {
     "name": "stdout",
     "output_type": "stream",
     "text": [
      "524620K100\n",
      "persist-bo/persist-bo-demand-forecast/tpcap-models/20240913/ridge/ridge-t-524620K100.joblib\n",
      "6964026354\n",
      "persist-bo/persist-bo-demand-forecast/tpcap-models/20240913/ridge/ridge-t-6964026354.joblib\n"
     ]
    },
    {
     "name": "stdout",
     "output_type": "stream",
     "text": [
      "7269312080\n",
      "persist-bo/persist-bo-demand-forecast/tpcap-models/20240913/ridge/ridge-t-7269312080.joblib\n",
      "9004341041\n",
      "persist-bo/persist-bo-demand-forecast/tpcap-models/20240913/ridge/ridge-t-9004341041.joblib\n",
      "9095001944\n"
     ]
    },
    {
     "name": "stdout",
     "output_type": "stream",
     "text": [
      "persist-bo/persist-bo-demand-forecast/tpcap-models/20240913/ridge/ridge-t-9095001944.joblib\n",
      "1560178140\n",
      "persist-bo/persist-bo-demand-forecast/tpcap-models/20240913/ridge/ridge-t-1560178140.joblib\n",
      "1717831030\n",
      "persist-bo/persist-bo-demand-forecast/tpcap-models/20240913/ridge/ridge-t-1717831030.joblib\n"
     ]
    },
    {
     "name": "stdout",
     "output_type": "stream",
     "text": [
      "9613842701\n",
      "persist-bo/persist-bo-demand-forecast/tpcap-models/20240913/ridge/ridge-t-9613842701.joblib\n",
      "1717631050\n",
      "persist-bo/persist-bo-demand-forecast/tpcap-models/20240913/ridge/ridge-t-1717631050.joblib\n"
     ]
    },
    {
     "name": "stdout",
     "output_type": "stream",
     "text": [
      "4561926020\n",
      "persist-bo/persist-bo-demand-forecast/tpcap-models/20240913/ridge/ridge-t-4561926020.joblib\n",
      "1230528231\n",
      "persist-bo/persist-bo-demand-forecast/tpcap-models/20240913/ridge/ridge-t-1230528231.joblib\n"
     ]
    },
    {
     "name": "stdout",
     "output_type": "stream",
     "text": [
      "9008446020\n",
      "persist-bo/persist-bo-demand-forecast/tpcap-models/20240913/ridge/ridge-t-9008446020.joblib\n",
      "3533073021\n",
      "persist-bo/persist-bo-demand-forecast/tpcap-models/20240913/ridge/ridge-t-3533073021.joblib\n"
     ]
    },
    {
     "name": "stdout",
     "output_type": "stream",
     "text": [
      "2330050090\n",
      "persist-bo/persist-bo-demand-forecast/tpcap-models/20240913/ridge/ridge-t-2330050090.joblib\n",
      "9046710023\n",
      "persist-bo/persist-bo-demand-forecast/tpcap-models/20240913/ridge/ridge-t-9046710023.joblib\n",
      "9046710152\n",
      "persist-bo/persist-bo-demand-forecast/tpcap-models/20240913/ridge/ridge-t-9046710152.joblib\n"
     ]
    },
    {
     "name": "stdout",
     "output_type": "stream",
     "text": [
      "8427016010\n",
      "persist-bo/persist-bo-demand-forecast/tpcap-models/20240913/ridge/ridge-t-8427016010.joblib\n",
      "8148226190\n",
      "persist-bo/persist-bo-demand-forecast/tpcap-models/20240913/ridge/ridge-t-8148226190.joblib\n",
      "8282135020\n",
      "persist-bo/persist-bo-demand-forecast/tpcap-models/20240913/ridge/ridge-t-8282135020.joblib\n"
     ]
    },
    {
     "name": "stdout",
     "output_type": "stream",
     "text": [
      "9043001001\n",
      "persist-bo/persist-bo-demand-forecast/tpcap-models/20240913/ridge/ridge-t-9043001001.joblib\n",
      "1985054090\n",
      "persist-bo/persist-bo-demand-forecast/tpcap-models/20240913/ridge/ridge-t-1985054090.joblib\n"
     ]
    },
    {
     "name": "stdout",
     "output_type": "stream",
     "text": [
      "1780158010\n",
      "persist-bo/persist-bo-demand-forecast/tpcap-models/20240913/ridge/ridge-t-1780158010.joblib\n",
      "9098011003\n",
      "persist-bo/persist-bo-demand-forecast/tpcap-models/20240913/ridge/ridge-t-9098011003.joblib\n"
     ]
    },
    {
     "name": "stdout",
     "output_type": "stream",
     "text": [
      "9031192010\n",
      "persist-bo/persist-bo-demand-forecast/tpcap-models/20240913/ridge/ridge-t-9031192010.joblib\n",
      "9052012003\n",
      "persist-bo/persist-bo-demand-forecast/tpcap-models/20240913/ridge/ridge-t-9052012003.joblib\n"
     ]
    },
    {
     "name": "stdout",
     "output_type": "stream",
     "text": [
      "9095006105\n",
      "persist-bo/persist-bo-demand-forecast/tpcap-models/20240913/ridge/ridge-t-9095006105.joblib\n",
      "9011906883\n",
      "persist-bo/persist-bo-demand-forecast/tpcap-models/20240913/ridge/ridge-t-9011906883.joblib\n",
      "090311C150\n",
      "persist-bo/persist-bo-demand-forecast/tpcap-models/20240913/ridge/ridge-t-090311C150.joblib\n"
     ]
    },
    {
     "name": "stdout",
     "output_type": "stream",
     "text": [
      "6231426010C0\n",
      "persist-bo/persist-bo-demand-forecast/tpcap-models/20240913/ridge/ridge-t-6231426010C0.joblib\n",
      "9031125027\n",
      "persist-bo/persist-bo-demand-forecast/tpcap-models/20240913/ridge/ridge-t-9031125027.joblib\n",
      "9017614003\n",
      "persist-bo/persist-bo-demand-forecast/tpcap-models/20240913/ridge/ridge-t-9017614003.joblib\n"
     ]
    },
    {
     "name": "stdout",
     "output_type": "stream",
     "text": [
      "9017910059\n",
      "persist-bo/persist-bo-demand-forecast/tpcap-models/20240913/ridge/ridge-t-9017910059.joblib\n",
      "090311C530\n",
      "persist-bo/persist-bo-demand-forecast/tpcap-models/20240913/ridge/ridge-t-090311C530.joblib\n",
      "090112C540\n",
      "persist-bo/persist-bo-demand-forecast/tpcap-models/20240913/ridge/ridge-t-090112C540.joblib\n"
     ]
    },
    {
     "name": "stdout",
     "output_type": "stream",
     "text": [
      "9021007001\n",
      "persist-bo/persist-bo-demand-forecast/tpcap-models/20240913/ridge/ridge-t-9021007001.joblib\n",
      "1111558070\n",
      "persist-bo/persist-bo-demand-forecast/tpcap-models/20240913/ridge/ridge-t-1111558070.joblib\n"
     ]
    },
    {
     "name": "stdout",
     "output_type": "stream",
     "text": [
      "9030110189\n",
      "persist-bo/persist-bo-demand-forecast/tpcap-models/20240913/ridge/ridge-t-9030110189.joblib\n",
      "4860326010\n",
      "persist-bo/persist-bo-demand-forecast/tpcap-models/20240913/ridge/ridge-t-4860326010.joblib\n"
     ]
    },
    {
     "name": "stdout",
     "output_type": "stream",
     "text": [
      "52712BZ500\n",
      "persist-bo/persist-bo-demand-forecast/tpcap-models/20240913/ridge/ridge-t-52712BZ500.joblib\n",
      "53811BZ520\n",
      "persist-bo/persist-bo-demand-forecast/tpcap-models/20240913/ridge/ridge-t-53811BZ520.joblib\n"
     ]
    },
    {
     "name": "stdout",
     "output_type": "stream",
     "text": [
      "68114BZ450\n",
      "persist-bo/persist-bo-demand-forecast/tpcap-models/20240913/ridge/ridge-t-68114BZ450.joblib\n",
      "8385252100\n",
      "persist-bo/persist-bo-demand-forecast/tpcap-models/20240913/ridge/ridge-t-8385252100.joblib\n"
     ]
    },
    {
     "name": "stdout",
     "output_type": "stream",
     "text": [
      "68124BZ130\n",
      "persist-bo/persist-bo-demand-forecast/tpcap-models/20240913/ridge/ridge-t-68124BZ130.joblib\n",
      "73220BZ570C0\n",
      "persist-bo/persist-bo-demand-forecast/tpcap-models/20240913/ridge/ridge-t-73220BZ570C0.joblib\n",
      "9011908466\n",
      "persist-bo/persist-bo-demand-forecast/tpcap-models/20240913/ridge/ridge-t-9011908466.joblib\n"
     ]
    },
    {
     "name": "stdout",
     "output_type": "stream",
     "text": [
      "238160E014\n",
      "persist-bo/persist-bo-demand-forecast/tpcap-models/20240913/ridge/ridge-t-238160E014.joblib\n",
      "5311126430\n",
      "persist-bo/persist-bo-demand-forecast/tpcap-models/20240913/ridge/ridge-t-5311126430.joblib\n"
     ]
    },
    {
     "name": "stdout",
     "output_type": "stream",
     "text": [
      "57101BZ670\n",
      "persist-bo/persist-bo-demand-forecast/tpcap-models/20240913/ridge/ridge-t-57101BZ670.joblib\n",
      "5859528100C0\n",
      "persist-bo/persist-bo-demand-forecast/tpcap-models/20240913/ridge/ridge-t-5859528100C0.joblib\n"
     ]
    },
    {
     "name": "stdout",
     "output_type": "stream",
     "text": [
      "9038910053\n",
      "persist-bo/persist-bo-demand-forecast/tpcap-models/20240913/ridge/ridge-t-9038910053.joblib\n",
      "8148126190\n",
      "persist-bo/persist-bo-demand-forecast/tpcap-models/20240913/ridge/ridge-t-8148126190.joblib\n"
     ]
    },
    {
     "name": "stdout",
     "output_type": "stream",
     "text": [
      "8953052560\n",
      "persist-bo/persist-bo-demand-forecast/tpcap-models/20240913/ridge/ridge-t-8953052560.joblib\n",
      "87910BZG40\n",
      "persist-bo/persist-bo-demand-forecast/tpcap-models/20240913/ridge/ridge-t-87910BZG40.joblib\n"
     ]
    },
    {
     "name": "stdout",
     "output_type": "stream",
     "text": [
      "48069BZ330\n",
      "persist-bo/persist-bo-demand-forecast/tpcap-models/20240913/ridge/ridge-t-48069BZ330.joblib\n",
      "88320BZ380\n",
      "persist-bo/persist-bo-demand-forecast/tpcap-models/20240913/ridge/ridge-t-88320BZ380.joblib\n",
      "2374330011\n",
      "persist-bo/persist-bo-demand-forecast/tpcap-models/20240913/ridge/ridge-t-2374330011.joblib\n"
     ]
    },
    {
     "name": "stdout",
     "output_type": "stream",
     "text": [
      "75602BZ130\n",
      "persist-bo/persist-bo-demand-forecast/tpcap-models/20240913/ridge/ridge-t-75602BZ130.joblib\n",
      "6944028060\n",
      "persist-bo/persist-bo-demand-forecast/tpcap-models/20240913/ridge/ridge-t-6944028060.joblib\n"
     ]
    },
    {
     "name": "stdout",
     "output_type": "stream",
     "text": [
      "4881848100\n",
      "persist-bo/persist-bo-demand-forecast/tpcap-models/20240913/ridge/ridge-t-4881848100.joblib\n",
      "5311178050\n",
      "persist-bo/persist-bo-demand-forecast/tpcap-models/20240913/ridge/ridge-t-5311178050.joblib\n"
     ]
    },
    {
     "name": "stdout",
     "output_type": "stream",
     "text": [
      "561010KJ90\n",
      "persist-bo/persist-bo-demand-forecast/tpcap-models/20240913/ridge/ridge-t-561010KJ90.joblib\n",
      "31470BZ040\n",
      "persist-bo/persist-bo-demand-forecast/tpcap-models/20240913/ridge/ridge-t-31470BZ040.joblib\n",
      "74234BZ020C0\n",
      "persist-bo/persist-bo-demand-forecast/tpcap-models/20240913/ridge/ridge-t-74234BZ020C0.joblib\n"
     ]
    },
    {
     "name": "stdout",
     "output_type": "stream",
     "text": [
      "16400BZA90\n",
      "persist-bo/persist-bo-demand-forecast/tpcap-models/20240913/ridge/ridge-t-16400BZA90.joblib\n",
      "16711BZ190\n",
      "persist-bo/persist-bo-demand-forecast/tpcap-models/20240913/ridge/ridge-t-16711BZ190.joblib\n"
     ]
    },
    {
     "name": "stdout",
     "output_type": "stream",
     "text": [
      "67111BZ400\n",
      "persist-bo/persist-bo-demand-forecast/tpcap-models/20240913/ridge/ridge-t-67111BZ400.joblib\n",
      "53445BZ080\n",
      "persist-bo/persist-bo-demand-forecast/tpcap-models/20240913/ridge/ridge-t-53445BZ080.joblib\n"
     ]
    },
    {
     "name": "stdout",
     "output_type": "stream",
     "text": [
      "67918BZ240C0\n",
      "persist-bo/persist-bo-demand-forecast/tpcap-models/20240913/ridge/ridge-t-67918BZ240C0.joblib\n",
      "5388560030\n",
      "persist-bo/persist-bo-demand-forecast/tpcap-models/20240913/ridge/ridge-t-5388560030.joblib\n"
     ]
    },
    {
     "name": "stdout",
     "output_type": "stream",
     "text": [
      "8990H0A090\n",
      "persist-bo/persist-bo-demand-forecast/tpcap-models/20240913/ridge/ridge-t-8990H0A090.joblib\n",
      "811100KJ41\n",
      "persist-bo/persist-bo-demand-forecast/tpcap-models/20240913/ridge/ridge-t-811100KJ41.joblib\n"
     ]
    },
    {
     "name": "stdout",
     "output_type": "stream",
     "text": [
      "63310F0450B0\n",
      "persist-bo/persist-bo-demand-forecast/tpcap-models/20240913/ridge/ridge-t-63310F0450B0.joblib\n",
      "2320929175\n",
      "persist-bo/persist-bo-demand-forecast/tpcap-models/20240913/ridge/ridge-t-2320929175.joblib\n"
     ]
    },
    {
     "name": "stdout",
     "output_type": "stream",
     "text": [
      "61624BZ210\n",
      "persist-bo/persist-bo-demand-forecast/tpcap-models/20240913/ridge/ridge-t-61624BZ210.joblib\n",
      "88460BZ170\n",
      "persist-bo/persist-bo-demand-forecast/tpcap-models/20240913/ridge/ridge-t-88460BZ170.joblib\n",
      "61627BZ120\n"
     ]
    },
    {
     "name": "stdout",
     "output_type": "stream",
     "text": [
      "persist-bo/persist-bo-demand-forecast/tpcap-models/20240913/ridge/ridge-t-61627BZ120.joblib\n",
      "811100KK11\n",
      "persist-bo/persist-bo-demand-forecast/tpcap-models/20240913/ridge/ridge-t-811100KK11.joblib\n",
      "82121BZM80\n",
      "persist-bo/persist-bo-demand-forecast/tpcap-models/20240913/ridge/ridge-t-82121BZM80.joblib\n"
     ]
    },
    {
     "name": "stdout",
     "output_type": "stream",
     "text": [
      "52156BZ250\n",
      "persist-bo/persist-bo-demand-forecast/tpcap-models/20240913/ridge/ridge-t-52156BZ250.joblib\n",
      "75041BZ010\n",
      "persist-bo/persist-bo-demand-forecast/tpcap-models/20240913/ridge/ridge-t-75041BZ010.joblib\n"
     ]
    },
    {
     "name": "stdout",
     "output_type": "stream",
     "text": [
      "52611YY020\n",
      "persist-bo/persist-bo-demand-forecast/tpcap-models/20240913/ridge/ridge-t-52611YY020.joblib\n",
      "624030A013\n",
      "persist-bo/persist-bo-demand-forecast/tpcap-models/20240913/ridge/ridge-t-624030A013.joblib\n",
      "89341K0060A4\n",
      "persist-bo/persist-bo-demand-forecast/tpcap-models/20240913/ridge/ridge-t-89341K0060A4.joblib\n"
     ]
    },
    {
     "name": "stdout",
     "output_type": "stream",
     "text": [
      "81150YP211\n",
      "persist-bo/persist-bo-demand-forecast/tpcap-models/20240913/ridge/ridge-t-81150YP211.joblib\n",
      "694300K081\n",
      "persist-bo/persist-bo-demand-forecast/tpcap-models/20240913/ridge/ridge-t-694300K081.joblib\n"
     ]
    },
    {
     "name": "stdout",
     "output_type": "stream",
     "text": [
      "48510BZE50\n",
      "persist-bo/persist-bo-demand-forecast/tpcap-models/20240913/ridge/ridge-t-48510BZE50.joblib\n",
      "45503BZ260\n",
      "persist-bo/persist-bo-demand-forecast/tpcap-models/20240913/ridge/ridge-t-45503BZ260.joblib\n"
     ]
    },
    {
     "name": "stdout",
     "output_type": "stream",
     "text": [
      "85315BZ450\n",
      "persist-bo/persist-bo-demand-forecast/tpcap-models/20240913/ridge/ridge-t-85315BZ450.joblib\n",
      "1717308030\n",
      "persist-bo/persist-bo-demand-forecast/tpcap-models/20240913/ridge/ridge-t-1717308030.joblib\n"
     ]
    },
    {
     "name": "stdout",
     "output_type": "stream",
     "text": [
      "43502BZ230\n",
      "persist-bo/persist-bo-demand-forecast/tpcap-models/20240913/ridge/ridge-t-43502BZ230.joblib\n",
      "53215BZ090\n",
      "persist-bo/persist-bo-demand-forecast/tpcap-models/20240913/ridge/ridge-t-53215BZ090.joblib\n"
     ]
    },
    {
     "name": "stdout",
     "output_type": "stream",
     "text": [
      "750770A021\n",
      "persist-bo/persist-bo-demand-forecast/tpcap-models/20240913/ridge/ridge-t-750770A021.joblib\n",
      "442500K733\n",
      "persist-bo/persist-bo-demand-forecast/tpcap-models/20240913/ridge/ridge-t-442500K733.joblib\n"
     ]
    },
    {
     "name": "stdout",
     "output_type": "stream",
     "text": [
      "88550BZ180\n",
      "persist-bo/persist-bo-demand-forecast/tpcap-models/20240913/ridge/ridge-t-88550BZ180.joblib\n",
      "53100YP411\n",
      "persist-bo/persist-bo-demand-forecast/tpcap-models/20240913/ridge/ridge-t-53100YP411.joblib\n"
     ]
    },
    {
     "name": "stdout",
     "output_type": "stream",
     "text": [
      "53865BZ130\n",
      "persist-bo/persist-bo-demand-forecast/tpcap-models/20240913/ridge/ridge-t-53865BZ130.joblib\n",
      "53127YP051\n",
      "persist-bo/persist-bo-demand-forecast/tpcap-models/20240913/ridge/ridge-t-53127YP051.joblib\n",
      "53152BZ020\n",
      "persist-bo/persist-bo-demand-forecast/tpcap-models/20240913/ridge/ridge-t-53152BZ020.joblib\n"
     ]
    },
    {
     "name": "stdout",
     "output_type": "stream",
     "text": [
      "87940BZJ20\n",
      "persist-bo/persist-bo-demand-forecast/tpcap-models/20240913/ridge/ridge-t-87940BZJ20.joblib\n",
      "62930BZ120\n",
      "persist-bo/persist-bo-demand-forecast/tpcap-models/20240913/ridge/ridge-t-62930BZ120.joblib\n"
     ]
    },
    {
     "name": "stdout",
     "output_type": "stream",
     "text": [
      "PC6A30K00Y\n",
      "persist-bo/persist-bo-demand-forecast/tpcap-models/20240913/ridge/ridge-t-PC6A30K00Y.joblib\n",
      "53217BZ030\n",
      "persist-bo/persist-bo-demand-forecast/tpcap-models/20240913/ridge/ridge-t-53217BZ030.joblib\n"
     ]
    },
    {
     "name": "stdout",
     "output_type": "stream",
     "text": [
      "42410BZ150\n",
      "persist-bo/persist-bo-demand-forecast/tpcap-models/20240913/ridge/ridge-t-42410BZ150.joblib\n",
      "43502BZ250\n",
      "persist-bo/persist-bo-demand-forecast/tpcap-models/20240913/ridge/ridge-t-43502BZ250.joblib\n",
      "53127BZ030\n"
     ]
    },
    {
     "name": "stdout",
     "output_type": "stream",
     "text": [
      "persist-bo/persist-bo-demand-forecast/tpcap-models/20240913/ridge/ridge-t-53127BZ030.joblib\n",
      "52753BZ150\n",
      "persist-bo/persist-bo-demand-forecast/tpcap-models/20240913/ridge/ridge-t-52753BZ150.joblib\n",
      "51405BZ180\n",
      "persist-bo/persist-bo-demand-forecast/tpcap-models/20240913/ridge/ridge-t-51405BZ180.joblib\n"
     ]
    },
    {
     "name": "stdout",
     "output_type": "stream",
     "text": [
      "52462BZ010\n",
      "persist-bo/persist-bo-demand-forecast/tpcap-models/20240913/ridge/ridge-t-52462BZ010.joblib\n",
      "52721BZ120C0\n",
      "persist-bo/persist-bo-demand-forecast/tpcap-models/20240913/ridge/ridge-t-52721BZ120C0.joblib\n"
     ]
    },
    {
     "name": "stdout",
     "output_type": "stream",
     "text": [
      "81580BZ240\n",
      "persist-bo/persist-bo-demand-forecast/tpcap-models/20240913/ridge/ridge-t-81580BZ240.joblib\n",
      "16571BZ471\n",
      "persist-bo/persist-bo-demand-forecast/tpcap-models/20240913/ridge/ridge-t-16571BZ471.joblib\n",
      "17430BZ570\n",
      "persist-bo/persist-bo-demand-forecast/tpcap-models/20240913/ridge/ridge-t-17430BZ570.joblib\n"
     ]
    },
    {
     "name": "stdout",
     "output_type": "stream",
     "text": [
      "53203BZ280\n",
      "persist-bo/persist-bo-demand-forecast/tpcap-models/20240913/ridge/ridge-t-53203BZ280.joblib\n",
      "53119BZ030\n",
      "persist-bo/persist-bo-demand-forecast/tpcap-models/20240913/ridge/ridge-t-53119BZ030.joblib\n"
     ]
    },
    {
     "name": "stdout",
     "output_type": "stream",
     "text": [
      "88561BZB10\n",
      "persist-bo/persist-bo-demand-forecast/tpcap-models/20240913/ridge/ridge-t-88561BZB10.joblib\n",
      "48331BZ250\n",
      "persist-bo/persist-bo-demand-forecast/tpcap-models/20240913/ridge/ridge-t-48331BZ250.joblib\n"
     ]
    },
    {
     "name": "stdout",
     "output_type": "stream",
     "text": [
      "81551BZ510\n",
      "persist-bo/persist-bo-demand-forecast/tpcap-models/20240913/ridge/ridge-t-81551BZ510.joblib\n",
      "53124BZ300\n",
      "persist-bo/persist-bo-demand-forecast/tpcap-models/20240913/ridge/ridge-t-53124BZ300.joblib\n"
     ]
    },
    {
     "name": "stdout",
     "output_type": "stream",
     "text": [
      "81145YP400\n",
      "persist-bo/persist-bo-demand-forecast/tpcap-models/20240913/ridge/ridge-t-81145YP400.joblib\n",
      "288000C361\n",
      "persist-bo/persist-bo-demand-forecast/tpcap-models/20240913/ridge/ridge-t-288000C361.joblib\n",
      "56117KK041\n"
     ]
    },
    {
     "name": "stdout",
     "output_type": "stream",
     "text": [
      "persist-bo/persist-bo-demand-forecast/tpcap-models/20240913/ridge/ridge-t-56117KK041.joblib\n",
      "52811BZ010\n",
      "persist-bo/persist-bo-demand-forecast/tpcap-models/20240913/ridge/ridge-t-52811BZ010.joblib\n",
      "1780152021\n",
      "persist-bo/persist-bo-demand-forecast/tpcap-models/20240913/ridge/ridge-t-1780152021.joblib\n"
     ]
    },
    {
     "name": "stdout",
     "output_type": "stream",
     "text": [
      "73920BZ070\n",
      "persist-bo/persist-bo-demand-forecast/tpcap-models/20240913/ridge/ridge-t-73920BZ070.joblib\n",
      "65637BZ320\n",
      "persist-bo/persist-bo-demand-forecast/tpcap-models/20240913/ridge/ridge-t-65637BZ320.joblib\n",
      "174300T850\n"
     ]
    },
    {
     "name": "stdout",
     "output_type": "stream",
     "text": [
      "persist-bo/persist-bo-demand-forecast/tpcap-models/20240913/ridge/ridge-t-174300T850.joblib\n",
      "PC3820K01F\n",
      "persist-bo/persist-bo-demand-forecast/tpcap-models/20240913/ridge/ridge-t-PC3820K01F.joblib\n"
     ]
    },
    {
     "name": "stdout",
     "output_type": "stream",
     "text": [
      "PC3820K01H\n",
      "persist-bo/persist-bo-demand-forecast/tpcap-models/20240913/ridge/ridge-t-PC3820K01H.joblib\n",
      "451000D841C3\n",
      "persist-bo/persist-bo-demand-forecast/tpcap-models/20240913/ridge/ridge-t-451000D841C3.joblib\n"
     ]
    },
    {
     "name": "stdout",
     "output_type": "stream",
     "text": [
      "53088YY010\n",
      "persist-bo/persist-bo-demand-forecast/tpcap-models/20240913/ridge/ridge-t-53088YY010.joblib\n",
      "61061YY010\n",
      "persist-bo/persist-bo-demand-forecast/tpcap-models/20240913/ridge/ridge-t-61061YY010.joblib\n",
      "53112YP590\n"
     ]
    },
    {
     "name": "stdout",
     "output_type": "stream",
     "text": [
      "persist-bo/persist-bo-demand-forecast/tpcap-models/20240913/ridge/ridge-t-53112YP590.joblib\n",
      "521191K902\n",
      "persist-bo/persist-bo-demand-forecast/tpcap-models/20240913/ridge/ridge-t-521191K902.joblib\n"
     ]
    }
   ],
   "source": [
    "#ridge_parts = parts_list[:]\n",
    "old_data_ridge = old_data[old_data['part_number'].isin(ridge_parts)]\n",
    "ridge_data_forecast = ridge_lag1_forecast(old_data_ridge, bucket, prefix_ridge_pickle, last_tr_date).reset_index(drop=True)"
   ]
  },
  {
   "cell_type": "markdown",
   "id": "61f5a12d",
   "metadata": {},
   "source": [
    "#### Saving Ridge forecasted data"
   ]
  },
  {
   "cell_type": "code",
   "execution_count": 19,
   "id": "2bda84ec",
   "metadata": {
    "execution": {
     "iopub.execute_input": "2024-11-05T11:12:28.016421Z",
     "iopub.status.busy": "2024-11-05T11:12:28.016111Z",
     "iopub.status.idle": "2024-11-05T11:12:31.978274Z",
     "shell.execute_reply": "2024-11-05T11:12:31.977544Z"
    }
   },
   "outputs": [
    {
     "name": "stdout",
     "output_type": "stream",
     "text": [
      "s3://s3-dx-tdem-ie-nonprod-persist/persist-bo/persist-bo-demand-forecast/model-forecasted-output/20241103/ridge_forecast_data_2024-11-03.xlsx\n"
     ]
    }
   ],
   "source": [
    "prefix_reg_forecast = config.get_value('prefix_model_output_forecast_path')\n",
    "full_path_ridge_forecast = f\"s3://{bucket}/{prefix_reg_forecast}\"\n",
    "file_date_forecasting = pd.to_datetime(config.get_value('model_forecasting_date')).strftime(\"%Y-%m-%d\")\n",
    "ridge_forecast_file_name = f'{config.get_value(\"ridge_forecast_file_name\")}{file_date_forecasting}.xlsx'\n",
    "print(f\"{full_path_ridge_forecast}/{config.get_value('model_forecasting_date')}/{ridge_forecast_file_name}\")\n",
    "# saving file\n",
    "ridge_data_forecast.to_excel(f\"{full_path_ridge_forecast}/{config.get_value('model_forecasting_date')}/{ridge_forecast_file_name}\", index=False)\n"
   ]
  },
  {
   "cell_type": "code",
   "execution_count": 20,
   "id": "b3f2f375",
   "metadata": {
    "execution": {
     "iopub.execute_input": "2024-11-05T11:12:31.980585Z",
     "iopub.status.busy": "2024-11-05T11:12:31.980295Z",
     "iopub.status.idle": "2024-11-05T11:12:31.990313Z",
     "shell.execute_reply": "2024-11-05T11:12:31.989672Z"
    }
   },
   "outputs": [],
   "source": [
    "# Lasso lag 1\n",
    "def lasso_lag1_forecast(clean_data, s3_bucketname, pickle_path_lasso_lag1, last_training_date):\n",
    "    df1=clean_data[:]\n",
    "    df1=df1[['part_number','period','Total_qty_per_month']]\n",
    "    df1['period'] = pd.to_datetime(df1['period'])\n",
    "    df1=df1.sort_values('period')\n",
    "    model_folder = pickle_path_lasso_lag1\n",
    "    future_dates = get_consecutive_months(last_training_date)\n",
    "    final_metric_lag1_lasso=pd.DataFrame()\n",
    "    s3_client = boto3.client('s3')\n",
    "    fs = s3fs.S3FileSystem()\n",
    "    for i in df1['part_number'].unique():\n",
    "        try:\n",
    "            print(i)\n",
    "            data= df1[df1['part_number']==i]\n",
    "            data.drop('part_number',axis=1,inplace=True)\n",
    "            data['month'] = data['period'].dt.month\n",
    "            lag = 3\n",
    "            pred_win=1\n",
    "            lagged_data = create_lagged_features(data['Total_qty_per_month'], lag,pred_win)\n",
    "            \n",
    "            # Combine lagged features with original data\n",
    "            data_with_lags = pd.concat([data, lagged_data], axis=1)\n",
    "            data_with_lags.fillna(data_with_lags.median(), inplace=True)\n",
    "            \n",
    "            # Step 2: Split the Data\n",
    "            train_size = len(data_with_lags)-3\n",
    "            train_data = data_with_lags.iloc[:train_size]\n",
    "            test_data = data_with_lags.iloc[train_size:]\n",
    "            X_train_scaled = train_data.drop(['period', 'month','Total_qty_per_month'], axis=1)\n",
    "            X_test_scaled= X_train_scaled[-3:]\n",
    "            y_train = train_data['Total_qty_per_month']\n",
    "            \n",
    "            model_file_name_jlb = f\"lasso-t-{i}.joblib\"\n",
    "            s3_model_path_jlb = f\"{pickle_path_lasso_lag1}/{model_file_name_jlb}\"\n",
    "            with fs.open(f\"s3://{s3_bucketname}/{s3_model_path_jlb}\") as fh:\n",
    "                model = joblib.load(fh)\n",
    "            \n",
    "            # Make predictions\n",
    "            y_pred = model.predict(X_test_scaled)\n",
    "            X_pred = model.predict(X_train_scaled)\n",
    "            \n",
    "            # Forecast the next 3 periods\n",
    "            n_periods = 3\n",
    "            forecasts = forecast(data_with_lags, model, n_periods)\n",
    "            X_prediction=X_pred.tolist()\n",
    "            test_pred= y_pred.tolist()\n",
    "            Y_prediction=forecasts\n",
    "            X_Y_pred=X_prediction+test_pred+Y_prediction\n",
    "            metric=pd.DataFrame()\n",
    "            dates =pd.DataFrame(data['period'])\n",
    "            new_date = pd.DataFrame({'period': pd.to_datetime(future_dates)})\n",
    "            dates = pd.concat([dates, new_date], ignore_index=True)\n",
    "            metric['period']=dates['period']\n",
    "            qty = pd.DataFrame(data['Total_qty_per_month'])\n",
    "            new_qty = pd.DataFrame({'Total_qty_per_month': [0,0,0]})\n",
    "            qty = pd.concat([qty, new_qty], ignore_index=True)\n",
    "            metric['Actual_values']=qty['Total_qty_per_month']\n",
    "            metric['Predicted_values_lag1']= pd.DataFrame(X_Y_pred)\n",
    "            metric['part_number']=i\n",
    "            final_metric_lag1_lasso=pd.concat([final_metric_lag1_lasso,metric])\n",
    "        except Exception as e:\n",
    "            print(e)\n",
    "            print(i)\n",
    "    return final_metric_lag1_lasso"
   ]
  },
  {
   "cell_type": "code",
   "execution_count": 21,
   "id": "a641f505",
   "metadata": {
    "execution": {
     "iopub.execute_input": "2024-11-05T11:12:31.992062Z",
     "iopub.status.busy": "2024-11-05T11:12:31.991796Z",
     "iopub.status.idle": "2024-11-05T11:13:57.653397Z",
     "shell.execute_reply": "2024-11-05T11:13:57.652812Z"
    },
    "scrolled": true
   },
   "outputs": [
    {
     "name": "stdout",
     "output_type": "stream",
     "text": [
      "52159YP905\n",
      "815510K360\n",
      "815510L020\n"
     ]
    },
    {
     "name": "stdout",
     "output_type": "stream",
     "text": [
      "768010K120\n",
      "690570K200\n"
     ]
    },
    {
     "name": "stdout",
     "output_type": "stream",
     "text": [
      "8481002030\n",
      "48820F4010\n"
     ]
    },
    {
     "name": "stdout",
     "output_type": "stream",
     "text": [
      "815800K030\n",
      "48824KK010\n",
      "815800D500\n"
     ]
    },
    {
     "name": "stdout",
     "output_type": "stream",
     "text": [
      "852140A010\n",
      "815600K200\n"
     ]
    },
    {
     "name": "stdout",
     "output_type": "stream",
     "text": [
      "510730K010\n",
      "815840K020\n"
     ]
    },
    {
     "name": "stdout",
     "output_type": "stream",
     "text": [
      "9004A46131C1\n",
      "687200D030\n",
      "8159006700\n"
     ]
    },
    {
     "name": "stdout",
     "output_type": "stream",
     "text": [
      "561010K043\n",
      "557850K040\n"
     ]
    },
    {
     "name": "stdout",
     "output_type": "stream",
     "text": [
      "879310KC60\n",
      "689470K010\n"
     ]
    },
    {
     "name": "stdout",
     "output_type": "stream",
     "text": [
      "815610A070\n",
      "5590202180\n",
      "768010K560\n"
     ]
    },
    {
     "name": "stdout",
     "output_type": "stream",
     "text": [
      "48820BZ030\n",
      "9004A91065\n"
     ]
    },
    {
     "name": "stdout",
     "output_type": "stream",
     "text": [
      "561010A928\n",
      "815600L020\n"
     ]
    },
    {
     "name": "stdout",
     "output_type": "stream",
     "text": [
      "75770YP050B0\n",
      "9004A81028\n"
     ]
    },
    {
     "name": "stdout",
     "output_type": "stream",
     "text": [
      "77641KK010\n",
      "8159002C80\n",
      "8156106B10\n"
     ]
    },
    {
     "name": "stdout",
     "output_type": "stream",
     "text": [
      "90363T0018\n",
      "776060A050\n"
     ]
    },
    {
     "name": "stdout",
     "output_type": "stream",
     "text": [
      "815510D480\n",
      "697100K140\n",
      "83800F0S91\n"
     ]
    },
    {
     "name": "stdout",
     "output_type": "stream",
     "text": [
      "517020K050\n",
      "83800F0S50\n",
      "8110A06G60\n"
     ]
    },
    {
     "name": "stdout",
     "output_type": "stream",
     "text": [
      "841520K060\n",
      "841400K600\n"
     ]
    },
    {
     "name": "stdout",
     "output_type": "stream",
     "text": [
      "517050K010\n",
      "841400K450\n",
      "681880D300\n"
     ]
    },
    {
     "name": "stdout",
     "output_type": "stream",
     "text": [
      "52114F4050\n",
      "827300K260\n"
     ]
    },
    {
     "name": "stdout",
     "output_type": "stream",
     "text": [
      "838000KN50\n",
      "517010K130\n"
     ]
    },
    {
     "name": "stdout",
     "output_type": "stream",
     "text": [
      "827300A060\n",
      "90363T0049\n",
      "681710D100\n"
     ]
    },
    {
     "name": "stdout",
     "output_type": "stream",
     "text": [
      "48730F4040\n",
      "8155106B10\n"
     ]
    },
    {
     "name": "stdout",
     "output_type": "stream",
     "text": [
      "686300D170\n",
      "815510A070\n"
     ]
    },
    {
     "name": "stdout",
     "output_type": "stream",
     "text": [
      "487100K030\n",
      "8156006180\n",
      "477210K020\n"
     ]
    },
    {
     "name": "stdout",
     "output_type": "stream",
     "text": [
      "178010Y020\n",
      "487550D060\n",
      "75770YP011\n"
     ]
    },
    {
     "name": "stdout",
     "output_type": "stream",
     "text": [
      "827410K010\n",
      "772770K010\n"
     ]
    },
    {
     "name": "stdout",
     "output_type": "stream",
     "text": [
      "4881502230\n",
      "8274033080\n"
     ]
    },
    {
     "name": "stdout",
     "output_type": "stream",
     "text": [
      "815520D430\n",
      "879400K702\n"
     ]
    },
    {
     "name": "stdout",
     "output_type": "stream",
     "text": [
      "77641KK020\n",
      "583790D040\n"
     ]
    },
    {
     "name": "stdout",
     "output_type": "stream",
     "text": [
      "739200K120\n",
      "879610D750\n",
      "5553906130\n"
     ]
    },
    {
     "name": "stdout",
     "output_type": "stream",
     "text": [
      "8791006B80\n",
      "853300D100\n"
     ]
    },
    {
     "name": "stdout",
     "output_type": "stream",
     "text": [
      "76801YZB1000\n",
      "55625KK050\n",
      "85316YE010\n"
     ]
    },
    {
     "name": "stdout",
     "output_type": "stream",
     "text": [
      "742100K080C2\n",
      "674910K210C0\n"
     ]
    },
    {
     "name": "stdout",
     "output_type": "stream",
     "text": [
      "8552028010\n",
      "5566006310\n"
     ]
    },
    {
     "name": "stdout",
     "output_type": "stream",
     "text": [
      "8487202580\n",
      "8484052020\n"
     ]
    },
    {
     "name": "stdout",
     "output_type": "stream",
     "text": [
      "891700A020\n",
      "5566002560\n"
     ]
    },
    {
     "name": "stdout",
     "output_type": "stream",
     "text": [
      "848200K271\n",
      "8598A0K030\n"
     ]
    },
    {
     "name": "stdout",
     "output_type": "stream",
     "text": [
      "7392006220\n",
      "7592402180\n"
     ]
    },
    {
     "name": "stdout",
     "output_type": "stream",
     "text": [
      "616820K922\n",
      "852140D330\n",
      "7585102908\n"
     ]
    },
    {
     "name": "stdout",
     "output_type": "stream",
     "text": [
      "55409KK030\n",
      "67002K1010\n"
     ]
    },
    {
     "name": "stdout",
     "output_type": "stream",
     "text": [
      "8115002L10\n",
      "851500K140\n",
      "851100K201\n"
     ]
    },
    {
     "name": "stdout",
     "output_type": "stream",
     "text": [
      "55618KK040\n",
      "850460K031\n"
     ]
    },
    {
     "name": "stdout",
     "output_type": "stream",
     "text": [
      "7530102220\n",
      "5555733030\n"
     ]
    },
    {
     "name": "stdout",
     "output_type": "stream",
     "text": [
      "879610A050\n",
      "879400KG11\n"
     ]
    },
    {
     "name": "stdout",
     "output_type": "stream",
     "text": [
      "55408KK030\n",
      "811100K652\n"
     ]
    },
    {
     "name": "stdout",
     "output_type": "stream",
     "text": [
      "8791502917\n",
      "879100KD22\n",
      "583070A020\n"
     ]
    },
    {
     "name": "stdout",
     "output_type": "stream",
     "text": [
      "879100KD02\n",
      "583070D400\n"
     ]
    },
    {
     "name": "stdout",
     "output_type": "stream",
     "text": [
      "7680102907\n",
      "879400K909\n"
     ]
    },
    {
     "name": "stdout",
     "output_type": "stream",
     "text": [
      "879100A050\n",
      "698040K160\n"
     ]
    },
    {
     "name": "stdout",
     "output_type": "stream",
     "text": [
      "58322KK011\n",
      "879100KB81\n"
     ]
    },
    {
     "name": "stdout",
     "output_type": "stream",
     "text": [
      "879150K600\n",
      "8794006B91\n"
     ]
    },
    {
     "name": "stdout",
     "output_type": "stream",
     "text": [
      "8791006D80\n",
      "5208106030\n"
     ]
    },
    {
     "name": "stdout",
     "output_type": "stream",
     "text": [
      "743100K320B0\n",
      "879100KM50\n"
     ]
    },
    {
     "name": "stdout",
     "output_type": "stream",
     "text": [
      "75770YP050B1\n",
      "676400A170C3\n",
      "879400KM50\n"
     ]
    },
    {
     "name": "stdout",
     "output_type": "stream",
     "text": [
      "87940YP050\n",
      "553490D240\n",
      "888910D470\n"
     ]
    },
    {
     "name": "stdout",
     "output_type": "stream",
     "text": [
      "561010KB70\n",
      "7431002F60E0\n"
     ]
    },
    {
     "name": "stdout",
     "output_type": "stream",
     "text": [
      "55410KK120C4\n",
      "88515F4030\n"
     ]
    },
    {
     "name": "stdout",
     "output_type": "stream",
     "text": [
      "9004A16036\n",
      "884100D370\n",
      "55660KK160\n"
     ]
    },
    {
     "name": "stdout",
     "output_type": "stream",
     "text": [
      "879400KB51\n",
      "885480D080\n"
     ]
    },
    {
     "name": "stdout",
     "output_type": "stream",
     "text": [
      "773800K010\n",
      "82121KK541\n",
      "5210104120\n"
     ]
    },
    {
     "name": "stdout",
     "output_type": "stream",
     "text": [
      "48510BZ200\n",
      "531010D330\n"
     ]
    },
    {
     "name": "stdout",
     "output_type": "stream",
     "text": [
      "9098208296\n",
      "5310206490\n",
      "C200601010E0\n"
     ]
    },
    {
     "name": "stdout",
     "output_type": "stream",
     "text": [
      "48520BZ490\n",
      "812600K070B0\n",
      "PZ0030D006\n"
     ]
    },
    {
     "name": "stdout",
     "output_type": "stream",
     "text": [
      "531120K540B0\n",
      "PC4900K010\n"
     ]
    },
    {
     "name": "stdout",
     "output_type": "stream",
     "text": [
      "4806909270\n",
      "692170K440\n",
      "PZ0580K00709\n"
     ]
    },
    {
     "name": "stdout",
     "output_type": "stream",
     "text": [
      "531120K420\n",
      "PZ0350640643\n",
      "PC1620A006\n"
     ]
    },
    {
     "name": "stdout",
     "output_type": "stream",
     "text": [
      "4853109A50\n",
      "90461T0001\n",
      "531120K120\n"
     ]
    },
    {
     "name": "stdout",
     "output_type": "stream",
     "text": [
      "PC3820A004\n",
      "PC3550K032\n",
      "53111YP902\n"
     ]
    },
    {
     "name": "stdout",
     "output_type": "stream",
     "text": [
      "757310D915\n",
      "69217YP020\n"
     ]
    },
    {
     "name": "stdout",
     "output_type": "stream",
     "text": [
      "690900K120\n"
     ]
    },
    {
     "name": "stdout",
     "output_type": "stream",
     "text": [
      "424310K280\n",
      "13711BZ061\n"
     ]
    },
    {
     "name": "stdout",
     "output_type": "stream",
     "text": [
      "P42860D00196\n",
      "53112YP430\n"
     ]
    },
    {
     "name": "stdout",
     "output_type": "stream",
     "text": [
      "P44015800300\n",
      "531130K010\n"
     ]
    },
    {
     "name": "stdout",
     "output_type": "stream",
     "text": [
      "812700D200\n",
      "90445T0010\n",
      "90950T1001\n"
     ]
    },
    {
     "name": "stdout",
     "output_type": "stream",
     "text": [
      "90950T6001\n",
      "48609BZ120\n"
     ]
    },
    {
     "name": "stdout",
     "output_type": "stream",
     "text": [
      "521270K300\n",
      "8951602220\n",
      "8155006B10\n"
     ]
    },
    {
     "name": "stdout",
     "output_type": "stream",
     "text": [
      "755730K060\n",
      "521290A010\n"
     ]
    },
    {
     "name": "stdout",
     "output_type": "stream",
     "text": [
      "9009962225\n",
      "486740B020\n"
     ]
    },
    {
     "name": "stdout",
     "output_type": "stream",
     "text": [
      "90105T0074\n",
      "52133YP030\n"
     ]
    },
    {
     "name": "stdout",
     "output_type": "stream",
     "text": [
      "90105T0211\n",
      "538660K030\n",
      "6922089110A1\n"
     ]
    },
    {
     "name": "stdout",
     "output_type": "stream",
     "text": [
      "8155006780\n",
      "521270K860\n"
     ]
    },
    {
     "name": "stdout",
     "output_type": "stream",
     "text": [
      "9006981073\n",
      "45535BZ110\n"
     ]
    },
    {
     "name": "stdout",
     "output_type": "stream",
     "text": [
      "531110D260\n",
      "812100K051\n"
     ]
    },
    {
     "name": "stdout",
     "output_type": "stream",
     "text": [
      "526750K080\n",
      "90975T2005\n",
      "531110K010\n"
     ]
    },
    {
     "name": "stdout",
     "output_type": "stream",
     "text": [
      "99332108658T\n",
      "756050A010\n",
      "6921802280\n"
     ]
    },
    {
     "name": "stdout",
     "output_type": "stream",
     "text": [
      "522160K020\n",
      "9008046288\n"
     ]
    },
    {
     "name": "stdout",
     "output_type": "stream",
     "text": [
      "5387602810\n",
      "9008031099\n",
      "52127YZB0400\n"
     ]
    },
    {
     "name": "stdout",
     "output_type": "stream",
     "text": [
      "9006810050\n",
      "9611110710\n",
      "6920506180C0\n"
     ]
    },
    {
     "name": "stdout",
     "output_type": "stream",
     "text": [
      "526140K010\n",
      "90430T0025\n",
      "90541T0002\n"
     ]
    },
    {
     "name": "stdout",
     "output_type": "stream",
     "text": [
      "485308Z133\n",
      "82169KK030\n"
     ]
    },
    {
     "name": "stdout",
     "output_type": "stream",
     "text": [
      "47608BZ020\n",
      "485308Z131\n"
     ]
    },
    {
     "name": "stdout",
     "output_type": "stream",
     "text": [
      "82165KK080\n",
      "826620K011\n"
     ]
    },
    {
     "name": "stdout",
     "output_type": "stream",
     "text": [
      "4853109A70\n",
      "8266104010\n",
      "697500K160\n"
     ]
    },
    {
     "name": "stdout",
     "output_type": "stream",
     "text": [
      "8111002F41\n",
      "82121KK693\n"
     ]
    },
    {
     "name": "stdout",
     "output_type": "stream",
     "text": [
      "4853002C81\n",
      "819350K030\n"
     ]
    },
    {
     "name": "stdout",
     "output_type": "stream",
     "text": [
      "819200A010\n",
      "909818Y001\n",
      "485108Z038\n"
     ]
    },
    {
     "name": "stdout",
     "output_type": "stream",
     "text": [
      "821210ZN70\n",
      "82119KK130\n"
     ]
    },
    {
     "name": "stdout",
     "output_type": "stream",
     "text": [
      "486540K010\n",
      "757700K440\n"
     ]
    },
    {
     "name": "stdout",
     "output_type": "stream",
     "text": [
      "8110AYP090\n",
      "69516BZ110\n"
     ]
    },
    {
     "name": "stdout",
     "output_type": "stream",
     "text": [
      "697510A010B2\n",
      "8211606C60\n"
     ]
    },
    {
     "name": "stdout",
     "output_type": "stream",
     "text": [
      "82111F4L30\n",
      "819420K490C0\n"
     ]
    },
    {
     "name": "stdout",
     "output_type": "stream",
     "text": [
      "485208Z302\n",
      "817300D121\n",
      "8174006090\n"
     ]
    },
    {
     "name": "stdout",
     "output_type": "stream",
     "text": [
      "694100K070\n",
      "485208Z304\n"
     ]
    },
    {
     "name": "stdout",
     "output_type": "stream",
     "text": [
      "843060D031\n",
      "90520T0169\n"
     ]
    },
    {
     "name": "stdout",
     "output_type": "stream",
     "text": [
      "53088YP040C0\n",
      "527120K060\n",
      "9004178083\n"
     ]
    },
    {
     "name": "stdout",
     "output_type": "stream",
     "text": [
      "9038608002\n",
      "90466T0039\n"
     ]
    },
    {
     "name": "stdout",
     "output_type": "stream",
     "text": [
      "5271106360\n",
      "12305BZ161\n"
     ]
    },
    {
     "name": "stdout",
     "output_type": "stream",
     "text": [
      "9034118006\n",
      "698010D351\n"
     ]
    },
    {
     "name": "stdout",
     "output_type": "stream",
     "text": [
      "52707YP902\n",
      "90466T0067\n"
     ]
    },
    {
     "name": "stdout",
     "output_type": "stream",
     "text": [
      "9046709240\n",
      "52423YP010\n"
     ]
    },
    {
     "name": "stdout",
     "output_type": "stream",
     "text": [
      "90401T0007\n",
      "811060A070\n"
     ]
    },
    {
     "name": "stdout",
     "output_type": "stream",
     "text": [
      "90466T0016\n",
      "82121KK522\n",
      "6980106110\n"
     ]
    },
    {
     "name": "stdout",
     "output_type": "stream",
     "text": [
      "90369T0010\n",
      "757700K390\n"
     ]
    },
    {
     "name": "stdout",
     "output_type": "stream",
     "text": [
      "8111006F10\n",
      "90520T0168\n"
     ]
    },
    {
     "name": "stdout",
     "output_type": "stream",
     "text": [
      "53088YP010\n",
      "90947T2090\n",
      "697600K040\n"
     ]
    },
    {
     "name": "stdout",
     "output_type": "stream",
     "text": [
      "811060A090\n",
      "90947T2046\n",
      "4261A0K030\n"
     ]
    },
    {
     "name": "stdout",
     "output_type": "stream",
     "text": [
      "9093003136\n",
      "53087YP010\n"
     ]
    },
    {
     "name": "stdout",
     "output_type": "stream",
     "text": [
      "90916021378T\n",
      "90916T2005\n",
      "5310002905\n"
     ]
    },
    {
     "name": "stdout",
     "output_type": "stream",
     "text": [
      "53087YP040A1\n",
      "90119T0388\n",
      "625520D450C0\n"
     ]
    },
    {
     "name": "stdout",
     "output_type": "stream",
     "text": [
      "871380K250\n",
      "462430K010B0\n"
     ]
    },
    {
     "name": "stdout",
     "output_type": "stream",
     "text": [
      "464200K290\n",
      "171730E030\n",
      "2801130040\n"
     ]
    },
    {
     "name": "stdout",
     "output_type": "stream",
     "text": [
      "123720Y141\n",
      "739600K120\n"
     ]
    },
    {
     "name": "stdout",
     "output_type": "stream",
     "text": [
      "5342012330PH\n",
      "1671628010\n",
      "636100K060C0\n"
     ]
    },
    {
     "name": "stdout",
     "output_type": "stream",
     "text": [
      "130410E02102\n",
      "167110T101\n",
      "130410E02105\n"
     ]
    },
    {
     "name": "stdout",
     "output_type": "stream",
     "text": [
      "678610D090\n",
      "167110M030\n"
     ]
    },
    {
     "name": "stdout",
     "output_type": "stream",
     "text": [
      "131010T150\n",
      "123710C200\n",
      "534200D652\n"
     ]
    },
    {
     "name": "stdout",
     "output_type": "stream",
     "text": [
      "137110C031\n",
      "7702412390\n"
     ]
    },
    {
     "name": "stdout",
     "output_type": "stream",
     "text": [
      "678410K160\n",
      "137110T050\n"
     ]
    },
    {
     "name": "stdout",
     "output_type": "stream",
     "text": [
      "166200Y100\n",
      "5341012410PH\n",
      "165720C160\n"
     ]
    },
    {
     "name": "stdout",
     "output_type": "stream",
     "text": [
      "123710T320\n",
      "755520K140\n"
     ]
    },
    {
     "name": "stdout",
     "output_type": "stream",
     "text": [
      "123610T320\n",
      "633390D070B1\n"
     ]
    },
    {
     "name": "stdout",
     "output_type": "stream",
     "text": [
      "772130D060\n",
      "12361350501\n"
     ]
    },
    {
     "name": "stdout",
     "output_type": "stream",
     "text": [
      "165920T310\n",
      "166200L020\n",
      "633390D030E0\n"
     ]
    },
    {
     "name": "stdout",
     "output_type": "stream",
     "text": [
      "636100K010B0\n",
      "7722652110\n"
     ]
    },
    {
     "name": "stdout",
     "output_type": "stream",
     "text": [
      "661100K020\n",
      "69802BZ150\n"
     ]
    },
    {
     "name": "stdout",
     "output_type": "stream",
     "text": [
      "5383602060\n",
      "455100D491\n"
     ]
    },
    {
     "name": "stdout",
     "output_type": "stream",
     "text": [
      "4504609610\n",
      "55041KK070C5\n"
     ]
    },
    {
     "name": "stdout",
     "output_type": "stream",
     "text": [
      "4504609530\n",
      "7724133011\n",
      "53812YP010\n"
     ]
    },
    {
     "name": "stdout",
     "output_type": "stream",
     "text": [
      "4504609281\n",
      "65700KK170\n",
      "679120K010C0\n"
     ]
    },
    {
     "name": "stdout",
     "output_type": "stream",
     "text": [
      "451300K350C0\n",
      "48131BZ720\n",
      "538850K010\n"
     ]
    },
    {
     "name": "stdout",
     "output_type": "stream",
     "text": [
      "4518606090B0\n",
      "754590K260\n"
     ]
    },
    {
     "name": "stdout",
     "output_type": "stream",
     "text": [
      "464300K100\n",
      "165720L150\n",
      "678610K121\n"
     ]
    },
    {
     "name": "stdout",
     "output_type": "stream",
     "text": [
      "473290K011\n",
      "53802KK020\n"
     ]
    },
    {
     "name": "stdout",
     "output_type": "stream",
     "text": [
      "62712BZ211\n",
      "636120K010\n"
     ]
    },
    {
     "name": "stdout",
     "output_type": "stream",
     "text": [
      "473290K021\n",
      "462010K230C0\n"
     ]
    },
    {
     "name": "stdout",
     "output_type": "stream",
     "text": [
      "6433002200A0\n",
      "4643035330A1\n"
     ]
    },
    {
     "name": "stdout",
     "output_type": "stream",
     "text": [
      "4518706050B0\n",
      "5363006070\n"
     ]
    },
    {
     "name": "stdout",
     "output_type": "stream",
     "text": [
      "67004BZ680\n",
      "538050K140\n"
     ]
    },
    {
     "name": "stdout",
     "output_type": "stream",
     "text": [
      "1629E0E010\n",
      "76822BZ030\n"
     ]
    },
    {
     "name": "stdout",
     "output_type": "stream",
     "text": [
      "135720L010\n",
      "122620Y110\n",
      "233000D030TH\n"
     ]
    },
    {
     "name": "stdout",
     "output_type": "stream",
     "text": [
      "091180D030\n",
      "111150L021B0\n"
     ]
    },
    {
     "name": "stdout",
     "output_type": "stream",
     "text": [
      "772090D040\n",
      "646070D080\n",
      "2328336010\n"
     ]
    },
    {
     "name": "stdout",
     "output_type": "stream",
     "text": [
      "111310C011\n",
      "166200W093\n"
     ]
    },
    {
     "name": "stdout",
     "output_type": "stream",
     "text": [
      "044660D040\n",
      "232730C171\n",
      "111310C020\n"
     ]
    },
    {
     "name": "stdout",
     "output_type": "stream",
     "text": [
      "6786752040TH\n",
      "11213BZ011\n"
     ]
    },
    {
     "name": "stdout",
     "output_type": "stream",
     "text": [
      "486090K120\n",
      "232710L141\n",
      "1129336070\n"
     ]
    },
    {
     "name": "stdout",
     "output_type": "stream",
     "text": [
      "274150L040\n",
      "769250D060B4\n"
     ]
    },
    {
     "name": "stdout",
     "output_type": "stream",
     "text": [
      "8531502411\n",
      "238040E041\n"
     ]
    },
    {
     "name": "stdout",
     "output_type": "stream",
     "text": [
      "250510E210\n",
      "273700C020\n",
      "172030E050\n"
     ]
    },
    {
     "name": "stdout",
     "output_type": "stream",
     "text": [
      "86300BZ251B0\n",
      "233900L100\n"
     ]
    },
    {
     "name": "stdout",
     "output_type": "stream",
     "text": [
      "177510Y100\n",
      "6442906020\n"
     ]
    },
    {
     "name": "stdout",
     "output_type": "stream",
     "text": [
      "232170C010\n",
      "521270K800\n"
     ]
    },
    {
     "name": "stdout",
     "output_type": "stream",
     "text": [
      "177520T100\n",
      "174030L102\n",
      "757240K100\n"
     ]
    },
    {
     "name": "stdout",
     "output_type": "stream",
     "text": [
      "770240K170\n",
      "678620A020\n"
     ]
    },
    {
     "name": "stdout",
     "output_type": "stream",
     "text": [
      "135490T040\n",
      "678610K130\n"
     ]
    },
    {
     "name": "stdout",
     "output_type": "stream",
     "text": [
      "135060D030\n",
      "1657105040\n",
      "135620T040\n"
     ]
    },
    {
     "name": "stdout",
     "output_type": "stream",
     "text": [
      "162640D030\n",
      "68630BZ120\n"
     ]
    },
    {
     "name": "stdout",
     "output_type": "stream",
     "text": [
      "63111K0120\n",
      "1356605010\n"
     ]
    },
    {
     "name": "stdout",
     "output_type": "stream",
     "text": [
      "162600T180\n",
      "151040Y010\n",
      "683030D031\n"
     ]
    },
    {
     "name": "stdout",
     "output_type": "stream",
     "text": [
      "151930L010\n",
      "162860L010\n",
      "682100D260\n"
     ]
    },
    {
     "name": "stdout",
     "output_type": "stream",
     "text": [
      "4522006270\n",
      "16400F0030\n",
      "7720933040\n"
     ]
    },
    {
     "name": "stdout",
     "output_type": "stream",
     "text": [
      "165710T100\n",
      "631870A010\n"
     ]
    },
    {
     "name": "stdout",
     "output_type": "stream",
     "text": [
      "123110C020\n",
      "164700H020\n"
     ]
    },
    {
     "name": "stdout",
     "output_type": "stream",
     "text": [
      "121020T050\n",
      "4261102G31\n"
     ]
    },
    {
     "name": "stdout",
     "output_type": "stream",
     "text": [
      "135590C040\n",
      "164050H020\n",
      "686100D170\n"
     ]
    },
    {
     "name": "stdout",
     "output_type": "stream",
     "text": [
      "041110C300\n",
      "164010C030\n"
     ]
    },
    {
     "name": "stdout",
     "output_type": "stream",
     "text": [
      "049430K030\n",
      "63145KK030\n"
     ]
    },
    {
     "name": "stdout",
     "output_type": "stream",
     "text": [
      "67871BZ210\n",
      "041110C136\n",
      "872010K010\n"
     ]
    },
    {
     "name": "stdout",
     "output_type": "stream",
     "text": [
      "4526002290\n",
      "5761602918\n",
      "4342006620\n"
     ]
    },
    {
     "name": "stdout",
     "output_type": "stream",
     "text": [
      "670040D650\n",
      "61132KK040\n"
     ]
    },
    {
     "name": "stdout",
     "output_type": "stream",
     "text": [
      "435240K020\n",
      "9004A15057\n"
     ]
    },
    {
     "name": "stdout",
     "output_type": "stream",
     "text": [
      "766260L010C0\n",
      "435120K270\n",
      "611320K090\n"
     ]
    },
    {
     "name": "stdout",
     "output_type": "stream",
     "text": [
      "4351771010\n",
      "710720KW20C0\n",
      "9004A94125\n"
     ]
    },
    {
     "name": "stdout",
     "output_type": "stream",
     "text": [
      "53293YP091\n",
      "330380D030\n",
      "330370K040\n"
     ]
    },
    {
     "name": "stdout",
     "output_type": "stream",
     "text": [
      "330340D081\n",
      "53293KK100\n",
      "67004KK030\n"
     ]
    },
    {
     "name": "stdout",
     "output_type": "stream",
     "text": [
      "532860D100\n",
      "679170K150C0\n"
     ]
    },
    {
     "name": "stdout",
     "output_type": "stream",
     "text": [
      "721200K030\n",
      "333310K030\n",
      "532730D070\n"
     ]
    },
    {
     "name": "stdout",
     "output_type": "stream",
     "text": [
      "766250L020\n",
      "61062YP010\n"
     ]
    },
    {
     "name": "stdout",
     "output_type": "stream",
     "text": [
      "333680K040\n",
      "53288YP020\n"
     ]
    },
    {
     "name": "stdout",
     "output_type": "stream",
     "text": [
      "75442F4040\n",
      "335040D050C0\n"
     ]
    },
    {
     "name": "stdout",
     "output_type": "stream",
     "text": [
      "532930K060\n",
      "710720UJ30C2\n",
      "335040D690C0\n"
     ]
    },
    {
     "name": "stdout",
     "output_type": "stream",
     "text": [
      "3336926010\n",
      "281600L180\n",
      "44763KK040\n"
     ]
    },
    {
     "name": "stdout",
     "output_type": "stream",
     "text": [
      "6160106350\n",
      "623310K020\n"
     ]
    },
    {
     "name": "stdout",
     "output_type": "stream",
     "text": [
      "871200K030\n",
      "878100A020B1\n"
     ]
    },
    {
     "name": "stdout",
     "output_type": "stream",
     "text": [
      "739000A010C0\n",
      "67005KK020\n"
     ]
    },
    {
     "name": "stdout",
     "output_type": "stream",
     "text": [
      "827300K790\n",
      "623320D030E0\n"
     ]
    },
    {
     "name": "stdout",
     "output_type": "stream",
     "text": [
      "871030K092\n"
     ]
    },
    {
     "name": "stdout",
     "output_type": "stream",
     "text": [
      "616020D410\n",
      "871030K200\n",
      "4260BYP050\n"
     ]
    },
    {
     "name": "stdout",
     "output_type": "stream",
     "text": [
      "58905KK010C7\n",
      "4261106B90\n"
     ]
    },
    {
     "name": "stdout",
     "output_type": "stream",
     "text": [
      "76625390851\n",
      "715120D840\n"
     ]
    },
    {
     "name": "stdout",
     "output_type": "stream",
     "text": [
      "4260B0K060\n",
      "585100KZ40C1\n"
     ]
    },
    {
     "name": "stdout",
     "output_type": "stream",
     "text": [
      "444110K030\n",
      "443100D020\n",
      "616020A030\n"
     ]
    },
    {
     "name": "stdout",
     "output_type": "stream",
     "text": [
      "42421KK030\n",
      "424310A040\n",
      "6160202600\n"
     ]
    },
    {
     "name": "stdout",
     "output_type": "stream",
     "text": [
      "710720K151B2\n",
      "757530A010\n"
     ]
    },
    {
     "name": "stdout",
     "output_type": "stream",
     "text": [
      "66251YP010\n",
      "71074YP190C3\n",
      "426030K090\n"
     ]
    },
    {
     "name": "stdout",
     "output_type": "stream",
     "text": [
      "58802YE020B0\n",
      "426110K732\n"
     ]
    },
    {
     "name": "stdout",
     "output_type": "stream",
     "text": [
      "426110KF72\n",
      "7321002750C1\n",
      "28800YZZRZ\n"
     ]
    },
    {
     "name": "stdout",
     "output_type": "stream",
     "text": [
      "53294YP091\n",
      "3141004010\n"
     ]
    },
    {
     "name": "stdout",
     "output_type": "stream",
     "text": [
      "47447300201\n",
      "879610K230\n"
     ]
    },
    {
     "name": "stdout",
     "output_type": "stream",
     "text": [
      "7710312150\n",
      "655370K010\n"
     ]
    },
    {
     "name": "stdout",
     "output_type": "stream",
     "text": [
      "532030A901\n",
      "483410K050\n",
      "5351006261\n"
     ]
    },
    {
     "name": "stdout",
     "output_type": "stream",
     "text": [
      "482311H0904\n",
      "532050A020\n",
      "483410K010\n"
     ]
    },
    {
     "name": "stdout",
     "output_type": "stream",
     "text": [
      "483720K030\n",
      "5311402440\n"
     ]
    },
    {
     "name": "stdout",
     "output_type": "stream",
     "text": [
      "53205KK040\n",
      "6472106430C2\n"
     ]
    },
    {
     "name": "stdout",
     "output_type": "stream",
     "text": [
      "681230K012\n",
      "48158F4020\n"
     ]
    },
    {
     "name": "stdout",
     "output_type": "stream",
     "text": [
      "53218KK010\n",
      "452800K030\n",
      "53814F4020\n"
     ]
    },
    {
     "name": "stdout",
     "output_type": "stream",
     "text": [
      "450240K010C0\n",
      "681050D170\n"
     ]
    },
    {
     "name": "stdout",
     "output_type": "stream",
     "text": [
      "5381402080\n",
      "475470D030\n"
     ]
    },
    {
     "name": "stdout",
     "output_type": "stream",
     "text": [
      "53202KK020\n",
      "647400A010C0\n"
     ]
    },
    {
     "name": "stdout",
     "output_type": "stream",
     "text": [
      "482100K081\n",
      "538520A060\n"
     ]
    },
    {
     "name": "stdout",
     "output_type": "stream",
     "text": [
      "557080K130\n",
      "481310KS90\n",
      "7555502330\n"
     ]
    },
    {
     "name": "stdout",
     "output_type": "stream",
     "text": [
      "4815802140\n",
      "768720D020B0\n",
      "481310KD50\n"
     ]
    },
    {
     "name": "stdout",
     "output_type": "stream",
     "text": [
      "47771300901\n",
      "531210K870\n",
      "72681KK010\n"
     ]
    },
    {
     "name": "stdout",
     "output_type": "stream",
     "text": [
      "53630BZ230\n",
      "4230506300\n",
      "5334106350\n"
     ]
    },
    {
     "name": "stdout",
     "output_type": "stream",
     "text": [
      "772010K070\n",
      "411100K640\n",
      "681010K123\n"
     ]
    },
    {
     "name": "stdout",
     "output_type": "stream",
     "text": [
      "5342002580\n",
      "314700D090\n",
      "724570K020D0\n"
     ]
    },
    {
     "name": "stdout",
     "output_type": "stream",
     "text": [
      "534100D400\n",
      "8794BBZ010\n"
     ]
    },
    {
     "name": "stdout",
     "output_type": "stream",
     "text": [
      "9031035010\n",
      "314200D150\n",
      "423110K010\n"
     ]
    },
    {
     "name": "stdout",
     "output_type": "stream",
     "text": [
      "538350A040\n",
      "5325306020\n",
      "754410K210\n"
     ]
    },
    {
     "name": "stdout",
     "output_type": "stream",
     "text": [
      "681010A010\n",
      "532080K090\n",
      "477310K300\n"
     ]
    },
    {
     "name": "stdout",
     "output_type": "stream",
     "text": [
      "531150K080\n",
      "655930K010\n"
     ]
    },
    {
     "name": "stdout",
     "output_type": "stream",
     "text": [
      "4771533340\n",
      "350000K030\n"
     ]
    },
    {
     "name": "stdout",
     "output_type": "stream",
     "text": [
      "531220D080\n",
      "4813106G10\n",
      "8423102040\n"
     ]
    },
    {
     "name": "stdout",
     "output_type": "stream",
     "text": [
      "481310KG10\n",
      "5312306170\n",
      "554400K040A0\n"
     ]
    },
    {
     "name": "stdout",
     "output_type": "stream",
     "text": [
      "48068F4020\n",
      "5320102380\n"
     ]
    },
    {
     "name": "stdout",
     "output_type": "stream",
     "text": [
      "8934802190\n",
      "6453106450\n"
     ]
    },
    {
     "name": "stdout",
     "output_type": "stream",
     "text": [
      "9006810033\n",
      "811500A040\n"
     ]
    },
    {
     "name": "stdout",
     "output_type": "stream",
     "text": [
      "899040KG10\n",
      "522030K120\n"
     ]
    },
    {
     "name": "stdout",
     "output_type": "stream",
     "text": [
      "9011608233\n",
      "521590X926\n"
     ]
    },
    {
     "name": "stdout",
     "output_type": "stream",
     "text": [
      "5203006080\n",
      "5216304010\n"
     ]
    },
    {
     "name": "stdout",
     "output_type": "stream",
     "text": [
      "90178T0079\n",
      "90119T0442\n"
     ]
    },
    {
     "name": "stdout",
     "output_type": "stream",
     "text": [
      "815800D540\n",
      "90119T0578\n"
     ]
    },
    {
     "name": "stdout",
     "output_type": "stream",
     "text": [
      "68210BZ030\n",
      "90119T0064\n",
      "8990H02180\n"
     ]
    },
    {
     "name": "stdout",
     "output_type": "stream",
     "text": [
      "815610DA90\n",
      "90301T0020\n"
     ]
    },
    {
     "name": "stdout",
     "output_type": "stream",
     "text": [
      "90170T0006\n",
      "52119YP917\n",
      "8152004110\n"
     ]
    },
    {
     "name": "stdout",
     "output_type": "stream",
     "text": [
      "90119T0139\n",
      "521270K170\n",
      "90119T0283\n"
     ]
    },
    {
     "name": "stdout",
     "output_type": "stream",
     "text": [
      "8118506F50\n",
      "90178T0034\n",
      "521510K200\n"
     ]
    },
    {
     "name": "stdout",
     "output_type": "stream",
     "text": [
      "896390K010\n",
      "887110K062\n"
     ]
    },
    {
     "name": "stdout",
     "output_type": "stream",
     "text": [
      "692270K908\n",
      "8114502820\n"
     ]
    },
    {
     "name": "stdout",
     "output_type": "stream",
     "text": [
      "90119T0532\n",
      "522030K150\n"
     ]
    },
    {
     "name": "stdout",
     "output_type": "stream",
     "text": [
      "52119YP921\n",
      "8151106070\n",
      "521510K190\n"
     ]
    },
    {
     "name": "stdout",
     "output_type": "stream",
     "text": [
      "676630K010\n",
      "90159T0036\n"
     ]
    },
    {
     "name": "stdout",
     "output_type": "stream",
     "text": [
      "4342002C40\n",
      "8978402140\n",
      "90311T0036\n"
     ]
    },
    {
     "name": "stdout",
     "output_type": "stream",
     "text": [
      "9004B93002\n",
      "521660A900\n"
     ]
    },
    {
     "name": "stdout",
     "output_type": "stream",
     "text": [
      "53121BZ120\n",
      "522050K010\n",
      "90119T0404\n"
     ]
    },
    {
     "name": "stdout",
     "output_type": "stream",
     "text": [
      "90109T0042\n",
      "815700K120\n",
      "52119F2926\n"
     ]
    },
    {
     "name": "stdout",
     "output_type": "stream",
     "text": [
      "90119T0264\n",
      "90311T0055\n"
     ]
    },
    {
     "name": "stdout",
     "output_type": "stream",
     "text": [
      "90105T0253\n",
      "8152006070\n",
      "521590A070\n"
     ]
    },
    {
     "name": "stdout",
     "output_type": "stream",
     "text": [
      "6921202110\n",
      "90119T0226\n"
     ]
    },
    {
     "name": "stdout",
     "output_type": "stream",
     "text": [
      "76851BZ130\n",
      "112010Y070\n"
     ]
    },
    {
     "name": "stdout",
     "output_type": "stream",
     "text": [
      "88561BZ050\n",
      "879400A220\n",
      "8934106080D2\n"
     ]
    },
    {
     "name": "stdout",
     "output_type": "stream",
     "text": [
      "525360A020\n",
      "534520D130\n"
     ]
    },
    {
     "name": "stdout",
     "output_type": "stream",
     "text": [
      "852140A120\n",
      "04111BZ035\n",
      "31232BZ070\n"
     ]
    },
    {
     "name": "stdout",
     "output_type": "stream",
     "text": [
      "67630BZ660C2\n",
      "891700K091\n"
     ]
    },
    {
     "name": "stdout",
     "output_type": "stream",
     "text": [
      "4553509230\n",
      "8113002W30\n"
     ]
    },
    {
     "name": "stdout",
     "output_type": "stream",
     "text": [
      "63496BZ032\n",
      "74348BZ060B1\n",
      "559050K130\n"
     ]
    },
    {
     "name": "stdout",
     "output_type": "stream",
     "text": [
      "521280K740\n",
      "485108Z416\n"
     ]
    },
    {
     "name": "stdout",
     "output_type": "stream",
     "text": [
      "53114YP100\n",
      "9091901263\n"
     ]
    },
    {
     "name": "stdout",
     "output_type": "stream",
     "text": [
      "61625BZ120\n",
      "815600A080\n"
     ]
    },
    {
     "name": "stdout",
     "output_type": "stream",
     "text": [
      "136350C010\n",
      "89543BZ130\n"
     ]
    },
    {
     "name": "stdout",
     "output_type": "stream",
     "text": [
      "5211302900\n",
      "891700A070\n"
     ]
    },
    {
     "name": "stdout",
     "output_type": "stream",
     "text": [
      "123060H021\n",
      "174010C580\n"
     ]
    },
    {
     "name": "stdout",
     "output_type": "stream",
     "text": [
      "9098012416\n",
      "5311258170\n",
      "9098115011\n"
     ]
    },
    {
     "name": "stdout",
     "output_type": "stream",
     "text": [
      "85214BZ450\n",
      "9004A10140\n",
      "887040K770\n"
     ]
    },
    {
     "name": "stdout",
     "output_type": "stream",
     "text": [
      "678610K191\n",
      "815610K530\n",
      "878100WG30\n"
     ]
    },
    {
     "name": "stdout",
     "output_type": "stream",
     "text": [
      "1657236180\n",
      "8127102040\n"
     ]
    },
    {
     "name": "stdout",
     "output_type": "stream",
     "text": [
      "9031023005\n",
      "7184658010A0\n"
     ]
    },
    {
     "name": "stdout",
     "output_type": "stream",
     "text": [
      "134500W070\n",
      "2617130050\n"
     ]
    },
    {
     "name": "stdout",
     "output_type": "stream",
     "text": [
      "9017810030\n",
      "130110T180\n",
      "13568YZZ13\n"
     ]
    },
    {
     "name": "stdout",
     "output_type": "stream",
     "text": [
      "4867422021\n",
      "8529212020\n"
     ]
    },
    {
     "name": "stdout",
     "output_type": "stream",
     "text": [
      "1117754020\n",
      "5147371031\n",
      "090221C120\n"
     ]
    },
    {
     "name": "stdout",
     "output_type": "stream",
     "text": [
      "5587826040\n",
      "5846033020\n"
     ]
    },
    {
     "name": "stdout",
     "output_type": "stream",
     "text": [
      "4853079067\n",
      "89070V3110\n"
     ]
    },
    {
     "name": "stdout",
     "output_type": "stream",
     "text": [
      "2368151010\n",
      "1236328140\n"
     ]
    },
    {
     "name": "stdout",
     "output_type": "stream",
     "text": [
      "4833112220\n",
      "2330031100\n"
     ]
    },
    {
     "name": "stdout",
     "output_type": "stream",
     "text": [
      "83852FE700\n",
      "6786114030\n",
      "4546630020\n"
     ]
    },
    {
     "name": "stdout",
     "output_type": "stream",
     "text": [
      "3294258030\n",
      "1640136030\n",
      "9031135065\n"
     ]
    },
    {
     "name": "stdout",
     "output_type": "stream",
     "text": [
      "3090047150\n",
      "9046907019\n"
     ]
    },
    {
     "name": "stdout",
     "output_type": "stream",
     "text": [
      "90480T0008\n",
      "1657230061\n"
     ]
    },
    {
     "name": "stdout",
     "output_type": "stream",
     "text": [
      "2320949285\n",
      "8945148010\n"
     ]
    },
    {
     "name": "stdout",
     "output_type": "stream",
     "text": [
      "9030127015\n",
      "9031138101\n"
     ]
    },
    {
     "name": "stdout",
     "output_type": "stream",
     "text": [
      "6786214030\n",
      "4243158030\n",
      "4551010240\n"
     ]
    },
    {
     "name": "stdout",
     "output_type": "stream",
     "text": [
      "72129V2050C0\n",
      "678710K151\n"
     ]
    },
    {
     "name": "stdout",
     "output_type": "stream",
     "text": [
      "90942T1003\n",
      "041110E022\n"
     ]
    },
    {
     "name": "stdout",
     "output_type": "stream",
     "text": [
      "1638537010\n",
      "8872302470\n"
     ]
    },
    {
     "name": "stdout",
     "output_type": "stream",
     "text": [
      "8946558170\n",
      "74320BZ860B0\n"
     ]
    },
    {
     "name": "stdout",
     "output_type": "stream",
     "text": [
      "9031150064\n",
      "68161BZ220\n",
      "7701026060\n"
     ]
    },
    {
     "name": "stdout",
     "output_type": "stream",
     "text": [
      "43502BZ180\n",
      "4877042040\n"
     ]
    },
    {
     "name": "stdout",
     "output_type": "stream",
     "text": [
      "48068BZ330\n",
      "69803BZ100\n"
     ]
    },
    {
     "name": "stdout",
     "output_type": "stream",
     "text": [
      "041110E013\n",
      "68750BZ140\n"
     ]
    },
    {
     "name": "stdout",
     "output_type": "stream",
     "text": [
      "68710BZ140\n",
      "67881BZ200\n"
     ]
    },
    {
     "name": "stdout",
     "output_type": "stream",
     "text": [
      "9015960303\n",
      "62765BZ060\n"
     ]
    },
    {
     "name": "stdout",
     "output_type": "stream",
     "text": [
      "62763BZ080\n",
      "47750BZ130\n",
      "75925BZ140C0\n"
     ]
    },
    {
     "name": "stdout",
     "output_type": "stream",
     "text": [
      "47730BZ130\n",
      "17278BZ010\n",
      "16360BZ380\n"
     ]
    },
    {
     "name": "stdout",
     "output_type": "stream",
     "text": [
      "52141BZ100\n",
      "90975T2027\n"
     ]
    },
    {
     "name": "stdout",
     "output_type": "stream",
     "text": [
      "53446BZ080\n",
      "6472560020C0\n",
      "53203BZ220\n"
     ]
    },
    {
     "name": "stdout",
     "output_type": "stream",
     "text": [
      "55168BZ300\n",
      "77308BZ030\n",
      "85374BZK40\n"
     ]
    },
    {
     "name": "stdout",
     "output_type": "stream",
     "text": [
      "8934833060C2\n",
      "67002BZ700\n"
     ]
    },
    {
     "name": "stdout",
     "output_type": "stream",
     "text": [
      "131010E02101\n",
      "52119YY300\n",
      "6272058280\n"
     ]
    },
    {
     "name": "stdout",
     "output_type": "stream",
     "text": [
      "67004BZ720\n",
      "52713BZ590\n"
     ]
    },
    {
     "name": "stdout",
     "output_type": "stream",
     "text": [
      "61622BZ140\n",
      "277000V090\n"
     ]
    },
    {
     "name": "stdout",
     "output_type": "stream",
     "text": [
      "12305BZ310\n",
      "044650A010\n",
      "PC3820K01D\n"
     ]
    },
    {
     "name": "stdout",
     "output_type": "stream",
     "text": [
      "81150BZA10\n",
      "16470BZ300\n"
     ]
    },
    {
     "name": "stdout",
     "output_type": "stream",
     "text": [
      "53812BZ590\n",
      "71879BZ100C0\n"
     ]
    },
    {
     "name": "stdout",
     "output_type": "stream",
     "text": [
      "75928BZ070C0\n",
      "750750A011\n"
     ]
    },
    {
     "name": "stdout",
     "output_type": "stream",
     "text": [
      "57118BZ080\n",
      "58410BZ340C0\n"
     ]
    },
    {
     "name": "stdout",
     "output_type": "stream",
     "text": [
      "52111YY050\n",
      "48710BZ460\n",
      "811100KU40\n"
     ]
    },
    {
     "name": "stdout",
     "output_type": "stream",
     "text": [
      "750750A021\n",
      "62225BZ090\n",
      "89465BZ610\n"
     ]
    },
    {
     "name": "stdout",
     "output_type": "stream",
     "text": [
      "531000KG01\n",
      "42611BZE40\n"
     ]
    },
    {
     "name": "stdout",
     "output_type": "stream",
     "text": [
      "75775BZ021\n",
      "53202BZ150\n",
      "451000D731C0\n"
     ]
    },
    {
     "name": "stdout",
     "output_type": "stream",
     "text": [
      "16360BZ500\n",
      "52057BZ020\n",
      "4806809350\n"
     ]
    },
    {
     "name": "stdout",
     "output_type": "stream",
     "text": [
      "81150YP370\n",
      "68630BZ210\n"
     ]
    },
    {
     "name": "stdout",
     "output_type": "stream",
     "text": [
      "52752BZ150\n",
      "81560BZ620\n",
      "843070K200\n"
     ]
    },
    {
     "name": "stdout",
     "output_type": "stream",
     "text": [
      "53028BZ310\n",
      "55168BZ220\n",
      "52576BZ010\n"
     ]
    },
    {
     "name": "stdout",
     "output_type": "stream",
     "text": [
      "68720BZ120\n",
      "52119BZ911\n"
     ]
    },
    {
     "name": "stdout",
     "output_type": "stream",
     "text": [
      "48520B9520\n",
      "88561BZB00\n",
      "53828BZ030\n"
     ]
    },
    {
     "name": "stdout",
     "output_type": "stream",
     "text": [
      "53111BZ650\n",
      "42602BZ160\n"
     ]
    },
    {
     "name": "stdout",
     "output_type": "stream",
     "text": [
      "76821BZ280\n",
      "75765BZ020\n",
      "52535BZ010\n"
     ]
    },
    {
     "name": "stdout",
     "output_type": "stream",
     "text": [
      "43420BZ260\n",
      "166200Y062\n",
      "52812BZ010\n"
     ]
    },
    {
     "name": "stdout",
     "output_type": "stream",
     "text": [
      "11101B9625\n",
      "811450KU40\n"
     ]
    },
    {
     "name": "stdout",
     "output_type": "stream",
     "text": [
      "89070BZ550\n",
      "76822BZ080\n",
      "9094205043\n"
     ]
    },
    {
     "name": "stdout",
     "output_type": "stream",
     "text": [
      "81551BZ490\n",
      "815500K700\n"
     ]
    },
    {
     "name": "stdout",
     "output_type": "stream",
     "text": [
      "678370K093\n",
      "451000KE51C3\n"
     ]
    }
   ],
   "source": [
    "prefix_lasso_pickle = f\"{config.get_value('primary_path')}/{config.get_value('tpcap_model')}/{config.get_value('model_training_date')}/{'lasso'}\"\n",
    "\n",
    "old_data_lasso = old_data[old_data['part_number'].isin(lasso_parts)]\n",
    "lasso_data_forecast = lasso_lag1_forecast(old_data_lasso, bucket, prefix_lasso_pickle, last_tr_date).reset_index(drop=True)"
   ]
  },
  {
   "cell_type": "markdown",
   "id": "d6f1798a",
   "metadata": {},
   "source": [
    "#### Saving Lasso forecasted data"
   ]
  },
  {
   "cell_type": "code",
   "execution_count": 22,
   "id": "9fd99e2e",
   "metadata": {
    "execution": {
     "iopub.execute_input": "2024-11-05T11:13:57.655562Z",
     "iopub.status.busy": "2024-11-05T11:13:57.655267Z",
     "iopub.status.idle": "2024-11-05T11:14:01.696184Z",
     "shell.execute_reply": "2024-11-05T11:14:01.695587Z"
    }
   },
   "outputs": [],
   "source": [
    "full_path_lasso_forecast = f\"s3://{bucket}/{prefix_reg_forecast}\"\n",
    "lasso_forecast_file_name = f'{config.get_value(\"lasso_forecast_file_name\")}{file_date_forecasting}.xlsx'\n",
    "\n",
    "# saving file\n",
    "lasso_data_forecast.to_excel(f\"{full_path_lasso_forecast}/{config.get_value('model_forecasting_date')}/{lasso_forecast_file_name}\", index=False)\n"
   ]
  },
  {
   "cell_type": "code",
   "execution_count": 23,
   "id": "5f37ff94-2cd5-4730-b568-b8abeb36d416",
   "metadata": {
    "execution": {
     "iopub.execute_input": "2024-11-05T11:14:01.698530Z",
     "iopub.status.busy": "2024-11-05T11:14:01.698242Z",
     "iopub.status.idle": "2024-11-05T11:14:01.708287Z",
     "shell.execute_reply": "2024-11-05T11:14:01.707705Z"
    }
   },
   "outputs": [],
   "source": [
    "# Xgboost lag 1\n",
    "def xgboost_lag1_forecast(clean_data, s3_bucketname, pickle_path_xgboost_lag1, last_training_date):\n",
    "    df1=clean_data[:]\n",
    "    df1=df1[['part_number','period','Total_qty_per_month']]\n",
    "    df1['period'] = pd.to_datetime(df1['period'])\n",
    "    df1=df1.sort_values('period')\n",
    "    s3_client = boto3.client('s3')\n",
    "    fs = s3fs.S3FileSystem()\n",
    "    \n",
    "    #create a model folder for saving pickle with a changed name\n",
    "    model_folder = pickle_path_xgboost_lag1\n",
    "    future_dates = get_consecutive_months(last_training_date)\n",
    "    final_metric_lag1=pd.DataFrame()\n",
    "    for i in df1['part_number'].unique():\n",
    "        try:\n",
    "            print(i)\n",
    "            data= df1[df1['part_number']==i]\n",
    "            data.drop('part_number',axis=1,inplace=True)\n",
    "            data['month'] = data['period'].dt.month\n",
    "            lag = 3\n",
    "            pred_win=1\n",
    "            lagged_data = create_lagged_features(data['Total_qty_per_month'], lag,pred_win)\n",
    "            \n",
    "            # Combine lagged features with original data\n",
    "            data_with_lags = pd.concat([data, lagged_data], axis=1)\n",
    "            data_with_lags.fillna(data_with_lags.median(), inplace=True)\n",
    "            \n",
    "            # Step 2: Split the Data\n",
    "            train_size = len(data_with_lags)-3\n",
    "            train_data = data_with_lags.iloc[:train_size]\n",
    "            test_data = data_with_lags.iloc[train_size:]\n",
    "            X_train_scaled = train_data.drop(['period', 'month','Total_qty_per_month'], axis=1)\n",
    "            X_test_scaled= X_train_scaled[-3:]\n",
    "            y_train = train_data['Total_qty_per_month']\n",
    "            model_file_name_jlb = f\"xgb-t-{i}.joblib\"\n",
    "            s3_model_path_jlb = f\"{pickle_path_xgboost_lag1}/{model_file_name_jlb}\"\n",
    "            with fs.open(f\"s3://{s3_bucketname}/{s3_model_path_jlb}\") as fh:\n",
    "                model = joblib.load(fh)\n",
    "            \n",
    "            # Make predictions\n",
    "            y_pred = model.predict(X_test_scaled)\n",
    "            X_pred = model.predict(X_train_scaled)\n",
    "            # Forecast the next 3 periods\n",
    "            n_periods = 3\n",
    "            forecasts = forecast(data_with_lags, model, n_periods)\n",
    "            \n",
    "            X_prediction=X_pred.tolist()\n",
    "            test_pred= y_pred.tolist()\n",
    "            Y_prediction=forecasts\n",
    "            X_Y_pred=X_prediction+test_pred+Y_prediction\n",
    "            # Inference collection\n",
    "            metric=pd.DataFrame()\n",
    "            dates =pd.DataFrame(data['period'])\n",
    "            new_date = pd.DataFrame({'period': pd.to_datetime(future_dates)})\n",
    "            dates = pd.concat([dates, new_date], ignore_index=True)\n",
    "            metric['period']=dates['period']\n",
    "            qty = pd.DataFrame(data['Total_qty_per_month'])\n",
    "            new_qty = pd.DataFrame({'Total_qty_per_month': [0,0,0]})\n",
    "            qty = pd.concat([qty, new_qty], ignore_index=True)\n",
    "            metric['Actual_values']=qty['Total_qty_per_month']\n",
    "            metric['Predicted_values_lag1']= pd.DataFrame(X_Y_pred)\n",
    "            metric['part_number']=i\n",
    "            final_metric_lag1=pd.concat([final_metric_lag1,metric])\n",
    "        except Exception as e:\n",
    "            print(e)\n",
    "            print(i)\n",
    "    return final_metric_lag1"
   ]
  },
  {
   "cell_type": "code",
   "execution_count": 24,
   "id": "f86d657e-2b57-4771-a9c2-8007408cedcf",
   "metadata": {
    "execution": {
     "iopub.execute_input": "2024-11-05T11:14:01.710184Z",
     "iopub.status.busy": "2024-11-05T11:14:01.709920Z",
     "iopub.status.idle": "2024-11-05T11:16:51.465372Z",
     "shell.execute_reply": "2024-11-05T11:16:51.464792Z"
    },
    "scrolled": true
   },
   "outputs": [
    {
     "name": "stdout",
     "output_type": "stream",
     "text": [
      "521590A090\n",
      "9046613004\n"
     ]
    },
    {
     "name": "stdout",
     "output_type": "stream",
     "text": [
      "90401T0001\n",
      "PC4011200856\n"
     ]
    },
    {
     "name": "stdout",
     "output_type": "stream",
     "text": [
      "P44015800500\n",
      "PC1620D006\n"
     ]
    },
    {
     "name": "stdout",
     "output_type": "stream",
     "text": [
      "PC16226001\n",
      "PC4660K00A\n"
     ]
    },
    {
     "name": "stdout",
     "output_type": "stream",
     "text": [
      "53087YP040C0\n",
      "PZ05700009\n"
     ]
    },
    {
     "name": "stdout",
     "output_type": "stream",
     "text": [
      "PC5070K013\n",
      "PC6A300008\n"
     ]
    },
    {
     "name": "stdout",
     "output_type": "stream",
     "text": [
      "9098113046\n",
      "90975T2029\n"
     ]
    },
    {
     "name": "stdout",
     "output_type": "stream",
     "text": [
      "531000A010\n",
      "90948T1003\n"
     ]
    },
    {
     "name": "stdout",
     "output_type": "stream",
     "text": [
      "90948T1004\n",
      "PZ0570000909\n"
     ]
    },
    {
     "name": "stdout",
     "output_type": "stream",
     "text": [
      "90982090081\n",
      "9046710161\n"
     ]
    },
    {
     "name": "stdout",
     "output_type": "stream",
     "text": [
      "90360T0008\n",
      "8262012310\n"
     ]
    },
    {
     "name": "stdout",
     "output_type": "stream",
     "text": [
      "82165KK100\n",
      "8870302721\n"
     ]
    },
    {
     "name": "stdout",
     "output_type": "stream",
     "text": [
      "90520T0142\n",
      "90467T0008C0\n"
     ]
    },
    {
     "name": "stdout",
     "output_type": "stream",
     "text": [
      "48530F4080\n",
      "90560T0006\n"
     ]
    },
    {
     "name": "stdout",
     "output_type": "stream",
     "text": [
      "90389T0009\n",
      "90560T0025\n"
     ]
    },
    {
     "name": "stdout",
     "output_type": "stream",
     "text": [
      "90467120401\n",
      "90366T0019\n"
     ]
    },
    {
     "name": "stdout",
     "output_type": "stream",
     "text": [
      "90364T0043\n",
      "90364T0039\n"
     ]
    },
    {
     "name": "stdout",
     "output_type": "stream",
     "text": [
      "90316T0002\n",
      "90385T0016\n"
     ]
    },
    {
     "name": "stdout",
     "output_type": "stream",
     "text": [
      "9033907001\n",
      "90910T2006\n"
     ]
    },
    {
     "name": "stdout",
     "output_type": "stream",
     "text": [
      "9095904001\n",
      "9097502160\n"
     ]
    },
    {
     "name": "stdout",
     "output_type": "stream",
     "text": [
      "99332112058T\n",
      "893480A060\n"
     ]
    },
    {
     "name": "stdout",
     "output_type": "stream",
     "text": [
      "52562F4050\n",
      "8924B02010\n"
     ]
    },
    {
     "name": "stdout",
     "output_type": "stream",
     "text": [
      "887110K041\n",
      "888990K020\n"
     ]
    },
    {
     "name": "stdout",
     "output_type": "stream",
     "text": [
      "8995271010\n",
      "9001125321\n"
     ]
    },
    {
     "name": "stdout",
     "output_type": "stream",
     "text": [
      "8934812020\n",
      "9004A46383\n"
     ]
    },
    {
     "name": "stdout",
     "output_type": "stream",
     "text": [
      "887040KF50\n",
      "90210T0001\n"
     ]
    },
    {
     "name": "stdout",
     "output_type": "stream",
     "text": [
      "9018906211\n",
      "90182T0038\n"
     ]
    },
    {
     "name": "stdout",
     "output_type": "stream",
     "text": [
      "9017906104\n",
      "90170T0017\n"
     ]
    },
    {
     "name": "stdout",
     "output_type": "stream",
     "text": [
      "526140K110\n",
      "8975202210\n"
     ]
    },
    {
     "name": "stdout",
     "output_type": "stream",
     "text": [
      "8942460010\n",
      "8951602210\n"
     ]
    },
    {
     "name": "stdout",
     "output_type": "stream",
     "text": [
      "9006810036\n",
      "9155180625\n"
     ]
    },
    {
     "name": "stdout",
     "output_type": "stream",
     "text": [
      "9533808018\n",
      "90311T0095\n"
     ]
    },
    {
     "name": "stdout",
     "output_type": "stream",
     "text": [
      "9008031098\n",
      "9007523002\n"
     ]
    },
    {
     "name": "stdout",
     "output_type": "stream",
     "text": [
      "9007502078\n",
      "9006810051\n"
     ]
    },
    {
     "name": "stdout",
     "output_type": "stream",
     "text": [
      "9006833360\n",
      "531000KJ00\n"
     ]
    },
    {
     "name": "stdout",
     "output_type": "stream",
     "text": [
      "9006981080\n",
      "9006833389\n"
     ]
    },
    {
     "name": "stdout",
     "output_type": "stream",
     "text": [
      "90105T0125\n",
      "90105T0133\n"
     ]
    },
    {
     "name": "stdout",
     "output_type": "stream",
     "text": [
      "90105T0157\n",
      "90105T0066\n"
     ]
    },
    {
     "name": "stdout",
     "output_type": "stream",
     "text": [
      "90105T0064\n",
      "90105T0233\n"
     ]
    },
    {
     "name": "stdout",
     "output_type": "stream",
     "text": [
      "82171KK280\n",
      "9017815003\n"
     ]
    },
    {
     "name": "stdout",
     "output_type": "stream",
     "text": [
      "8262071012\n",
      "826620K790\n"
     ]
    },
    {
     "name": "stdout",
     "output_type": "stream",
     "text": [
      "8794502934\n",
      "879400KM10\n"
     ]
    },
    {
     "name": "stdout",
     "output_type": "stream",
     "text": [
      "885000K191\n",
      "886450K030\n"
     ]
    },
    {
     "name": "stdout",
     "output_type": "stream",
     "text": [
      "886500K010\n",
      "879400KB62\n"
     ]
    },
    {
     "name": "stdout",
     "output_type": "stream",
     "text": [
      "883200K380\n",
      "879450K400\n"
     ]
    },
    {
     "name": "stdout",
     "output_type": "stream",
     "text": [
      "883200K540\n",
      "884100D380\n"
     ]
    },
    {
     "name": "stdout",
     "output_type": "stream",
     "text": [
      "879100K907\n",
      "879100K013\n"
     ]
    },
    {
     "name": "stdout",
     "output_type": "stream",
     "text": [
      "879400A040\n",
      "879400K023\n"
     ]
    },
    {
     "name": "stdout",
     "output_type": "stream",
     "text": [
      "879400K063\n",
      "879400K013\n"
     ]
    },
    {
     "name": "stdout",
     "output_type": "stream",
     "text": [
      "4853009L12\n",
      "815600K261\n"
     ]
    },
    {
     "name": "stdout",
     "output_type": "stream",
     "text": [
      "879450L900\n",
      "8791006B91\n"
     ]
    },
    {
     "name": "stdout",
     "output_type": "stream",
     "text": [
      "4853009R71\n",
      "871380K200\n"
     ]
    },
    {
     "name": "stdout",
     "output_type": "stream",
     "text": [
      "852080K050\n",
      "851500B010\n"
     ]
    },
    {
     "name": "stdout",
     "output_type": "stream",
     "text": [
      "850470K010\n",
      "850460K020\n"
     ]
    },
    {
     "name": "stdout",
     "output_type": "stream",
     "text": [
      "8434009380\n",
      "879610KB20\n"
     ]
    },
    {
     "name": "stdout",
     "output_type": "stream",
     "text": [
      "852710K050\n",
      "853910K020\n"
     ]
    },
    {
     "name": "stdout",
     "output_type": "stream",
     "text": [
      "8553533130\n",
      "853010A020\n"
     ]
    },
    {
     "name": "stdout",
     "output_type": "stream",
     "text": [
      "853010K150\n",
      "853010K190\n"
     ]
    },
    {
     "name": "stdout",
     "output_type": "stream",
     "text": [
      "4853009U60\n",
      "853150K420\n"
     ]
    },
    {
     "name": "stdout",
     "output_type": "stream",
     "text": [
      "852750K030\n",
      "815600K271\n"
     ]
    },
    {
     "name": "stdout",
     "output_type": "stream",
     "text": [
      "815600K400\n",
      "81560YP010\n"
     ]
    },
    {
     "name": "stdout",
     "output_type": "stream",
     "text": [
      "838000K094\n",
      "833200K181\n"
     ]
    },
    {
     "name": "stdout",
     "output_type": "stream",
     "text": [
      "833200K060\n",
      "833200K020\n"
     ]
    },
    {
     "name": "stdout",
     "output_type": "stream",
     "text": [
      "828210K040\n",
      "838000KR72\n"
     ]
    },
    {
     "name": "stdout",
     "output_type": "stream",
     "text": [
      "8421071050\n",
      "815550K520\n"
     ]
    },
    {
     "name": "stdout",
     "output_type": "stream",
     "text": [
      "842230K010\n",
      "83800FCQ20\n"
     ]
    },
    {
     "name": "stdout",
     "output_type": "stream",
     "text": [
      "485308Z014\n",
      "83852F0D60\n"
     ]
    },
    {
     "name": "stdout",
     "output_type": "stream",
     "text": [
      "83800FB061\n",
      "8173004020\n"
     ]
    },
    {
     "name": "stdout",
     "output_type": "stream",
     "text": [
      "819420K490B0\n",
      "8213AKKB00\n"
     ]
    },
    {
     "name": "stdout",
     "output_type": "stream",
     "text": [
      "8423102090\n",
      "815600D170\n"
     ]
    },
    {
     "name": "stdout",
     "output_type": "stream",
     "text": [
      "815600A060\n",
      "485308Z002\n"
     ]
    },
    {
     "name": "stdout",
     "output_type": "stream",
     "text": [
      "8156104040\n",
      "8158002A70\n"
     ]
    },
    {
     "name": "stdout",
     "output_type": "stream",
     "text": [
      "8158806570\n",
      "4853009420\n"
     ]
    },
    {
     "name": "stdout",
     "output_type": "stream",
     "text": [
      "815900A030\n"
     ]
    },
    {
     "name": "stdout",
     "output_type": "stream",
     "text": [
      "815810A010\n",
      "8158006690\n"
     ]
    },
    {
     "name": "stdout",
     "output_type": "stream",
     "text": [
      "8158006810\n",
      "8158102C80\n"
     ]
    },
    {
     "name": "stdout",
     "output_type": "stream",
     "text": [
      "815510L011\n",
      "815500K511\n"
     ]
    },
    {
     "name": "stdout",
     "output_type": "stream",
     "text": [
      "8155102670\n",
      "8155104080\n"
     ]
    },
    {
     "name": "stdout",
     "output_type": "stream",
     "text": [
      "815510D090\n",
      "8156006710\n"
     ]
    },
    {
     "name": "stdout",
     "output_type": "stream",
     "text": [
      "8156006790\n",
      "8156006B10\n"
     ]
    },
    {
     "name": "stdout",
     "output_type": "stream",
     "text": [
      "8214002590\n",
      "90178T0056\n"
     ]
    },
    {
     "name": "stdout",
     "output_type": "stream",
     "text": [
      "90178T0058\n",
      "90178T0062\n"
     ]
    },
    {
     "name": "stdout",
     "output_type": "stream",
     "text": [
      "670010K010\n",
      "676200KB01C0\n"
     ]
    },
    {
     "name": "stdout",
     "output_type": "stream",
     "text": [
      "67114KK030\n",
      "75311YZB024\n"
     ]
    },
    {
     "name": "stdout",
     "output_type": "stream",
     "text": [
      "7536152070\n",
      "8113002F41\n"
     ]
    },
    {
     "name": "stdout",
     "output_type": "stream",
     "text": [
      "811160KL30\n",
      "66252YP010\n"
     ]
    },
    {
     "name": "stdout",
     "output_type": "stream",
     "text": [
      "811100K732\n"
     ]
    },
    {
     "name": "stdout",
     "output_type": "stream",
     "text": [
      "811100K190\n",
      "811300KD40\n"
     ]
    },
    {
     "name": "stdout",
     "output_type": "stream",
     "text": [
      "81130YP150\n",
      "811100D671\n"
     ]
    },
    {
     "name": "stdout",
     "output_type": "stream",
     "text": [
      "811300K270\n",
      "811400KB61\n"
     ]
    },
    {
     "name": "stdout",
     "output_type": "stream",
     "text": [
      "777850D110\n",
      "521280K230\n"
     ]
    },
    {
     "name": "stdout",
     "output_type": "stream",
     "text": [
      "7771002011\n",
      "678110D010\n"
     ]
    },
    {
     "name": "stdout",
     "output_type": "stream",
     "text": [
      "679370K030B0\n",
      "5310206480\n"
     ]
    },
    {
     "name": "stdout",
     "output_type": "stream",
     "text": [
      "6460702400\n",
      "6460706130\n"
     ]
    },
    {
     "name": "stdout",
     "output_type": "stream",
     "text": [
      "6460706300\n",
      "6460602040\n"
     ]
    },
    {
     "name": "stdout",
     "output_type": "stream",
     "text": [
      "6787206210\n",
      "678640L020\n"
     ]
    },
    {
     "name": "stdout",
     "output_type": "stream",
     "text": [
      "6810206440\n",
      "6786189105A1\n"
     ]
    },
    {
     "name": "stdout",
     "output_type": "stream",
     "text": [
      "678370K090\n",
      "678370K121\n"
     ]
    },
    {
     "name": "stdout",
     "output_type": "stream",
     "text": [
      "678740K041\n",
      "681420A030\n"
     ]
    },
    {
     "name": "stdout",
     "output_type": "stream",
     "text": [
      "6810302162\n",
      "531110K290\n"
     ]
    },
    {
     "name": "stdout",
     "output_type": "stream",
     "text": [
      "679170D180C0\n",
      "678370K030\n"
     ]
    },
    {
     "name": "stdout",
     "output_type": "stream",
     "text": [
      "776530K041\n",
      "77602KK030\n"
     ]
    },
    {
     "name": "stdout",
     "output_type": "stream",
     "text": [
      "773500D050\n",
      "811500K480\n"
     ]
    },
    {
     "name": "stdout",
     "output_type": "stream",
     "text": [
      "811500DF31\n",
      "8114506G60\n"
     ]
    },
    {
     "name": "stdout",
     "output_type": "stream",
     "text": [
      "8115002N30\n",
      "81150F4331\n"
     ]
    },
    {
     "name": "stdout",
     "output_type": "stream",
     "text": [
      "811500A070\n",
      "811700K460\n"
     ]
    },
    {
     "name": "stdout",
     "output_type": "stream",
     "text": [
      "814810K080\n"
     ]
    },
    {
     "name": "stdout",
     "output_type": "stream",
     "text": [
      "811700K871\n",
      "811700DF11\n"
     ]
    },
    {
     "name": "stdout",
     "output_type": "stream",
     "text": [
      "521270K780\n",
      "8117002B90\n"
     ]
    },
    {
     "name": "stdout",
     "output_type": "stream",
     "text": [
      "8117004100\n",
      "811700A050\n"
     ]
    },
    {
     "name": "stdout",
     "output_type": "stream",
     "text": [
      "811700B170\n",
      "757240K070\n"
     ]
    },
    {
     "name": "stdout",
     "output_type": "stream",
     "text": [
      "8118506D60\n",
      "812760B010\n"
     ]
    },
    {
     "name": "stdout",
     "output_type": "stream",
     "text": [
      "8118506G70\n",
      "52127YP400\n"
     ]
    },
    {
     "name": "stdout",
     "output_type": "stream",
     "text": [
      "772860K150\n",
      "772990D070\n"
     ]
    },
    {
     "name": "stdout",
     "output_type": "stream",
     "text": [
      "773000K010\n",
      "52128YZB0600\n"
     ]
    },
    {
     "name": "stdout",
     "output_type": "stream",
     "text": [
      "7818089150A1\n",
      "8110706232\n"
     ]
    },
    {
     "name": "stdout",
     "output_type": "stream",
     "text": [
      "8111002U20\n",
      "8111006G70\n"
     ]
    },
    {
     "name": "stdout",
     "output_type": "stream",
     "text": [
      "811100A050\n",
      "811060A080\n"
     ]
    },
    {
     "name": "stdout",
     "output_type": "stream",
     "text": [
      "809600D100\n",
      "811400KE70\n"
     ]
    },
    {
     "name": "stdout",
     "output_type": "stream",
     "text": [
      "812660K020\n",
      "812650K020\n"
     ]
    },
    {
     "name": "stdout",
     "output_type": "stream",
     "text": [
      "8152106070\n",
      "8155002B20\n"
     ]
    },
    {
     "name": "stdout",
     "output_type": "stream",
     "text": [
      "8155002D40\n",
      "644010D490\n"
     ]
    },
    {
     "name": "stdout",
     "output_type": "stream",
     "text": [
      "63111KK050\n",
      "633420K250\n"
     ]
    },
    {
     "name": "stdout",
     "output_type": "stream",
     "text": [
      "642710K350C0\n",
      "690580K030\n"
     ]
    },
    {
     "name": "stdout",
     "output_type": "stream",
     "text": [
      "693110K120\n",
      "698030D230\n"
     ]
    },
    {
     "name": "stdout",
     "output_type": "stream",
     "text": [
      "53111F4020\n",
      "697500K140\n"
     ]
    },
    {
     "name": "stdout",
     "output_type": "stream",
     "text": [
      "693200K010\n",
      "693200K090\n"
     ]
    },
    {
     "name": "stdout",
     "output_type": "stream",
     "text": [
      "690900K040\n",
      "694200K020\n"
     ]
    },
    {
     "name": "stdout",
     "output_type": "stream",
     "text": [
      "690570K220\n",
      "681710A020\n"
     ]
    },
    {
     "name": "stdout",
     "output_type": "stream",
     "text": [
      "681720K080\n",
      "6905502030\n"
     ]
    },
    {
     "name": "stdout",
     "output_type": "stream",
     "text": [
      "69055BZ130\n",
      "690300K020\n"
     ]
    },
    {
     "name": "stdout",
     "output_type": "stream",
     "text": [
      "687100D030\n",
      "690580K020\n"
     ]
    },
    {
     "name": "stdout",
     "output_type": "stream",
     "text": [
      "690580K050\n",
      "692060D070B3\n"
     ]
    },
    {
     "name": "stdout",
     "output_type": "stream",
     "text": [
      "6922702070\n",
      "90250T0021\n"
     ]
    },
    {
     "name": "stdout",
     "output_type": "stream",
     "text": [
      "90311T0028\n",
      "90311T0075\n"
     ]
    },
    {
     "name": "stdout",
     "output_type": "stream",
     "text": [
      "90311T0054\n",
      "9016740057\n"
     ]
    },
    {
     "name": "stdout",
     "output_type": "stream",
     "text": [
      "90301T0056\n",
      "90119T0204\n"
     ]
    },
    {
     "name": "stdout",
     "output_type": "stream",
     "text": [
      "90119T0061\n",
      "90105T0358\n"
     ]
    },
    {
     "name": "stdout",
     "output_type": "stream",
     "text": [
      "90109T0046\n",
      "5311202630\n"
     ]
    },
    {
     "name": "stdout",
     "output_type": "stream",
     "text": [
      "90126T0015\n",
      "90126T0018\n"
     ]
    },
    {
     "name": "stdout",
     "output_type": "stream",
     "text": [
      "90119T0335\n",
      "90119T0270\n"
     ]
    },
    {
     "name": "stdout",
     "output_type": "stream",
     "text": [
      "629300K140\n",
      "6924106020\n"
     ]
    },
    {
     "name": "stdout",
     "output_type": "stream",
     "text": [
      "743200D830B1\n",
      "871380K090\n"
     ]
    },
    {
     "name": "stdout",
     "output_type": "stream",
     "text": [
      "743100K010B0\n",
      "742200K080C2\n"
     ]
    },
    {
     "name": "stdout",
     "output_type": "stream",
     "text": [
      "724950D100C0\n",
      "65552KK030\n"
     ]
    },
    {
     "name": "stdout",
     "output_type": "stream",
     "text": [
      "6480106904\n",
      "6477906101\n"
     ]
    },
    {
     "name": "stdout",
     "output_type": "stream",
     "text": [
      "646100D020\n",
      "531120L010\n"
     ]
    },
    {
     "name": "stdout",
     "output_type": "stream",
     "text": [
      "6477006110\n",
      "7373306010C0\n"
     ]
    },
    {
     "name": "stdout",
     "output_type": "stream",
     "text": [
      "658160K903\n",
      "65817KK070\n"
     ]
    },
    {
     "name": "stdout",
     "output_type": "stream",
     "text": [
      "661100K011\n",
      "65638891024\n"
     ]
    },
    {
     "name": "stdout",
     "output_type": "stream",
     "text": [
      "65672KK010\n",
      "65700YP010\n"
     ]
    },
    {
     "name": "stdout",
     "output_type": "stream",
     "text": [
      "657430K010\n",
      "643320D011A0\n"
     ]
    },
    {
     "name": "stdout",
     "output_type": "stream",
     "text": [
      "65816YP010\n",
      "71071YP270C0\n"
     ]
    },
    {
     "name": "stdout",
     "output_type": "stream",
     "text": [
      "71072YP270C0\n",
      "71072YP250C0\n"
     ]
    },
    {
     "name": "stdout",
     "output_type": "stream",
     "text": [
      "742310K591\n",
      "746310K040C0\n"
     ]
    },
    {
     "name": "stdout",
     "output_type": "stream",
     "text": [
      "7461406010\n",
      "753100K040\n"
     ]
    },
    {
     "name": "stdout",
     "output_type": "stream",
     "text": [
      "746100D040B0\n",
      "746100D040E0\n"
     ]
    },
    {
     "name": "stdout",
     "output_type": "stream",
     "text": [
      "815500D861\n",
      "7182528010A0\n"
     ]
    },
    {
     "name": "stdout",
     "output_type": "stream",
     "text": [
      "718110K250C0\n",
      "717590K140\n"
     ]
    },
    {
     "name": "stdout",
     "output_type": "stream",
     "text": [
      "7153802230C0\n",
      "7153702300C0\n"
     ]
    },
    {
     "name": "stdout",
     "output_type": "stream",
     "text": [
      "53112YP030\n",
      "710730ZW30C3\n"
     ]
    },
    {
     "name": "stdout",
     "output_type": "stream",
     "text": [
      "710530K030\n",
      "710710UG60C7\n"
     ]
    },
    {
     "name": "stdout",
     "output_type": "stream",
     "text": [
      "710720KZ20C0\n",
      "53112YP560D0\n"
     ]
    },
    {
     "name": "stdout",
     "output_type": "stream",
     "text": [
      "87130F4061\n",
      "87810YE020B1\n"
     ]
    },
    {
     "name": "stdout",
     "output_type": "stream",
     "text": [
      "860770K010B3\n",
      "534520K020\n"
     ]
    },
    {
     "name": "stdout",
     "output_type": "stream",
     "text": [
      "53731KK010\n",
      "53732KK010\n"
     ]
    },
    {
     "name": "stdout",
     "output_type": "stream",
     "text": [
      "538050K320\n",
      "5380606091\n"
     ]
    },
    {
     "name": "stdout",
     "output_type": "stream",
     "text": [
      "538120K010\n",
      "538110K010\n"
     ]
    },
    {
     "name": "stdout",
     "output_type": "stream",
     "text": [
      "53701KK350\n",
      "5380506081\n"
     ]
    },
    {
     "name": "stdout",
     "output_type": "stream",
     "text": [
      "517090K010\n",
      "53746KK020\n"
     ]
    },
    {
     "name": "stdout",
     "output_type": "stream",
     "text": [
      "5380206140\n",
      "53802KK030\n"
     ]
    },
    {
     "name": "stdout",
     "output_type": "stream",
     "text": [
      "1657254370A1\n",
      "165720T070\n"
     ]
    },
    {
     "name": "stdout",
     "output_type": "stream",
     "text": [
      "165710P290\n",
      "5373704010\n"
     ]
    },
    {
     "name": "stdout",
     "output_type": "stream",
     "text": [
      "165710V090\n",
      "53701KK370\n"
     ]
    },
    {
     "name": "stdout",
     "output_type": "stream",
     "text": [
      "538820D010\n",
      "517720K250\n"
     ]
    },
    {
     "name": "stdout",
     "output_type": "stream",
     "text": [
      "531470K040\n",
      "531480K020\n"
     ]
    },
    {
     "name": "stdout",
     "output_type": "stream",
     "text": [
      "538660K050\n",
      "5385747011\n"
     ]
    },
    {
     "name": "stdout",
     "output_type": "stream",
     "text": [
      "538510A040\n",
      "53813F4020\n"
     ]
    },
    {
     "name": "stdout",
     "output_type": "stream",
     "text": [
      "5344002220\n",
      "538480K904\n"
     ]
    },
    {
     "name": "stdout",
     "output_type": "stream",
     "text": [
      "553020D250C0\n",
      "538760D230\n"
     ]
    },
    {
     "name": "stdout",
     "output_type": "stream",
     "text": [
      "538760K380\n",
      "53876202501\n"
     ]
    },
    {
     "name": "stdout",
     "output_type": "stream",
     "text": [
      "538910K040\n",
      "51731KK030\n"
     ]
    },
    {
     "name": "stdout",
     "output_type": "stream",
     "text": [
      "538920K040\n",
      "550420K020C0\n"
     ]
    },
    {
     "name": "stdout",
     "output_type": "stream",
     "text": [
      "1657205080\n",
      "167110M110\n"
     ]
    },
    {
     "name": "stdout",
     "output_type": "stream",
     "text": [
      "165950T330\n",
      "233900L090\n"
     ]
    },
    {
     "name": "stdout",
     "output_type": "stream",
     "text": [
      "270600C021\n",
      "273300V220\n"
     ]
    },
    {
     "name": "stdout",
     "output_type": "stream",
     "text": [
      "256010L021\n",
      "2370409050\n"
     ]
    },
    {
     "name": "stdout",
     "output_type": "stream",
     "text": [
      "237410E010\n"
     ]
    },
    {
     "name": "stdout",
     "output_type": "stream",
     "text": [
      "238290C010\n",
      "2320909310\n"
     ]
    },
    {
     "name": "stdout",
     "output_type": "stream",
     "text": [
      "174050L180\n",
      "174010C210\n"
     ]
    },
    {
     "name": "stdout",
     "output_type": "stream",
     "text": [
      "174050L091\n",
      "521050K010\n"
     ]
    },
    {
     "name": "stdout",
     "output_type": "stream",
     "text": [
      "178600L020\n",
      "178940H070\n"
     ]
    },
    {
     "name": "stdout",
     "output_type": "stream",
     "text": [
      "177000L310\n",
      "177010C170\n"
     ]
    },
    {
     "name": "stdout",
     "output_type": "stream",
     "text": [
      "172780E011\n",
      "2320909190\n"
     ]
    },
    {
     "name": "stdout",
     "output_type": "stream",
     "text": [
      "232910Y050\n",
      "521010K010\n"
     ]
    },
    {
     "name": "stdout",
     "output_type": "stream",
     "text": [
      "166200C031\n",
      "165710M080\n"
     ]
    },
    {
     "name": "stdout",
     "output_type": "stream",
     "text": [
      "163630H090\n",
      "520150D140\n"
     ]
    },
    {
     "name": "stdout",
     "output_type": "stream",
     "text": [
      "16271540201\n",
      "1610009460\n"
     ]
    },
    {
     "name": "stdout",
     "output_type": "stream",
     "text": [
      "162640D020\n",
      "162600Y110\n"
     ]
    },
    {
     "name": "stdout",
     "output_type": "stream",
     "text": [
      "164000M070\n",
      "165620T060\n"
     ]
    },
    {
     "name": "stdout",
     "output_type": "stream",
     "text": [
      "165630T060\n",
      "171770C010\n"
     ]
    },
    {
     "name": "stdout",
     "output_type": "stream",
     "text": [
      "164050C090\n",
      "164700V100\n"
     ]
    },
    {
     "name": "stdout",
     "output_type": "stream",
     "text": [
      "164050H050\n",
      "233000N091\n"
     ]
    },
    {
     "name": "stdout",
     "output_type": "stream",
     "text": [
      "233000L120\n",
      "531450K010\n"
     ]
    },
    {
     "name": "stdout",
     "output_type": "stream",
     "text": [
      "5320102370\n",
      "53127YP100\n"
     ]
    },
    {
     "name": "stdout",
     "output_type": "stream",
     "text": [
      "5315402120\n",
      "5540504040\n"
     ]
    },
    {
     "name": "stdout",
     "output_type": "stream",
     "text": [
      "555390K010B0\n",
      "556500K012E1\n"
     ]
    },
    {
     "name": "stdout",
     "output_type": "stream",
     "text": [
      "556600D070C0\n",
      "521190M951\n"
     ]
    },
    {
     "name": "stdout",
     "output_type": "stream",
     "text": [
      "55660KK050\n",
      "555500K010E0\n"
     ]
    },
    {
     "name": "stdout",
     "output_type": "stream",
     "text": [
      "55535KK020\n",
      "555500K070C0\n"
     ]
    },
    {
     "name": "stdout",
     "output_type": "stream",
     "text": [
      "55550KK060D0\n",
      "6178404020\n"
     ]
    },
    {
     "name": "stdout",
     "output_type": "stream",
     "text": [
      "61612KK010\n",
      "616810K904\n"
     ]
    },
    {
     "name": "stdout",
     "output_type": "stream",
     "text": [
      "624720DA70C0\n",
      "625510D470C0\n"
     ]
    },
    {
     "name": "stdout",
     "output_type": "stream",
     "text": [
      "624110K120B0\n",
      "55618KK060\n"
     ]
    },
    {
     "name": "stdout",
     "output_type": "stream",
     "text": [
      "554000A010C0\n",
      "55420KK430\n"
     ]
    },
    {
     "name": "stdout",
     "output_type": "stream",
     "text": [
      "55470YP050\n",
      "5211406220\n"
     ]
    },
    {
     "name": "stdout",
     "output_type": "stream",
     "text": [
      "5211502510\n",
      "48817YE010\n"
     ]
    },
    {
     "name": "stdout",
     "output_type": "stream",
     "text": [
      "4881502400\n",
      "4878006130\n"
     ]
    },
    {
     "name": "stdout",
     "output_type": "stream",
     "text": [
      "4865706020\n",
      "488300K010\n"
     ]
    },
    {
     "name": "stdout",
     "output_type": "stream",
     "text": [
      "512570K010\n",
      "561010A902\n"
     ]
    },
    {
     "name": "stdout",
     "output_type": "stream",
     "text": [
      "559000KC50\n",
      "521190M952\n"
     ]
    },
    {
     "name": "stdout",
     "output_type": "stream",
     "text": [
      "583070D480\n",
      "5830706250\n"
     ]
    },
    {
     "name": "stdout",
     "output_type": "stream",
     "text": [
      "561010KJ80\n",
      "570140D051\n"
     ]
    },
    {
     "name": "stdout",
     "output_type": "stream",
     "text": [
      "58151KK020\n",
      "5550106150A1\n"
     ]
    },
    {
     "name": "stdout",
     "output_type": "stream",
     "text": [
      "623120A010\n",
      "177300P010\n"
     ]
    },
    {
     "name": "stdout",
     "output_type": "stream",
     "text": [
      "623320D340\n",
      "623310D100\n"
     ]
    },
    {
     "name": "stdout",
     "output_type": "stream",
     "text": [
      "534200D040\n",
      "5325735030\n"
     ]
    },
    {
     "name": "stdout",
     "output_type": "stream",
     "text": [
      "5339502280\n",
      "533840K040\n"
     ]
    },
    {
     "name": "stdout",
     "output_type": "stream",
     "text": [
      "53301KK050\n",
      "53121YP903\n"
     ]
    },
    {
     "name": "stdout",
     "output_type": "stream",
     "text": [
      "521120K350\n",
      "53414891031\n"
     ]
    },
    {
     "name": "stdout",
     "output_type": "stream",
     "text": [
      "531170K010\n",
      "531210K030\n"
     ]
    },
    {
     "name": "stdout",
     "output_type": "stream",
     "text": [
      "531210K310\n",
      "53125YP100\n"
     ]
    },
    {
     "name": "stdout",
     "output_type": "stream",
     "text": [
      "531260K040\n",
      "5320306300\n"
     ]
    },
    {
     "name": "stdout",
     "output_type": "stream",
     "text": [
      "5320502170\n",
      "532140D220\n"
     ]
    },
    {
     "name": "stdout",
     "output_type": "stream",
     "text": [
      "5312106060\n",
      "533970K020\n"
     ]
    },
    {
     "name": "stdout",
     "output_type": "stream",
     "text": [
      "53298KK030\n",
      "532710D041\n"
     ]
    },
    {
     "name": "stdout",
     "output_type": "stream",
     "text": [
      "601170D070\n",
      "58921KK020B0\n"
     ]
    },
    {
     "name": "stdout",
     "output_type": "stream",
     "text": [
      "58861KK010\n",
      "58840YP010\n"
     ]
    },
    {
     "name": "stdout",
     "output_type": "stream",
     "text": [
      "58840KK020C0\n"
     ]
    },
    {
     "name": "stdout",
     "output_type": "stream",
     "text": [
      "58834KK080B1\n",
      "58834KK080B0\n"
     ]
    },
    {
     "name": "stdout",
     "output_type": "stream",
     "text": [
      "5869476010\n",
      "58745YP010\n"
     ]
    },
    {
     "name": "stdout",
     "output_type": "stream",
     "text": [
      "61415KK010\n",
      "6160102560\n"
     ]
    },
    {
     "name": "stdout",
     "output_type": "stream",
     "text": [
      "61061YP010\n",
      "5211906988\n"
     ]
    },
    {
     "name": "stdout",
     "output_type": "stream",
     "text": [
      "61061YP060C0\n",
      "53294KK100\n"
     ]
    },
    {
     "name": "stdout",
     "output_type": "stream",
     "text": [
      "53294KK030\n",
      "53293YP170\n"
     ]
    },
    {
     "name": "stdout",
     "output_type": "stream",
     "text": [
      "5211602500\n",
      "756930K010\n"
     ]
    },
    {
     "name": "stdout",
     "output_type": "stream",
     "text": [
      "1775002030\n",
      "049490K130\n"
     ]
    },
    {
     "name": "stdout",
     "output_type": "stream",
     "text": [
      "353010K010\n",
      "335840K010\n"
     ]
    },
    {
     "name": "stdout",
     "output_type": "stream",
     "text": [
      "338200D640\n",
      "4854009770\n"
     ]
    },
    {
     "name": "stdout",
     "output_type": "stream",
     "text": [
      "411100K590\n",
      "413420K040\n"
     ]
    },
    {
     "name": "stdout",
     "output_type": "stream",
     "text": [
      "413510K010\n",
      "372300K011\n"
     ]
    },
    {
     "name": "stdout",
     "output_type": "stream",
     "text": [
      "4230506120\n",
      "335540D380\n"
     ]
    },
    {
     "name": "stdout",
     "output_type": "stream",
     "text": [
      "412040K120\n"
     ]
    },
    {
     "name": "stdout",
     "output_type": "stream",
     "text": [
      "411100K650\n",
      "411100KC40\n"
     ]
    },
    {
     "name": "stdout",
     "output_type": "stream",
     "text": [
      "412140K040\n",
      "411100KC60\n"
     ]
    },
    {
     "name": "stdout",
     "output_type": "stream",
     "text": [
      "412040K060\n",
      "416540K010\n"
     ]
    },
    {
     "name": "stdout",
     "output_type": "stream",
     "text": [
      "314700D080\n",
      "411100K284\n"
     ]
    },
    {
     "name": "stdout",
     "output_type": "stream",
     "text": [
      "4806902050\n",
      "479000K050\n"
     ]
    },
    {
     "name": "stdout",
     "output_type": "stream",
     "text": [
      "4787906140\n",
      "4781433240\n"
     ]
    },
    {
     "name": "stdout",
     "output_type": "stream",
     "text": [
      "4781433211\n",
      "477690K220\n"
     ]
    },
    {
     "name": "stdout",
     "output_type": "stream",
     "text": [
      "477500K061\n",
      "479000K070\n"
     ]
    },
    {
     "name": "stdout",
     "output_type": "stream",
     "text": [
      "4806902060\n",
      "47715330501\n"
     ]
    },
    {
     "name": "stdout",
     "output_type": "stream",
     "text": [
      "4854009D10\n",
      "479310K010\n"
     ]
    },
    {
     "name": "stdout",
     "output_type": "stream",
     "text": [
      "48069F4020\n",
      "4813106A81\n"
     ]
    },
    {
     "name": "stdout",
     "output_type": "stream",
     "text": [
      "481310D820\n",
      "4794935010\n"
     ]
    },
    {
     "name": "stdout",
     "output_type": "stream",
     "text": [
      "4806802050\n",
      "479100K020\n"
     ]
    },
    {
     "name": "stdout",
     "output_type": "stream",
     "text": [
      "314340K111\n",
      "4860902310\n"
     ]
    },
    {
     "name": "stdout",
     "output_type": "stream",
     "text": [
      "31420BZ050\n",
      "424310K080\n"
     ]
    },
    {
     "name": "stdout",
     "output_type": "stream",
     "text": [
      "426030K060\n",
      "426110DF50\n"
     ]
    },
    {
     "name": "stdout",
     "output_type": "stream",
     "text": [
      "426110KG51\n",
      "426110KR30\n"
     ]
    },
    {
     "name": "stdout",
     "output_type": "stream",
     "text": [
      "4853109800\n",
      "42603YP040\n"
     ]
    },
    {
     "name": "stdout",
     "output_type": "stream",
     "text": [
      "423450K260\n",
      "4260B0K050\n"
     ]
    },
    {
     "name": "stdout",
     "output_type": "stream",
     "text": [
      "4260B0K350\n",
      "871030K311\n"
     ]
    },
    {
     "name": "stdout",
     "output_type": "stream",
     "text": [
      "871030D290\n",
      "861400KU50\n"
     ]
    },
    {
     "name": "stdout",
     "output_type": "stream",
     "text": [
      "861500K260\n",
      "8616002D30\n"
     ]
    },
    {
     "name": "stdout",
     "output_type": "stream",
     "text": [
      "861600K380\n",
      "4260B0K100\n"
     ]
    },
    {
     "name": "stdout",
     "output_type": "stream",
     "text": [
      "426030D200\n",
      "4431006180\n"
     ]
    },
    {
     "name": "stdout",
     "output_type": "stream",
     "text": [
      "4430306040\n",
      "314200K041\n"
     ]
    },
    {
     "name": "stdout",
     "output_type": "stream",
     "text": [
      "31394KK010\n",
      "281000L170\n"
     ]
    },
    {
     "name": "stdout",
     "output_type": "stream",
     "text": [
      "281500L030\n",
      "281500L260\n"
     ]
    },
    {
     "name": "stdout",
     "output_type": "stream",
     "text": [
      "335300K691\n",
      "314900K020\n"
     ]
    },
    {
     "name": "stdout",
     "output_type": "stream",
     "text": [
      "330340K070\n",
      "4477402180\n"
     ]
    },
    {
     "name": "stdout",
     "output_type": "stream",
     "text": [
      "42311KK010\n",
      "430400K010\n"
     ]
    },
    {
     "name": "stdout",
     "output_type": "stream",
     "text": [
      "432120K010\n",
      "4854109500\n"
     ]
    },
    {
     "name": "stdout",
     "output_type": "stream",
     "text": [
      "4334009100\n",
      "4355006020\n"
     ]
    },
    {
     "name": "stdout",
     "output_type": "stream",
     "text": [
      "4440606200\n",
      "444110K090\n"
     ]
    },
    {
     "name": "stdout",
     "output_type": "stream",
     "text": [
      "482520KC60\n",
      "482470K540\n"
     ]
    },
    {
     "name": "stdout",
     "output_type": "stream",
     "text": [
      "4851009J90\n",
      "484070K020\n"
     ]
    },
    {
     "name": "stdout",
     "output_type": "stream",
     "text": [
      "274150W021\n",
      "135620C010\n"
     ]
    },
    {
     "name": "stdout",
     "output_type": "stream",
     "text": [
      "135610M010\n",
      "135540C011\n"
     ]
    },
    {
     "name": "stdout",
     "output_type": "stream",
     "text": [
      "1320109303\n",
      "1320109C20\n"
     ]
    },
    {
     "name": "stdout",
     "output_type": "stream",
     "text": [
      "1320109D40\n",
      "044270K063\n"
     ]
    },
    {
     "name": "stdout",
     "output_type": "stream",
     "text": [
      "132010E010C0\n",
      "134700D030\n"
     ]
    },
    {
     "name": "stdout",
     "output_type": "stream",
     "text": [
      "151030C013\n",
      "153010L030\n"
     ]
    },
    {
     "name": "stdout",
     "output_type": "stream",
     "text": [
      "153010Y070\n",
      "485208Z071\n"
     ]
    },
    {
     "name": "stdout",
     "output_type": "stream",
     "text": [
      "156090C010\n",
      "131010Y130\n"
     ]
    },
    {
     "name": "stdout",
     "output_type": "stream",
     "text": [
      "132010E020A0\n",
      "4852009W10\n"
     ]
    },
    {
     "name": "stdout",
     "output_type": "stream",
     "text": [
      "044650K020\n",
      "044120K510\n"
     ]
    },
    {
     "name": "stdout",
     "output_type": "stream",
     "text": [
      "091110K112\n",
      "111150L011A0\n"
     ]
    },
    {
     "name": "stdout",
     "output_type": "stream",
     "text": [
      "122680L020\n",
      "123050M132\n"
     ]
    },
    {
     "name": "stdout",
     "output_type": "stream",
     "text": [
      "123050Y110\n",
      "4853002C71\n"
     ]
    },
    {
     "name": "stdout",
     "output_type": "stream",
     "text": [
      "049470K100\n",
      "117210H06102\n"
     ]
    },
    {
     "name": "stdout",
     "output_type": "stream",
     "text": [
      "117110Y01002\n",
      "049470K080\n"
     ]
    },
    {
     "name": "stdout",
     "output_type": "stream",
     "text": [
      "041750L012\n",
      "041750E040\n"
     ]
    },
    {
     "name": "stdout",
     "output_type": "stream",
     "text": [
      "041110C162\n",
      "043710K110\n"
     ]
    },
    {
     "name": "stdout",
     "output_type": "stream",
     "text": [
      "044950K130\n",
      "044650K590\n"
     ]
    },
    {
     "name": "stdout",
     "output_type": "stream",
     "text": [
      "043710K160\n",
      "137150C051\n"
     ]
    },
    {
     "name": "stdout",
     "output_type": "stream",
     "text": [
      "112010C041\n",
      "137150H020\n"
     ]
    },
    {
     "name": "stdout",
     "output_type": "stream",
     "text": [
      "131010Y120\n",
      "485108Z194\n"
     ]
    },
    {
     "name": "stdout",
     "output_type": "stream",
     "text": [
      "45100YP010C0\n",
      "452060K040\n"
     ]
    },
    {
     "name": "stdout",
     "output_type": "stream",
     "text": [
      "4504709370\n",
      "4504709250\n"
     ]
    },
    {
     "name": "stdout",
     "output_type": "stream",
     "text": [
      "452060K120\n",
      "4551002440\n"
     ]
    },
    {
     "name": "stdout",
     "output_type": "stream",
     "text": [
      "45100YP010C1\n"
     ]
    },
    {
     "name": "stdout",
     "output_type": "stream",
     "text": [
      "4553509250\n",
      "4546009240\n"
     ]
    },
    {
     "name": "stdout",
     "output_type": "stream",
     "text": [
      "4528602650C0\n"
     ]
    },
    {
     "name": "stdout",
     "output_type": "stream",
     "text": [
      "4528702650C0\n",
      "482100K530\n"
     ]
    },
    {
     "name": "stdout",
     "output_type": "stream",
     "text": [
      "482100K230\n"
     ]
    },
    {
     "name": "stdout",
     "output_type": "stream",
     "text": [
      "482310K290\n",
      "485108Z213\n"
     ]
    },
    {
     "name": "stdout",
     "output_type": "stream",
     "text": [
      "455380K010\n",
      "4513002100C0\n"
     ]
    },
    {
     "name": "stdout",
     "output_type": "stream",
     "text": [
      "472000K460\n",
      "473410K080\n"
     ]
    },
    {
     "name": "stdout",
     "output_type": "stream",
     "text": [
      "123710P081\n",
      "123710P071\n"
     ]
    },
    {
     "name": "stdout",
     "output_type": "stream",
     "text": [
      "123630T100\n",
      "131010L11001\n"
     ]
    },
    {
     "name": "stdout",
     "output_type": "stream",
     "text": [
      "131010L11003\n",
      "126010L030\n"
     ]
    },
    {
     "name": "stdout",
     "output_type": "stream",
     "text": [
      "130110H020\n",
      "485108Z443\n"
     ]
    },
    {
     "name": "stdout",
     "output_type": "stream",
     "text": [
      "464300K051\n",
      "4643002320\n"
     ]
    },
    {
     "name": "stdout",
     "output_type": "stream",
     "text": [
      "464100K011\n",
      "4641035420A1\n"
     ]
    },
    {
     "name": "stdout",
     "output_type": "stream",
     "text": [
      "464200D260\n",
      "464200D270\n"
     ]
    },
    {
     "name": "stdout",
     "output_type": "stream",
     "text": [
      "464200K030\n",
      "464300K120\n"
     ]
    },
    {
     "name": "stdout",
     "output_type": "stream",
     "text": [
      "473170K010\n",
      "137150C031\n"
     ]
    },
    {
     "name": "stdout",
     "output_type": "stream",
     "text": [
      "75555F4030\n",
      "521130K350\n"
     ]
    },
    {
     "name": "stdout",
     "output_type": "stream",
     "text": [
      "312500K321\n"
     ]
    },
    {
     "name": "stdout",
     "output_type": "stream",
     "text": [
      "768010K450\n"
     ]
    },
    {
     "name": "stdout",
     "output_type": "stream",
     "text": [
      "770350K040\n",
      "811100KB91\n"
     ]
    },
    {
     "name": "stdout",
     "output_type": "stream",
     "text": [
      "31210BZ021\n"
     ]
    },
    {
     "name": "stdout",
     "output_type": "stream",
     "text": [
      "9098111067\n"
     ]
    },
    {
     "name": "stdout",
     "output_type": "stream",
     "text": [
      "772090D160\n"
     ]
    },
    {
     "name": "stdout",
     "output_type": "stream",
     "text": [
      "746110K030E0\n"
     ]
    },
    {
     "name": "stdout",
     "output_type": "stream",
     "text": [
      "9004A94124\n"
     ]
    },
    {
     "name": "stdout",
     "output_type": "stream",
     "text": [
      "47715BZ120\n"
     ]
    },
    {
     "name": "stdout",
     "output_type": "stream",
     "text": [
      "531110K700\n",
      "758750K020\n"
     ]
    },
    {
     "name": "stdout",
     "output_type": "stream",
     "text": [
      "81150BZ620\n"
     ]
    },
    {
     "name": "stdout",
     "output_type": "stream",
     "text": [
      "130110Y030\n"
     ]
    },
    {
     "name": "stdout",
     "output_type": "stream",
     "text": [
      "7682702210\n",
      "90917T6003\n"
     ]
    },
    {
     "name": "stdout",
     "output_type": "stream",
     "text": [
      "772090K190\n",
      "879610KA40\n"
     ]
    },
    {
     "name": "stdout",
     "output_type": "stream",
     "text": [
      "872080K170\n",
      "771310K100\n"
     ]
    },
    {
     "name": "stdout",
     "output_type": "stream",
     "text": [
      "838820B010\n"
     ]
    },
    {
     "name": "stdout",
     "output_type": "stream",
     "text": [
      "13011BZ161\n",
      "865200D130\n"
     ]
    },
    {
     "name": "stdout",
     "output_type": "stream",
     "text": [
      "123720T440\n",
      "521590Z959\n"
     ]
    },
    {
     "name": "stdout",
     "output_type": "stream",
     "text": [
      "7662202908\n",
      "8465202750\n"
     ]
    },
    {
     "name": "stdout",
     "output_type": "stream",
     "text": [
      "885480K030\n",
      "091140K020\n"
     ]
    },
    {
     "name": "stdout",
     "output_type": "stream",
     "text": [
      "766480K080\n",
      "525750D240\n"
     ]
    },
    {
     "name": "stdout",
     "output_type": "stream",
     "text": [
      "531110K530\n",
      "53445BZ032\n"
     ]
    },
    {
     "name": "stdout",
     "output_type": "stream",
     "text": [
      "47121BZ010\n",
      "770010D280\n"
     ]
    },
    {
     "name": "stdout",
     "output_type": "stream",
     "text": [
      "485308Z122\n",
      "81130BZ330\n"
     ]
    },
    {
     "name": "stdout",
     "output_type": "stream",
     "text": [
      "521270K230\n",
      "754690K050\n"
     ]
    },
    {
     "name": "stdout",
     "output_type": "stream",
     "text": [
      "4815706201\n",
      "53291BZ040\n"
     ]
    },
    {
     "name": "stdout",
     "output_type": "stream",
     "text": [
      "47644BZ010\n",
      "7702416020\n"
     ]
    },
    {
     "name": "stdout",
     "output_type": "stream",
     "text": [
      "7555602240\n",
      "521240K010\n"
     ]
    },
    {
     "name": "stdout",
     "output_type": "stream",
     "text": [
      "521590K975\n"
     ]
    },
    {
     "name": "stdout",
     "output_type": "stream",
     "text": [
      "75573BZ040\n",
      "4806902280\n"
     ]
    },
    {
     "name": "stdout",
     "output_type": "stream",
     "text": [
      "7702416010\n",
      "9004A91063\n"
     ]
    },
    {
     "name": "stdout",
     "output_type": "stream",
     "text": [
      "521270D903\n",
      "535100D700\n"
     ]
    },
    {
     "name": "stdout",
     "output_type": "stream",
     "text": [
      "76891YZB12\n",
      "8153652C80\n"
     ]
    },
    {
     "name": "stdout",
     "output_type": "stream",
     "text": [
      "52101BZA20\n",
      "4815802150\n"
     ]
    },
    {
     "name": "stdout",
     "output_type": "stream",
     "text": [
      "521400K021\n",
      "53510BZ210\n"
     ]
    },
    {
     "name": "stdout",
     "output_type": "stream",
     "text": [
      "81170BZ610\n",
      "74611BZ060B1\n"
     ]
    },
    {
     "name": "stdout",
     "output_type": "stream",
     "text": [
      "770350D140\n",
      "5212502470\n"
     ]
    },
    {
     "name": "stdout",
     "output_type": "stream",
     "text": [
      "162610T160\n",
      "52119F0930\n"
     ]
    },
    {
     "name": "stdout",
     "output_type": "stream",
     "text": [
      "81170BZ270\n",
      "69350BZ170\n"
     ]
    },
    {
     "name": "stdout",
     "output_type": "stream",
     "text": [
      "4341002C90\n",
      "8423771040\n"
     ]
    },
    {
     "name": "stdout",
     "output_type": "stream",
     "text": [
      "761800K905\n",
      "53203BZ190\n"
     ]
    },
    {
     "name": "stdout",
     "output_type": "stream",
     "text": [
      "815910D540\n",
      "7680106820\n"
     ]
    },
    {
     "name": "stdout",
     "output_type": "stream",
     "text": [
      "157080Y040\n",
      "9004C33005\n"
     ]
    },
    {
     "name": "stdout",
     "output_type": "stream",
     "text": [
      "8794506911\n",
      "7680106830\n"
     ]
    },
    {
     "name": "stdout",
     "output_type": "stream",
     "text": [
      "9004A31051\n",
      "884600K330\n"
     ]
    },
    {
     "name": "stdout",
     "output_type": "stream",
     "text": [
      "16400BZA40\n",
      "5256302310\n"
     ]
    },
    {
     "name": "stdout",
     "output_type": "stream",
     "text": [
      "521560D080\n",
      "114000C230\n"
     ]
    },
    {
     "name": "stdout",
     "output_type": "stream",
     "text": [
      "768010A900\n",
      "9004A31017\n"
     ]
    },
    {
     "name": "stdout",
     "output_type": "stream",
     "text": [
      "9004A31043\n",
      "049470K020\n"
     ]
    },
    {
     "name": "stdout",
     "output_type": "stream",
     "text": [
      "165350A080\n",
      "755610A050\n"
     ]
    },
    {
     "name": "stdout",
     "output_type": "stream",
     "text": [
      "87910BZ720\n",
      "8793102B60\n"
     ]
    },
    {
     "name": "stdout",
     "output_type": "stream",
     "text": [
      "90948T1014\n",
      "86212BZ171\n"
     ]
    },
    {
     "name": "stdout",
     "output_type": "stream",
     "text": [
      "88504BZ030\n",
      "52119F0904\n"
     ]
    },
    {
     "name": "stdout",
     "output_type": "stream",
     "text": [
      "522010B021\n",
      "852120D150\n"
     ]
    },
    {
     "name": "stdout",
     "output_type": "stream",
     "text": [
      "526140K130\n",
      "178930C040\n"
     ]
    },
    {
     "name": "stdout",
     "output_type": "stream",
     "text": [
      "17735BZ030\n",
      "879150K920\n"
     ]
    },
    {
     "name": "stdout",
     "output_type": "stream",
     "text": [
      "487200K010\n",
      "768110K520\n"
     ]
    },
    {
     "name": "stdout",
     "output_type": "stream",
     "text": [
      "5212906480\n",
      "486300K100\n"
     ]
    },
    {
     "name": "stdout",
     "output_type": "stream",
     "text": [
      "123720Y033\n"
     ]
    },
    {
     "name": "stdout",
     "output_type": "stream",
     "text": [
      "90177T0015\n",
      "838820B590\n"
     ]
    },
    {
     "name": "stdout",
     "output_type": "stream",
     "text": [
      "117010C01101\n",
      "761800K909\n"
     ]
    },
    {
     "name": "stdout",
     "output_type": "stream",
     "text": [
      "521190Z955\n",
      "049430K090\n"
     ]
    },
    {
     "name": "stdout",
     "output_type": "stream",
     "text": [
      "11213BZ080\n",
      "759230K030\n"
     ]
    },
    {
     "name": "stdout",
     "output_type": "stream",
     "text": [
      "847250K080\n",
      "522040K120\n"
     ]
    },
    {
     "name": "stdout",
     "output_type": "stream",
     "text": [
      "53211BZ150\n",
      "759240K030\n"
     ]
    },
    {
     "name": "stdout",
     "output_type": "stream",
     "text": [
      "8531502610\n",
      "852140D340\n"
     ]
    },
    {
     "name": "stdout",
     "output_type": "stream",
     "text": [
      "11400BZX30\n",
      "371000KJ61\n"
     ]
    },
    {
     "name": "stdout",
     "output_type": "stream",
     "text": [
      "90460T0020\n",
      "11201BZ100\n"
     ]
    },
    {
     "name": "stdout",
     "output_type": "stream",
     "text": [
      "768250K140\n",
      "85315BZ140\n"
     ]
    },
    {
     "name": "stdout",
     "output_type": "stream",
     "text": [
      "8791506911\n",
      "754730K011\n"
     ]
    },
    {
     "name": "stdout",
     "output_type": "stream",
     "text": [
      "334240K010\n",
      "76801YP900\n"
     ]
    },
    {
     "name": "stdout",
     "output_type": "stream",
     "text": [
      "13520BZ050\n",
      "521300K021\n"
     ]
    },
    {
     "name": "stdout",
     "output_type": "stream",
     "text": [
      "521660K021\n",
      "85212BZ010\n"
     ]
    },
    {
     "name": "stdout",
     "output_type": "stream",
     "text": [
      "33482B9130\n",
      "67005BZD80\n"
     ]
    },
    {
     "name": "stdout",
     "output_type": "stream",
     "text": [
      "75312BZ070\n",
      "89465BZ340\n"
     ]
    },
    {
     "name": "stdout",
     "output_type": "stream",
     "text": [
      "15330BZ070\n",
      "48706BZ050\n"
     ]
    },
    {
     "name": "stdout",
     "output_type": "stream",
     "text": [
      "521420K010\n",
      "8148102B40\n"
     ]
    },
    {
     "name": "stdout",
     "output_type": "stream",
     "text": [
      "7571002550\n"
     ]
    },
    {
     "name": "stdout",
     "output_type": "stream",
     "text": [
      "53301BZ220\n",
      "6921102938\n"
     ]
    },
    {
     "name": "stdout",
     "output_type": "stream",
     "text": [
      "754420D400\n",
      "532010K130\n"
     ]
    },
    {
     "name": "stdout",
     "output_type": "stream",
     "text": [
      "7507602903\n",
      "48706BZ041\n"
     ]
    },
    {
     "name": "stdout",
     "output_type": "stream",
     "text": [
      "61611BZ440\n",
      "485208Z266\n"
     ]
    },
    {
     "name": "stdout",
     "output_type": "stream",
     "text": [
      "75362YE030\n",
      "67935KK010C0\n"
     ]
    },
    {
     "name": "stdout",
     "output_type": "stream",
     "text": [
      "85212BZ210\n",
      "7507202903\n"
     ]
    },
    {
     "name": "stdout",
     "output_type": "stream",
     "text": [
      "754270K080\n",
      "67005BZB30\n"
     ]
    },
    {
     "name": "stdout",
     "output_type": "stream",
     "text": [
      "67005BZB90\n",
      "48815BZ240\n"
     ]
    },
    {
     "name": "stdout",
     "output_type": "stream",
     "text": [
      "75385YZB144\n",
      "52159BZ020\n"
     ]
    },
    {
     "name": "stdout",
     "output_type": "stream",
     "text": [
      "67003BZ680\n",
      "81550BZ490\n"
     ]
    },
    {
     "name": "stdout",
     "output_type": "stream",
     "text": [
      "53401BZ050\n",
      "757540A020\n"
     ]
    },
    {
     "name": "stdout",
     "output_type": "stream",
     "text": [
      "814960D070\n",
      "67913BZ110B0\n"
     ]
    },
    {
     "name": "stdout",
     "output_type": "stream",
     "text": [
      "692040D170\n",
      "52156BZ130\n"
     ]
    },
    {
     "name": "stdout",
     "output_type": "stream",
     "text": [
      "27060BZ351\n",
      "755610K010\n"
     ]
    },
    {
     "name": "stdout",
     "output_type": "stream",
     "text": [
      "485308Z120\n",
      "31340BZ140\n"
     ]
    },
    {
     "name": "stdout",
     "output_type": "stream",
     "text": [
      "163210C010\n",
      "75770YP050C0\n"
     ]
    },
    {
     "name": "stdout",
     "output_type": "stream",
     "text": [
      "52119F2927\n",
      "335060K070\n"
     ]
    },
    {
     "name": "stdout",
     "output_type": "stream",
     "text": [
      "485308Z118\n",
      "69998BZ010\n"
     ]
    },
    {
     "name": "stdout",
     "output_type": "stream",
     "text": [
      "757410K912\n",
      "778400K021\n"
     ]
    },
    {
     "name": "stdout",
     "output_type": "stream",
     "text": [
      "4720102770\n",
      "6921102937\n"
     ]
    },
    {
     "name": "stdout",
     "output_type": "stream",
     "text": [
      "68151BZ090\n",
      "7575306170\n"
     ]
    },
    {
     "name": "stdout",
     "output_type": "stream",
     "text": [
      "164050C030\n",
      "811560KC90\n"
     ]
    },
    {
     "name": "stdout",
     "output_type": "stream",
     "text": [
      "5212706530\n",
      "485108Z418\n"
     ]
    },
    {
     "name": "stdout",
     "output_type": "stream",
     "text": [
      "7575406170\n",
      "69057BZ020\n"
     ]
    },
    {
     "name": "stdout",
     "output_type": "stream",
     "text": [
      "75129BZ010\n",
      "755510K160\n"
     ]
    },
    {
     "name": "stdout",
     "output_type": "stream",
     "text": [
      "522040K030\n",
      "85241BZ150\n"
     ]
    },
    {
     "name": "stdout",
     "output_type": "stream",
     "text": [
      "4553509410\n",
      "755520D060\n"
     ]
    },
    {
     "name": "stdout",
     "output_type": "stream",
     "text": [
      "6921702280\n",
      "7544202540\n"
     ]
    },
    {
     "name": "stdout",
     "output_type": "stream",
     "text": [
      "755520D121\n",
      "47643BZ010\n"
     ]
    },
    {
     "name": "stdout",
     "output_type": "stream",
     "text": [
      "51443BZ080\n",
      "81551BZ240\n"
     ]
    },
    {
     "name": "stdout",
     "output_type": "stream",
     "text": [
      "48231BZ830\n",
      "63403BZ010\n"
     ]
    },
    {
     "name": "stdout",
     "output_type": "stream",
     "text": [
      "692170K250\n",
      "682100K100\n"
     ]
    },
    {
     "name": "stdout",
     "output_type": "stream",
     "text": [
      "75479YZB174\n",
      "53100YP031\n"
     ]
    },
    {
     "name": "stdout",
     "output_type": "stream",
     "text": [
      "123090V130\n",
      "6812402370\n"
     ]
    },
    {
     "name": "stdout",
     "output_type": "stream",
     "text": [
      "487500D161\n",
      "561010A910\n"
     ]
    },
    {
     "name": "stdout",
     "output_type": "stream",
     "text": [
      "531170K210\n",
      "521870B010\n"
     ]
    },
    {
     "name": "stdout",
     "output_type": "stream",
     "text": [
      "63495BZ032\n",
      "8414006550\n"
     ]
    },
    {
     "name": "stdout",
     "output_type": "stream",
     "text": [
      "81170BZ330\n",
      "533010A030\n"
     ]
    },
    {
     "name": "stdout",
     "output_type": "stream",
     "text": [
      "9004A11331\n",
      "872450K260\n"
     ]
    },
    {
     "name": "stdout",
     "output_type": "stream",
     "text": [
      "09111BZ090\n"
     ]
    },
    {
     "name": "stdout",
     "output_type": "stream",
     "text": [
      "4875502030\n",
      "891700A090\n"
     ]
    },
    {
     "name": "stdout",
     "output_type": "stream",
     "text": [
      "682110B010\n",
      "521590A100\n"
     ]
    },
    {
     "name": "stdout",
     "output_type": "stream",
     "text": [
      "848400K050\n",
      "811798C000\n"
     ]
    },
    {
     "name": "stdout",
     "output_type": "stream",
     "text": [
      "897820K150\n",
      "53639BZ050\n"
     ]
    },
    {
     "name": "stdout",
     "output_type": "stream",
     "text": [
      "843120B010\n",
      "648010D360\n"
     ]
    },
    {
     "name": "stdout",
     "output_type": "stream",
     "text": [
      "521620A020\n",
      "521190Z978\n"
     ]
    },
    {
     "name": "stdout",
     "output_type": "stream",
     "text": [
      "815510K630\n",
      "17700F3030\n"
     ]
    },
    {
     "name": "stdout",
     "output_type": "stream",
     "text": [
      "9004A19005\n",
      "1780138051\n"
     ]
    },
    {
     "name": "stdout",
     "output_type": "stream",
     "text": [
      "8537397202\n",
      "8155126490\n"
     ]
    },
    {
     "name": "stdout",
     "output_type": "stream",
     "text": [
      "9008094032\n",
      "8113006B60\n"
     ]
    },
    {
     "name": "stdout",
     "output_type": "stream",
     "text": [
      "84340B2061\n",
      "9095001999\n"
     ]
    },
    {
     "name": "stdout",
     "output_type": "stream",
     "text": [
      "532050A030\n",
      "165610T290\n"
     ]
    },
    {
     "name": "stdout",
     "output_type": "stream",
     "text": [
      "5338226010\n",
      "67620BZ860C2\n"
     ]
    },
    {
     "name": "stdout",
     "output_type": "stream",
     "text": [
      "5870750060\n",
      "5193110030\n"
     ]
    },
    {
     "name": "stdout",
     "output_type": "stream",
     "text": [
      "6325158050\n",
      "9011916005\n"
     ]
    },
    {
     "name": "stdout",
     "output_type": "stream",
     "text": [
      "62712BZ340\n",
      "9046717026A0\n"
     ]
    },
    {
     "name": "stdout",
     "output_type": "stream",
     "text": [
      "9095006096\n",
      "1780150030\n"
     ]
    },
    {
     "name": "stdout",
     "output_type": "stream",
     "text": [
      "9031138051\n",
      "9094202082\n"
     ]
    },
    {
     "name": "stdout",
     "output_type": "stream",
     "text": [
      "9099900174\n",
      "8934833060B9\n"
     ]
    },
    {
     "name": "stdout",
     "output_type": "stream",
     "text": [
      "1780117020\n",
      "9031634001\n"
     ]
    },
    {
     "name": "stdout",
     "output_type": "stream",
     "text": [
      "2330020130\n",
      "6211058040\n"
     ]
    },
    {
     "name": "stdout",
     "output_type": "stream",
     "text": [
      "PG17606020\n",
      "9031135064\n"
     ]
    },
    {
     "name": "stdout",
     "output_type": "stream",
     "text": [
      "9095001759\n",
      "7680126350\n"
     ]
    },
    {
     "name": "stdout",
     "output_type": "stream",
     "text": [
      "7688126010\n",
      "52159BZP50\n"
     ]
    },
    {
     "name": "stdout",
     "output_type": "stream",
     "text": [
      "7461758010B0\n"
     ]
    },
    {
     "name": "stdout",
     "output_type": "stream",
     "text": [
      "8616033A00\n"
     ]
    },
    {
     "name": "stdout",
     "output_type": "stream",
     "text": [
      "7531047020\n",
      "4776928570\n"
     ]
    },
    {
     "name": "stdout",
     "output_type": "stream",
     "text": [
      "8149650010\n",
      "8211458660\n"
     ]
    },
    {
     "name": "stdout",
     "output_type": "stream",
     "text": [
      "5310148B30\n",
      "5311226090\n"
     ]
    },
    {
     "name": "stdout",
     "output_type": "stream",
     "text": [
      "5202126020\n",
      "8990458240\n"
     ]
    },
    {
     "name": "stdout",
     "output_type": "stream",
     "text": [
      "7539758040\n",
      "5215958930\n"
     ]
    },
    {
     "name": "stdout",
     "output_type": "stream",
     "text": [
      "8934133190A1\n",
      "8148226100\n"
     ]
    },
    {
     "name": "stdout",
     "output_type": "stream",
     "text": [
      "5267558020\n",
      "1111554130F0\n"
     ]
    },
    {
     "name": "stdout",
     "output_type": "stream",
     "text": [
      "1230521220\n",
      "1657254320\n"
     ]
    },
    {
     "name": "stdout",
     "output_type": "stream",
     "text": [
      "9010906385\n"
     ]
    },
    {
     "name": "stdout",
     "output_type": "stream",
     "text": [
      "9026906019\n",
      "090321C120\n"
     ]
    },
    {
     "name": "stdout",
     "output_type": "stream",
     "text": [
      "9010906272\n",
      "8934850130\n"
     ]
    },
    {
     "name": "stdout",
     "output_type": "stream",
     "text": [
      "090511C200\n",
      "3516833080\n"
     ]
    },
    {
     "name": "stdout",
     "output_type": "stream",
     "text": [
      "090411C501\n"
     ]
    },
    {
     "name": "stdout",
     "output_type": "stream",
     "text": [
      "9031135048\n",
      "9031113001\n"
     ]
    },
    {
     "name": "stdout",
     "output_type": "stream",
     "text": [
      "1350675050\n",
      "1119338020\n"
     ]
    },
    {
     "name": "stdout",
     "output_type": "stream",
     "text": [
      "1717711080\n",
      "45046BZ010\n"
     ]
    },
    {
     "name": "stdout",
     "output_type": "stream",
     "text": [
      "9015950336\n",
      "5387947020\n"
     ]
    },
    {
     "name": "stdout",
     "output_type": "stream",
     "text": [
      "1745124020\n",
      "9011608377\n"
     ]
    },
    {
     "name": "stdout",
     "output_type": "stream",
     "text": [
      "4260350381\n",
      "130410M01201\n"
     ]
    },
    {
     "name": "stdout",
     "output_type": "stream",
     "text": [
      "9015960535\n",
      "9018906227\n"
     ]
    },
    {
     "name": "stdout",
     "output_type": "stream",
     "text": [
      "1356859095\n",
      "52713BZ490\n"
     ]
    },
    {
     "name": "stdout",
     "output_type": "stream",
     "text": [
      "68102BZ390\n",
      "9031148031\n"
     ]
    },
    {
     "name": "stdout",
     "output_type": "stream",
     "text": [
      "8934876010\n",
      "8713950030\n"
     ]
    },
    {
     "name": "stdout",
     "output_type": "stream",
     "text": [
      "9098209002\n",
      "9031155002\n"
     ]
    },
    {
     "name": "stdout",
     "output_type": "stream",
     "text": [
      "9011918012\n",
      "4776933020\n"
     ]
    },
    {
     "name": "stdout",
     "output_type": "stream",
     "text": [
      "4550329565\n",
      "47715BZ170\n"
     ]
    },
    {
     "name": "stdout",
     "output_type": "stream",
     "text": [
      "812210K090\n",
      "87940BZG10\n"
     ]
    },
    {
     "name": "stdout",
     "output_type": "stream",
     "text": [
      "87910BZL60\n",
      "17700BZ260\n"
     ]
    },
    {
     "name": "stdout",
     "output_type": "stream",
     "text": [
      "1310122200\n",
      "68189BZ110\n"
     ]
    },
    {
     "name": "stdout",
     "output_type": "stream",
     "text": [
      "5590589115\n",
      "53341BZ150\n"
     ]
    },
    {
     "name": "stdout",
     "output_type": "stream",
     "text": [
      "62766BZ060\n",
      "65637BZ270\n"
     ]
    },
    {
     "name": "stdout",
     "output_type": "stream",
     "text": [
      "53393BZ030\n"
     ]
    },
    {
     "name": "stdout",
     "output_type": "stream",
     "text": [
      "52119YP926\n",
      "69220BZ550\n"
     ]
    },
    {
     "name": "stdout",
     "output_type": "stream",
     "text": [
      "47121BZ080\n",
      "31394BZ170\n"
     ]
    },
    {
     "name": "stdout",
     "output_type": "stream",
     "text": [
      "89341BZ350D5\n",
      "74233BZ020C0\n"
     ]
    },
    {
     "name": "stdout",
     "output_type": "stream",
     "text": [
      "58308BZ230\n",
      "89348BZ110B1\n"
     ]
    },
    {
     "name": "stdout",
     "output_type": "stream",
     "text": [
      "P44010D002\n",
      "88712BZ820\n"
     ]
    },
    {
     "name": "stdout",
     "output_type": "stream",
     "text": [
      "7544128830\n",
      "53112YP500\n"
     ]
    },
    {
     "name": "stdout",
     "output_type": "stream",
     "text": [
      "68143BZ120\n",
      "82197KKR20\n"
     ]
    },
    {
     "name": "stdout",
     "output_type": "stream",
     "text": [
      "533820B010\n",
      "90301T0097\n"
     ]
    },
    {
     "name": "stdout",
     "output_type": "stream",
     "text": [
      "53123BZ280\n",
      "52113YP060A1\n"
     ]
    },
    {
     "name": "stdout",
     "output_type": "stream",
     "text": [
      "67005BZG40\n",
      "17451BZ110\n"
     ]
    },
    {
     "name": "stdout",
     "output_type": "stream",
     "text": [
      "84999BZ060\n",
      "81580BZ160\n"
     ]
    },
    {
     "name": "stdout",
     "output_type": "stream",
     "text": [
      "81156BZ030\n",
      "86520BZ290\n"
     ]
    },
    {
     "name": "stdout",
     "output_type": "stream",
     "text": [
      "52472BZ010\n",
      "7373306010E0\n"
     ]
    },
    {
     "name": "stdout",
     "output_type": "stream",
     "text": [
      "61628BZ160\n",
      "52562BZ050\n"
     ]
    },
    {
     "name": "stdout",
     "output_type": "stream",
     "text": [
      "52143BZ040\n",
      "561010X907\n"
     ]
    },
    {
     "name": "stdout",
     "output_type": "stream",
     "text": [
      "85243BZ150\n",
      "85214BZ460\n"
     ]
    },
    {
     "name": "stdout",
     "output_type": "stream",
     "text": [
      "16571BZ400\n",
      "67005BZG60\n"
     ]
    },
    {
     "name": "stdout",
     "output_type": "stream",
     "text": [
      "31250BZ171\n",
      "754410A060\n"
     ]
    },
    {
     "name": "stdout",
     "output_type": "stream",
     "text": [
      "81110YP211\n",
      "131010E05102\n"
     ]
    },
    {
     "name": "stdout",
     "output_type": "stream",
     "text": [
      "45535BZ200\n",
      "2367009540\n"
     ]
    },
    {
     "name": "stdout",
     "output_type": "stream",
     "text": [
      "17700BZ270\n",
      "624040A013\n"
     ]
    },
    {
     "name": "stdout",
     "output_type": "stream",
     "text": [
      "897800K071\n",
      "PC3820K01G\n"
     ]
    },
    {
     "name": "stdout",
     "output_type": "stream",
     "text": [
      "091110K162\n",
      "442500K763\n"
     ]
    },
    {
     "name": "stdout",
     "output_type": "stream",
     "text": [
      "9004311440\n",
      "131010E05101\n"
     ]
    },
    {
     "name": "stdout",
     "output_type": "stream",
     "text": [
      "87915BZ730\n",
      "67935BZ120C0\n"
     ]
    },
    {
     "name": "stdout",
     "output_type": "stream",
     "text": [
      "53209BZ170\n",
      "853210A010\n"
     ]
    },
    {
     "name": "stdout",
     "output_type": "stream",
     "text": [
      "74320BZD60B0\n",
      "517010K210\n"
     ]
    },
    {
     "name": "stdout",
     "output_type": "stream",
     "text": [
      "750760A021\n",
      "48815BZ350\n"
     ]
    },
    {
     "name": "stdout",
     "output_type": "stream",
     "text": [
      "51201BZ161\n",
      "53100YP241\n"
     ]
    },
    {
     "name": "stdout",
     "output_type": "stream",
     "text": [
      "9004A11373\n"
     ]
    },
    {
     "name": "stdout",
     "output_type": "stream",
     "text": [
      "517020K200\n"
     ]
    },
    {
     "name": "stdout",
     "output_type": "stream",
     "text": [
      "04112BZC00\n",
      "811500KJ71\n"
     ]
    },
    {
     "name": "stdout",
     "output_type": "stream",
     "text": [
      "53112YP371\n",
      "47230F4010\n"
     ]
    },
    {
     "name": "stdout",
     "output_type": "stream",
     "text": [
      "P41860K005\n",
      "531000KG81\n"
     ]
    },
    {
     "name": "stdout",
     "output_type": "stream",
     "text": [
      "53128BZ010\n",
      "04465B1420\n"
     ]
    },
    {
     "name": "stdout",
     "output_type": "stream",
     "text": [
      "17752BZ100\n",
      "04495B1320\n"
     ]
    },
    {
     "name": "stdout",
     "output_type": "stream",
     "text": [
      "81561BZ510\n",
      "17751BZ190\n"
     ]
    },
    {
     "name": "stdout",
     "output_type": "stream",
     "text": [
      "52575BZ010\n",
      "48815BZ360\n"
     ]
    },
    {
     "name": "stdout",
     "output_type": "stream",
     "text": [
      "45046BZ260\n",
      "81561BZ500\n"
     ]
    },
    {
     "name": "stdout",
     "output_type": "stream",
     "text": [
      "67004BZ770\n",
      "42638BZ680\n"
     ]
    },
    {
     "name": "stdout",
     "output_type": "stream",
     "text": [
      "58315BZ110\n",
      "811500KN70\n"
     ]
    },
    {
     "name": "stdout",
     "output_type": "stream",
     "text": [
      "67002BZ760\n",
      "84870BZ240\n"
     ]
    },
    {
     "name": "stdout",
     "output_type": "stream",
     "text": [
      "648010K122\n",
      "86520BZ430\n"
     ]
    },
    {
     "name": "stdout",
     "output_type": "stream",
     "text": [
      "55169BZ220\n",
      "88561BZB30\n"
     ]
    },
    {
     "name": "stdout",
     "output_type": "stream",
     "text": [
      "81110YP370\n",
      "51900BZ130\n"
     ]
    },
    {
     "name": "stdout",
     "output_type": "stream",
     "text": [
      "811100KN70\n"
     ]
    },
    {
     "name": "stdout",
     "output_type": "stream",
     "text": [
      "42611BZG20\n",
      "53812BZ640\n"
     ]
    },
    {
     "name": "stdout",
     "output_type": "stream",
     "text": [
      "52159BZ901\n",
      "68610BZ240\n"
     ]
    },
    {
     "name": "stdout",
     "output_type": "stream",
     "text": [
      "53114BZ150\n",
      "62930BZ170\n"
     ]
    },
    {
     "name": "stdout",
     "output_type": "stream",
     "text": [
      "52127BZC60C0\n"
     ]
    },
    {
     "name": "stdout",
     "output_type": "stream",
     "text": [
      "65638BZ310\n",
      "43410BZ250\n"
     ]
    },
    {
     "name": "stdout",
     "output_type": "stream",
     "text": [
      "88460BZ340\n",
      "135080E011\n"
     ]
    },
    {
     "name": "stdout",
     "output_type": "stream",
     "text": [
      "48684BZ130\n",
      "48710BZ480\n"
     ]
    },
    {
     "name": "stdout",
     "output_type": "stream",
     "text": [
      "73910BZ070\n",
      "517950K200\n"
     ]
    },
    {
     "name": "stdout",
     "output_type": "stream",
     "text": [
      "81156BZB30\n",
      "53805BZ120\n"
     ]
    },
    {
     "name": "stdout",
     "output_type": "stream",
     "text": [
      "61063BZ070\n",
      "PC1760K01H\n"
     ]
    },
    {
     "name": "stdout",
     "output_type": "stream",
     "text": [
      "81150YP380\n",
      "89341BZ200B0\n"
     ]
    },
    {
     "name": "stdout",
     "output_type": "stream",
     "text": [
      "8110A02U30\n",
      "89994BZ170\n"
     ]
    },
    {
     "name": "stdout",
     "output_type": "stream",
     "text": [
      "8110B02U20\n",
      "174300T740\n"
     ]
    },
    {
     "name": "stdout",
     "output_type": "stream",
     "text": [
      "288000T341\n",
      "PS382BY004\n"
     ]
    },
    {
     "name": "stdout",
     "output_type": "stream",
     "text": [
      "PC55712001\n",
      "PC1860K1Q3\n"
     ]
    }
   ],
   "source": [
    "prefix_xgb_pickle = f\"{config.get_value('primary_path')}/{config.get_value('tpcap_model')}/{config.get_value('model_training_date')}/{'xgboost'}\"\n",
    "old_data_xgb = old_data[old_data['part_number'].isin(xgb_parts)]\n",
    "xgb_data_forecast = xgboost_lag1_forecast(old_data_xgb, bucket, prefix_xgb_pickle, last_tr_date).reset_index(drop=True)"
   ]
  },
  {
   "cell_type": "markdown",
   "id": "1318e8fb",
   "metadata": {},
   "source": [
    "#### Saving XGBoost forecast file"
   ]
  },
  {
   "cell_type": "code",
   "execution_count": 25,
   "id": "0da86a92-873f-4dda-a875-8ed4648a6444",
   "metadata": {
    "execution": {
     "iopub.execute_input": "2024-11-05T11:16:51.467628Z",
     "iopub.status.busy": "2024-11-05T11:16:51.467349Z",
     "iopub.status.idle": "2024-11-05T11:16:56.982799Z",
     "shell.execute_reply": "2024-11-05T11:16:56.982189Z"
    }
   },
   "outputs": [],
   "source": [
    "full_path_xgb_forecast = f\"s3://{bucket}/{prefix_reg_forecast}\"\n",
    "xgb_forecast_file_name = f'{config.get_value(\"xgb_forecast_file_name\")}{file_date_forecasting}.xlsx'\n",
    "\n",
    "# saving file\n",
    "xgb_data_forecast.to_excel(f\"{full_path_xgb_forecast}/{config.get_value('model_forecasting_date')}/{xgb_forecast_file_name}\", index=False)"
   ]
  },
  {
   "cell_type": "code",
   "execution_count": null,
   "id": "60d00ca3-c32d-4cda-8025-fa18aaad8f4e",
   "metadata": {},
   "outputs": [],
   "source": []
  },
  {
   "cell_type": "code",
   "execution_count": null,
   "id": "88a7d4bc",
   "metadata": {},
   "outputs": [],
   "source": []
  }
 ],
 "metadata": {
  "kernelspec": {
   "display_name": "conda_pytorch_p310",
   "language": "python",
   "name": "conda_pytorch_p310"
  },
  "language_info": {
   "codemirror_mode": {
    "name": "ipython",
    "version": 3
   },
   "file_extension": ".py",
   "mimetype": "text/x-python",
   "name": "python",
   "nbconvert_exporter": "python",
   "pygments_lexer": "ipython3",
   "version": "3.10.14"
  }
 },
 "nbformat": 4,
 "nbformat_minor": 5
}
